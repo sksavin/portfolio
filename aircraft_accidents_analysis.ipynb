{
  "cells": [
    {
      "cell_type": "markdown",
      "metadata": {
        "id": "pvBBb0t72K5R"
      },
      "source": [
        "# Исследование авиакатастроф и происшествий #\n"
      ]
    },
    {
      "cell_type": "markdown",
      "metadata": {
        "id": "bRKzVbFL2K5S"
      },
      "source": [
        "Импортируем необходимые библиотеки и открываем датафрейм"
      ]
    },
    {
      "cell_type": "code",
      "execution_count": null,
      "metadata": {
        "colab": {
          "base_uri": "https://localhost:8080/",
          "height": 1000
        },
        "id": "3IzyEFX62K5S",
        "outputId": "7783131e-e407-4823-e8e1-da4f889fa1b1",
        "scrolled": true
      },
      "outputs": [
        {
          "data": {
            "application/vnd.google.colaboratory.intrinsic+json": {
              "summary": "{\n  \"name\": \"df\",\n  \"rows\": 4998,\n  \"fields\": [\n    {\n      \"column\": \"Date\",\n      \"properties\": {\n        \"dtype\": \"object\",\n        \"num_unique_values\": 4570,\n        \"samples\": [\n          \"6/2/1958\",\n          \"12/16/1918\",\n          \"11/23/1931\"\n        ],\n        \"semantic_type\": \"\",\n        \"description\": \"\"\n      }\n    },\n    {\n      \"column\": \"Time\",\n      \"properties\": {\n        \"dtype\": \"category\",\n        \"num_unique_values\": 1060,\n        \"samples\": [\n          \"2:08\",\n          \"13:53\",\n          \"22:35\"\n        ],\n        \"semantic_type\": \"\",\n        \"description\": \"\"\n      }\n    },\n    {\n      \"column\": \"Location\",\n      \"properties\": {\n        \"dtype\": \"string\",\n        \"num_unique_values\": 4122,\n        \"samples\": [\n          \"Cachimbo, Brazil\",\n          \"Montenegrin Mountains, Yugoslavia\",\n          \"Petersburg, Illinois\"\n        ],\n        \"semantic_type\": \"\",\n        \"description\": \"\"\n      }\n    },\n    {\n      \"column\": \"Operator\",\n      \"properties\": {\n        \"dtype\": \"category\",\n        \"num_unique_values\": 2264,\n        \"samples\": [\n          \"Binter Mediterr\\u00c3\\u00a1neo\",\n          \"Wasa Wings\",\n          \"Aigle Azur\"\n        ],\n        \"semantic_type\": \"\",\n        \"description\": \"\"\n      }\n    },\n    {\n      \"column\": \"Flight #\",\n      \"properties\": {\n        \"dtype\": \"category\",\n        \"num_unique_values\": 880,\n        \"samples\": [\n          \"228/129\",\n          \"297\",\n          \"5191\"\n        ],\n        \"semantic_type\": \"\",\n        \"description\": \"\"\n      }\n    },\n    {\n      \"column\": \"Route\",\n      \"properties\": {\n        \"dtype\": \"string\",\n        \"num_unique_values\": 3825,\n        \"samples\": [\n          \"Fort Norman - Fort Franklin\",\n          \"Maputo, Mozambique - Luanda, Angola\",\n          \"Bamiyan - Kabul\"\n        ],\n        \"semantic_type\": \"\",\n        \"description\": \"\"\n      }\n    },\n    {\n      \"column\": \"AC Type\",\n      \"properties\": {\n        \"dtype\": \"category\",\n        \"num_unique_values\": 2463,\n        \"samples\": [\n          \"Boeing B-747-412\",\n          \"Sukhoi Superjet 100-95\",\n          \"Antonov An-12AP\"\n        ],\n        \"semantic_type\": \"\",\n        \"description\": \"\"\n      }\n    },\n    {\n      \"column\": \"Registration\",\n      \"properties\": {\n        \"dtype\": \"string\",\n        \"num_unique_values\": 4689,\n        \"samples\": [\n          \"PP-LEQ\",\n          \"N180AL\",\n          \"CP-1440\"\n        ],\n        \"semantic_type\": \"\",\n        \"description\": \"\"\n      }\n    },\n    {\n      \"column\": \"cn/ln\",\n      \"properties\": {\n        \"dtype\": \"string\",\n        \"num_unique_values\": 3818,\n        \"samples\": [\n          \"9492\",\n          \"17633/12\",\n          \"45534\"\n        ],\n        \"semantic_type\": \"\",\n        \"description\": \"\"\n      }\n    },\n    {\n      \"column\": \"Aboard\",\n      \"properties\": {\n        \"dtype\": \"number\",\n        \"std\": 45.53478774403481,\n        \"min\": 0.0,\n        \"max\": 644.0,\n        \"num_unique_values\": 244,\n        \"samples\": [\n          11.0,\n          19.0,\n          213.0\n        ],\n        \"semantic_type\": \"\",\n        \"description\": \"\"\n      }\n    },\n    {\n      \"column\": \"Aboard Passangers\",\n      \"properties\": {\n        \"dtype\": \"number\",\n        \"std\": 44.111608687889486,\n        \"min\": 0.0,\n        \"max\": 614.0,\n        \"num_unique_values\": 234,\n        \"samples\": [\n          95.0,\n          222.0,\n          243.0\n        ],\n        \"semantic_type\": \"\",\n        \"description\": \"\"\n      }\n    },\n    {\n      \"column\": \"Aboard Crew\",\n      \"properties\": {\n        \"dtype\": \"number\",\n        \"std\": 3.483859424858684,\n        \"min\": 0.0,\n        \"max\": 61.0,\n        \"num_unique_values\": 31,\n        \"samples\": [\n          30.0,\n          9.0,\n          23.0\n        ],\n        \"semantic_type\": \"\",\n        \"description\": \"\"\n      }\n    },\n    {\n      \"column\": \"Fatalities\",\n      \"properties\": {\n        \"dtype\": \"number\",\n        \"std\": 35.06174065974314,\n        \"min\": 0.0,\n        \"max\": 583.0,\n        \"num_unique_values\": 199,\n        \"samples\": [\n          95.0,\n          4.0,\n          109.0\n        ],\n        \"semantic_type\": \"\",\n        \"description\": \"\"\n      }\n    },\n    {\n      \"column\": \"Fatalities Passangers\",\n      \"properties\": {\n        \"dtype\": \"number\",\n        \"std\": 34.146126945129936,\n        \"min\": 0.0,\n        \"max\": 560.0,\n        \"num_unique_values\": 190,\n        \"samples\": [\n          222.0,\n          257.0,\n          164.0\n        ],\n        \"semantic_type\": \"\",\n        \"description\": \"\"\n      }\n    },\n    {\n      \"column\": \"Fatalities Crew\",\n      \"properties\": {\n        \"dtype\": \"number\",\n        \"std\": 3.1679217810514664,\n        \"min\": 0.0,\n        \"max\": 46.0,\n        \"num_unique_values\": 28,\n        \"samples\": [\n          14.0,\n          27.0,\n          4.0\n        ],\n        \"semantic_type\": \"\",\n        \"description\": \"\"\n      }\n    },\n    {\n      \"column\": \"Ground\",\n      \"properties\": {\n        \"dtype\": \"number\",\n        \"std\": 55.54027279775341,\n        \"min\": 0.0,\n        \"max\": 2750.0,\n        \"num_unique_values\": 51,\n        \"samples\": [\n          50.0,\n          44.0,\n          30.0\n        ],\n        \"semantic_type\": \"\",\n        \"description\": \"\"\n      }\n    },\n    {\n      \"column\": \"Summary\",\n      \"properties\": {\n        \"dtype\": \"string\",\n        \"num_unique_values\": 4839,\n        \"samples\": [\n          \"Crashed into the Amazon jungle in poor weather, after the crew reported a fire in the No. 3 engine. The last words from the aircraft was \\\"We're falling.\\\"\",\n          \"The plane was on a flight from Anchorage to Juneau when it disappeared as it was approaching the Chugach Mountain range.  The weather along the prescribed route was not condusive to VFR flight.  Louisiana Congressman and House Majority Leader Hale Boggs, Alaska Congressman Nick Begich and his aide killed. Cause unknown.\",\n          \"A hijacker robbed passengers, jumped out of the plane with a homemade parachute and was killed in the jump.\"\n        ],\n        \"semantic_type\": \"\",\n        \"description\": \"\"\n      }\n    }\n  ]\n}",
              "type": "dataframe",
              "variable_name": "df"
            },
            "text/html": [
              "\n",
              "  <div id=\"df-5d568ed6-25ac-4c2a-a681-547427ed382b\" class=\"colab-df-container\">\n",
              "    <div>\n",
              "<style scoped>\n",
              "    .dataframe tbody tr th:only-of-type {\n",
              "        vertical-align: middle;\n",
              "    }\n",
              "\n",
              "    .dataframe tbody tr th {\n",
              "        vertical-align: top;\n",
              "    }\n",
              "\n",
              "    .dataframe thead th {\n",
              "        text-align: right;\n",
              "    }\n",
              "</style>\n",
              "<table border=\"1\" class=\"dataframe\">\n",
              "  <thead>\n",
              "    <tr style=\"text-align: right;\">\n",
              "      <th></th>\n",
              "      <th>Date</th>\n",
              "      <th>Time</th>\n",
              "      <th>Location</th>\n",
              "      <th>Operator</th>\n",
              "      <th>Flight #</th>\n",
              "      <th>Route</th>\n",
              "      <th>AC Type</th>\n",
              "      <th>Registration</th>\n",
              "      <th>cn/ln</th>\n",
              "      <th>Aboard</th>\n",
              "      <th>Aboard Passangers</th>\n",
              "      <th>Aboard Crew</th>\n",
              "      <th>Fatalities</th>\n",
              "      <th>Fatalities Passangers</th>\n",
              "      <th>Fatalities Crew</th>\n",
              "      <th>Ground</th>\n",
              "      <th>Summary</th>\n",
              "    </tr>\n",
              "  </thead>\n",
              "  <tbody>\n",
              "    <tr>\n",
              "      <th>0</th>\n",
              "      <td>9/17/1908</td>\n",
              "      <td>17:18</td>\n",
              "      <td>Fort Myer, Virginia</td>\n",
              "      <td>Military - U.S. Army</td>\n",
              "      <td>NaN</td>\n",
              "      <td>Demonstration</td>\n",
              "      <td>Wright Flyer III</td>\n",
              "      <td>NaN</td>\n",
              "      <td>1</td>\n",
              "      <td>2.0</td>\n",
              "      <td>1.0</td>\n",
              "      <td>1.0</td>\n",
              "      <td>1.0</td>\n",
              "      <td>1.0</td>\n",
              "      <td>0.0</td>\n",
              "      <td>0.0</td>\n",
              "      <td>During a demonstration flight, a U.S. Army fly...</td>\n",
              "    </tr>\n",
              "    <tr>\n",
              "      <th>1</th>\n",
              "      <td>9/7/1909</td>\n",
              "      <td>NaN</td>\n",
              "      <td>Juvisy-sur-Orge, France</td>\n",
              "      <td>NaN</td>\n",
              "      <td>NaN</td>\n",
              "      <td>Air show</td>\n",
              "      <td>Wright Byplane</td>\n",
              "      <td>SC1</td>\n",
              "      <td>NaN</td>\n",
              "      <td>1.0</td>\n",
              "      <td>0.0</td>\n",
              "      <td>1.0</td>\n",
              "      <td>1.0</td>\n",
              "      <td>0.0</td>\n",
              "      <td>0.0</td>\n",
              "      <td>0.0</td>\n",
              "      <td>Eugene Lefebvre was the first pilot to ever be...</td>\n",
              "    </tr>\n",
              "    <tr>\n",
              "      <th>2</th>\n",
              "      <td>7/12/1912</td>\n",
              "      <td>6:30</td>\n",
              "      <td>Atlantic City, New Jersey</td>\n",
              "      <td>Military - U.S. Navy</td>\n",
              "      <td>NaN</td>\n",
              "      <td>Test flight</td>\n",
              "      <td>Dirigible</td>\n",
              "      <td>NaN</td>\n",
              "      <td>NaN</td>\n",
              "      <td>5.0</td>\n",
              "      <td>0.0</td>\n",
              "      <td>5.0</td>\n",
              "      <td>5.0</td>\n",
              "      <td>0.0</td>\n",
              "      <td>5.0</td>\n",
              "      <td>0.0</td>\n",
              "      <td>First U.S. dirigible Akron exploded just offsh...</td>\n",
              "    </tr>\n",
              "    <tr>\n",
              "      <th>3</th>\n",
              "      <td>8/6/1913</td>\n",
              "      <td>NaN</td>\n",
              "      <td>Victoria, British Columbia, Canada</td>\n",
              "      <td>Private</td>\n",
              "      <td>NaN</td>\n",
              "      <td>NaN</td>\n",
              "      <td>Curtiss seaplane</td>\n",
              "      <td>NaN</td>\n",
              "      <td>NaN</td>\n",
              "      <td>1.0</td>\n",
              "      <td>0.0</td>\n",
              "      <td>1.0</td>\n",
              "      <td>1.0</td>\n",
              "      <td>0.0</td>\n",
              "      <td>1.0</td>\n",
              "      <td>0.0</td>\n",
              "      <td>The first fatal airplane accident in Canada oc...</td>\n",
              "    </tr>\n",
              "    <tr>\n",
              "      <th>4</th>\n",
              "      <td>9/9/1913</td>\n",
              "      <td>18:30</td>\n",
              "      <td>Over the North Sea</td>\n",
              "      <td>Military - German Navy</td>\n",
              "      <td>NaN</td>\n",
              "      <td>NaN</td>\n",
              "      <td>Zeppelin L-1 (airship)</td>\n",
              "      <td>NaN</td>\n",
              "      <td>NaN</td>\n",
              "      <td>20.0</td>\n",
              "      <td>NaN</td>\n",
              "      <td>NaN</td>\n",
              "      <td>14.0</td>\n",
              "      <td>NaN</td>\n",
              "      <td>NaN</td>\n",
              "      <td>0.0</td>\n",
              "      <td>The airship flew into a thunderstorm and encou...</td>\n",
              "    </tr>\n",
              "    <tr>\n",
              "      <th>...</th>\n",
              "      <td>...</td>\n",
              "      <td>...</td>\n",
              "      <td>...</td>\n",
              "      <td>...</td>\n",
              "      <td>...</td>\n",
              "      <td>...</td>\n",
              "      <td>...</td>\n",
              "      <td>...</td>\n",
              "      <td>...</td>\n",
              "      <td>...</td>\n",
              "      <td>...</td>\n",
              "      <td>...</td>\n",
              "      <td>...</td>\n",
              "      <td>...</td>\n",
              "      <td>...</td>\n",
              "      <td>...</td>\n",
              "      <td>...</td>\n",
              "    </tr>\n",
              "    <tr>\n",
              "      <th>4993</th>\n",
              "      <td>11/21/2022</td>\n",
              "      <td>10:15</td>\n",
              "      <td>Medellín, Colombia</td>\n",
              "      <td>AeroPaca SAS</td>\n",
              "      <td>NaN</td>\n",
              "      <td>Medellín - Pizarro</td>\n",
              "      <td>Piper PA-31-350 Navajo Chieftain</td>\n",
              "      <td>HK-5121</td>\n",
              "      <td>31-7652004</td>\n",
              "      <td>8.0</td>\n",
              "      <td>6.0</td>\n",
              "      <td>2.0</td>\n",
              "      <td>8.0</td>\n",
              "      <td>6.0</td>\n",
              "      <td>2.0</td>\n",
              "      <td>0.0</td>\n",
              "      <td>The plane was chartered to carry a team of six...</td>\n",
              "    </tr>\n",
              "    <tr>\n",
              "      <th>4994</th>\n",
              "      <td>1/15/2023</td>\n",
              "      <td>10:50</td>\n",
              "      <td>Pokhara, Nepal</td>\n",
              "      <td>Yeti Airlines</td>\n",
              "      <td>YT691</td>\n",
              "      <td>Kathmandu - Pokhara</td>\n",
              "      <td>ATR 72-500-72-212-A</td>\n",
              "      <td>9NANC</td>\n",
              "      <td>754</td>\n",
              "      <td>72.0</td>\n",
              "      <td>68.0</td>\n",
              "      <td>4.0</td>\n",
              "      <td>72.0</td>\n",
              "      <td>68.0</td>\n",
              "      <td>4.0</td>\n",
              "      <td>0.0</td>\n",
              "      <td>Before approach, the pilot requested a change ...</td>\n",
              "    </tr>\n",
              "    <tr>\n",
              "      <th>4995</th>\n",
              "      <td>9/16/2023</td>\n",
              "      <td>NaN</td>\n",
              "      <td>Barcelos, Brazil</td>\n",
              "      <td>Manaus Aerotaxi</td>\n",
              "      <td>NaN</td>\n",
              "      <td>NaN</td>\n",
              "      <td>Embraer EMB-110P1 Bandeirante</td>\n",
              "      <td>PT-SOG</td>\n",
              "      <td>110490</td>\n",
              "      <td>14.0</td>\n",
              "      <td>12.0</td>\n",
              "      <td>2.0</td>\n",
              "      <td>14.0</td>\n",
              "      <td>12.0</td>\n",
              "      <td>2.0</td>\n",
              "      <td>0.0</td>\n",
              "      <td>The air taxi crashed in heavy rain while attem...</td>\n",
              "    </tr>\n",
              "    <tr>\n",
              "      <th>4996</th>\n",
              "      <td>10/29/2023</td>\n",
              "      <td>6:30</td>\n",
              "      <td>Rio Branco, Brazil</td>\n",
              "      <td>ART Taxi Aero</td>\n",
              "      <td>NaN</td>\n",
              "      <td>Rio Branco - Envira</td>\n",
              "      <td>Cessna 208B Grand Caravan</td>\n",
              "      <td>PT-MEE</td>\n",
              "      <td>208B0344</td>\n",
              "      <td>12.0</td>\n",
              "      <td>10.0</td>\n",
              "      <td>2.0</td>\n",
              "      <td>12.0</td>\n",
              "      <td>10.0</td>\n",
              "      <td>2.0</td>\n",
              "      <td>0.0</td>\n",
              "      <td>The air taxi crashed into a heavy wooded area ...</td>\n",
              "    </tr>\n",
              "    <tr>\n",
              "      <th>4997</th>\n",
              "      <td>11/1/2023</td>\n",
              "      <td>14:15</td>\n",
              "      <td>Morelos,  Mexico</td>\n",
              "      <td>Jet Rescue Air Ambulance</td>\n",
              "      <td>NaN</td>\n",
              "      <td>Toluca - Cuernavaca Airport</td>\n",
              "      <td>\\tLearjet 35A</td>\n",
              "      <td>XA-IRE</td>\n",
              "      <td>35A-354</td>\n",
              "      <td>4.0</td>\n",
              "      <td>2.0</td>\n",
              "      <td>2.0</td>\n",
              "      <td>4.0</td>\n",
              "      <td>2.0</td>\n",
              "      <td>2.0</td>\n",
              "      <td>0.0</td>\n",
              "      <td>A business jet operating as an air ambulance, ...</td>\n",
              "    </tr>\n",
              "  </tbody>\n",
              "</table>\n",
              "<p>4998 rows × 17 columns</p>\n",
              "</div>\n",
              "    <div class=\"colab-df-buttons\">\n",
              "\n",
              "  <div class=\"colab-df-container\">\n",
              "    <button class=\"colab-df-convert\" onclick=\"convertToInteractive('df-5d568ed6-25ac-4c2a-a681-547427ed382b')\"\n",
              "            title=\"Convert this dataframe to an interactive table.\"\n",
              "            style=\"display:none;\">\n",
              "\n",
              "  <svg xmlns=\"http://www.w3.org/2000/svg\" height=\"24px\" viewBox=\"0 -960 960 960\">\n",
              "    <path d=\"M120-120v-720h720v720H120Zm60-500h600v-160H180v160Zm220 220h160v-160H400v160Zm0 220h160v-160H400v160ZM180-400h160v-160H180v160Zm440 0h160v-160H620v160ZM180-180h160v-160H180v160Zm440 0h160v-160H620v160Z\"/>\n",
              "  </svg>\n",
              "    </button>\n",
              "\n",
              "  <style>\n",
              "    .colab-df-container {\n",
              "      display:flex;\n",
              "      gap: 12px;\n",
              "    }\n",
              "\n",
              "    .colab-df-convert {\n",
              "      background-color: #E8F0FE;\n",
              "      border: none;\n",
              "      border-radius: 50%;\n",
              "      cursor: pointer;\n",
              "      display: none;\n",
              "      fill: #1967D2;\n",
              "      height: 32px;\n",
              "      padding: 0 0 0 0;\n",
              "      width: 32px;\n",
              "    }\n",
              "\n",
              "    .colab-df-convert:hover {\n",
              "      background-color: #E2EBFA;\n",
              "      box-shadow: 0px 1px 2px rgba(60, 64, 67, 0.3), 0px 1px 3px 1px rgba(60, 64, 67, 0.15);\n",
              "      fill: #174EA6;\n",
              "    }\n",
              "\n",
              "    .colab-df-buttons div {\n",
              "      margin-bottom: 4px;\n",
              "    }\n",
              "\n",
              "    [theme=dark] .colab-df-convert {\n",
              "      background-color: #3B4455;\n",
              "      fill: #D2E3FC;\n",
              "    }\n",
              "\n",
              "    [theme=dark] .colab-df-convert:hover {\n",
              "      background-color: #434B5C;\n",
              "      box-shadow: 0px 1px 3px 1px rgba(0, 0, 0, 0.15);\n",
              "      filter: drop-shadow(0px 1px 2px rgba(0, 0, 0, 0.3));\n",
              "      fill: #FFFFFF;\n",
              "    }\n",
              "  </style>\n",
              "\n",
              "    <script>\n",
              "      const buttonEl =\n",
              "        document.querySelector('#df-5d568ed6-25ac-4c2a-a681-547427ed382b button.colab-df-convert');\n",
              "      buttonEl.style.display =\n",
              "        google.colab.kernel.accessAllowed ? 'block' : 'none';\n",
              "\n",
              "      async function convertToInteractive(key) {\n",
              "        const element = document.querySelector('#df-5d568ed6-25ac-4c2a-a681-547427ed382b');\n",
              "        const dataTable =\n",
              "          await google.colab.kernel.invokeFunction('convertToInteractive',\n",
              "                                                    [key], {});\n",
              "        if (!dataTable) return;\n",
              "\n",
              "        const docLinkHtml = 'Like what you see? Visit the ' +\n",
              "          '<a target=\"_blank\" href=https://colab.research.google.com/notebooks/data_table.ipynb>data table notebook</a>'\n",
              "          + ' to learn more about interactive tables.';\n",
              "        element.innerHTML = '';\n",
              "        dataTable['output_type'] = 'display_data';\n",
              "        await google.colab.output.renderOutput(dataTable, element);\n",
              "        const docLink = document.createElement('div');\n",
              "        docLink.innerHTML = docLinkHtml;\n",
              "        element.appendChild(docLink);\n",
              "      }\n",
              "    </script>\n",
              "  </div>\n",
              "\n",
              "\n",
              "<div id=\"df-7d0f019d-27cf-4a74-b95c-246da768aa02\">\n",
              "  <button class=\"colab-df-quickchart\" onclick=\"quickchart('df-7d0f019d-27cf-4a74-b95c-246da768aa02')\"\n",
              "            title=\"Suggest charts\"\n",
              "            style=\"display:none;\">\n",
              "\n",
              "<svg xmlns=\"http://www.w3.org/2000/svg\" height=\"24px\"viewBox=\"0 0 24 24\"\n",
              "     width=\"24px\">\n",
              "    <g>\n",
              "        <path d=\"M19 3H5c-1.1 0-2 .9-2 2v14c0 1.1.9 2 2 2h14c1.1 0 2-.9 2-2V5c0-1.1-.9-2-2-2zM9 17H7v-7h2v7zm4 0h-2V7h2v10zm4 0h-2v-4h2v4z\"/>\n",
              "    </g>\n",
              "</svg>\n",
              "  </button>\n",
              "\n",
              "<style>\n",
              "  .colab-df-quickchart {\n",
              "      --bg-color: #E8F0FE;\n",
              "      --fill-color: #1967D2;\n",
              "      --hover-bg-color: #E2EBFA;\n",
              "      --hover-fill-color: #174EA6;\n",
              "      --disabled-fill-color: #AAA;\n",
              "      --disabled-bg-color: #DDD;\n",
              "  }\n",
              "\n",
              "  [theme=dark] .colab-df-quickchart {\n",
              "      --bg-color: #3B4455;\n",
              "      --fill-color: #D2E3FC;\n",
              "      --hover-bg-color: #434B5C;\n",
              "      --hover-fill-color: #FFFFFF;\n",
              "      --disabled-bg-color: #3B4455;\n",
              "      --disabled-fill-color: #666;\n",
              "  }\n",
              "\n",
              "  .colab-df-quickchart {\n",
              "    background-color: var(--bg-color);\n",
              "    border: none;\n",
              "    border-radius: 50%;\n",
              "    cursor: pointer;\n",
              "    display: none;\n",
              "    fill: var(--fill-color);\n",
              "    height: 32px;\n",
              "    padding: 0;\n",
              "    width: 32px;\n",
              "  }\n",
              "\n",
              "  .colab-df-quickchart:hover {\n",
              "    background-color: var(--hover-bg-color);\n",
              "    box-shadow: 0 1px 2px rgba(60, 64, 67, 0.3), 0 1px 3px 1px rgba(60, 64, 67, 0.15);\n",
              "    fill: var(--button-hover-fill-color);\n",
              "  }\n",
              "\n",
              "  .colab-df-quickchart-complete:disabled,\n",
              "  .colab-df-quickchart-complete:disabled:hover {\n",
              "    background-color: var(--disabled-bg-color);\n",
              "    fill: var(--disabled-fill-color);\n",
              "    box-shadow: none;\n",
              "  }\n",
              "\n",
              "  .colab-df-spinner {\n",
              "    border: 2px solid var(--fill-color);\n",
              "    border-color: transparent;\n",
              "    border-bottom-color: var(--fill-color);\n",
              "    animation:\n",
              "      spin 1s steps(1) infinite;\n",
              "  }\n",
              "\n",
              "  @keyframes spin {\n",
              "    0% {\n",
              "      border-color: transparent;\n",
              "      border-bottom-color: var(--fill-color);\n",
              "      border-left-color: var(--fill-color);\n",
              "    }\n",
              "    20% {\n",
              "      border-color: transparent;\n",
              "      border-left-color: var(--fill-color);\n",
              "      border-top-color: var(--fill-color);\n",
              "    }\n",
              "    30% {\n",
              "      border-color: transparent;\n",
              "      border-left-color: var(--fill-color);\n",
              "      border-top-color: var(--fill-color);\n",
              "      border-right-color: var(--fill-color);\n",
              "    }\n",
              "    40% {\n",
              "      border-color: transparent;\n",
              "      border-right-color: var(--fill-color);\n",
              "      border-top-color: var(--fill-color);\n",
              "    }\n",
              "    60% {\n",
              "      border-color: transparent;\n",
              "      border-right-color: var(--fill-color);\n",
              "    }\n",
              "    80% {\n",
              "      border-color: transparent;\n",
              "      border-right-color: var(--fill-color);\n",
              "      border-bottom-color: var(--fill-color);\n",
              "    }\n",
              "    90% {\n",
              "      border-color: transparent;\n",
              "      border-bottom-color: var(--fill-color);\n",
              "    }\n",
              "  }\n",
              "</style>\n",
              "\n",
              "  <script>\n",
              "    async function quickchart(key) {\n",
              "      const quickchartButtonEl =\n",
              "        document.querySelector('#' + key + ' button');\n",
              "      quickchartButtonEl.disabled = true;  // To prevent multiple clicks.\n",
              "      quickchartButtonEl.classList.add('colab-df-spinner');\n",
              "      try {\n",
              "        const charts = await google.colab.kernel.invokeFunction(\n",
              "            'suggestCharts', [key], {});\n",
              "      } catch (error) {\n",
              "        console.error('Error during call to suggestCharts:', error);\n",
              "      }\n",
              "      quickchartButtonEl.classList.remove('colab-df-spinner');\n",
              "      quickchartButtonEl.classList.add('colab-df-quickchart-complete');\n",
              "    }\n",
              "    (() => {\n",
              "      let quickchartButtonEl =\n",
              "        document.querySelector('#df-7d0f019d-27cf-4a74-b95c-246da768aa02 button');\n",
              "      quickchartButtonEl.style.display =\n",
              "        google.colab.kernel.accessAllowed ? 'block' : 'none';\n",
              "    })();\n",
              "  </script>\n",
              "</div>\n",
              "    </div>\n",
              "  </div>\n"
            ],
            "text/plain": [
              "            Date   Time                            Location  \\\n",
              "0      9/17/1908  17:18                 Fort Myer, Virginia   \n",
              "1       9/7/1909    NaN             Juvisy-sur-Orge, France   \n",
              "2      7/12/1912   6:30           Atlantic City, New Jersey   \n",
              "3       8/6/1913    NaN  Victoria, British Columbia, Canada   \n",
              "4       9/9/1913  18:30                  Over the North Sea   \n",
              "...          ...    ...                                 ...   \n",
              "4993  11/21/2022  10:15                  Medellín, Colombia   \n",
              "4994   1/15/2023  10:50                      Pokhara, Nepal   \n",
              "4995   9/16/2023    NaN                    Barcelos, Brazil   \n",
              "4996  10/29/2023   6:30                  Rio Branco, Brazil   \n",
              "4997   11/1/2023  14:15                    Morelos,  Mexico   \n",
              "\n",
              "                      Operator Flight #                        Route  \\\n",
              "0         Military - U.S. Army      NaN                Demonstration   \n",
              "1                          NaN      NaN                     Air show   \n",
              "2         Military - U.S. Navy      NaN                  Test flight   \n",
              "3                      Private      NaN                          NaN   \n",
              "4       Military - German Navy      NaN                          NaN   \n",
              "...                        ...      ...                          ...   \n",
              "4993              AeroPaca SAS      NaN           Medellín - Pizarro   \n",
              "4994             Yeti Airlines    YT691          Kathmandu - Pokhara   \n",
              "4995           Manaus Aerotaxi      NaN                          NaN   \n",
              "4996             ART Taxi Aero      NaN          Rio Branco - Envira   \n",
              "4997  Jet Rescue Air Ambulance      NaN  Toluca - Cuernavaca Airport   \n",
              "\n",
              "                               AC Type Registration       cn/ln  Aboard  \\\n",
              "0                     Wright Flyer III          NaN           1     2.0   \n",
              "1                       Wright Byplane          SC1         NaN     1.0   \n",
              "2                            Dirigible          NaN         NaN     5.0   \n",
              "3                     Curtiss seaplane          NaN         NaN     1.0   \n",
              "4               Zeppelin L-1 (airship)          NaN         NaN    20.0   \n",
              "...                                ...          ...         ...     ...   \n",
              "4993  Piper PA-31-350 Navajo Chieftain     HK-5121   31-7652004     8.0   \n",
              "4994               ATR 72-500-72-212-A       9NANC          754    72.0   \n",
              "4995     Embraer EMB-110P1 Bandeirante      PT-SOG       110490    14.0   \n",
              "4996         Cessna 208B Grand Caravan      PT-MEE     208B0344    12.0   \n",
              "4997                     \\tLearjet 35A       XA-IRE     35A-354     4.0   \n",
              "\n",
              "      Aboard Passangers  Aboard Crew  Fatalities  Fatalities Passangers  \\\n",
              "0                   1.0          1.0         1.0                    1.0   \n",
              "1                   0.0          1.0         1.0                    0.0   \n",
              "2                   0.0          5.0         5.0                    0.0   \n",
              "3                   0.0          1.0         1.0                    0.0   \n",
              "4                   NaN          NaN        14.0                    NaN   \n",
              "...                 ...          ...         ...                    ...   \n",
              "4993                6.0          2.0         8.0                    6.0   \n",
              "4994               68.0          4.0        72.0                   68.0   \n",
              "4995               12.0          2.0        14.0                   12.0   \n",
              "4996               10.0          2.0        12.0                   10.0   \n",
              "4997                2.0          2.0         4.0                    2.0   \n",
              "\n",
              "      Fatalities Crew  Ground  \\\n",
              "0                 0.0     0.0   \n",
              "1                 0.0     0.0   \n",
              "2                 5.0     0.0   \n",
              "3                 1.0     0.0   \n",
              "4                 NaN     0.0   \n",
              "...               ...     ...   \n",
              "4993              2.0     0.0   \n",
              "4994              4.0     0.0   \n",
              "4995              2.0     0.0   \n",
              "4996              2.0     0.0   \n",
              "4997              2.0     0.0   \n",
              "\n",
              "                                                Summary  \n",
              "0     During a demonstration flight, a U.S. Army fly...  \n",
              "1     Eugene Lefebvre was the first pilot to ever be...  \n",
              "2     First U.S. dirigible Akron exploded just offsh...  \n",
              "3     The first fatal airplane accident in Canada oc...  \n",
              "4     The airship flew into a thunderstorm and encou...  \n",
              "...                                                 ...  \n",
              "4993  The plane was chartered to carry a team of six...  \n",
              "4994  Before approach, the pilot requested a change ...  \n",
              "4995  The air taxi crashed in heavy rain while attem...  \n",
              "4996  The air taxi crashed into a heavy wooded area ...  \n",
              "4997  A business jet operating as an air ambulance, ...  \n",
              "\n",
              "[4998 rows x 17 columns]"
            ]
          },
          "execution_count": 49,
          "metadata": {},
          "output_type": "execute_result"
        }
      ],
      "source": [
        "import pandas as pd\n",
        "import matplotlib.pyplot as plt\n",
        "df = pd.read_csv(r\"/content/sample_data/команда_20.csv\", encoding='ISO-8859-1')\n",
        "df"
      ]
    },
    {
      "cell_type": "code",
      "execution_count": null,
      "metadata": {
        "id": "VHaz-2pS3i5i"
      },
      "outputs": [],
      "source": []
    },
    {
      "cell_type": "markdown",
      "metadata": {
        "id": "5igYDdhj2K5T"
      },
      "source": [
        "В нашем датафрейме 4998 строк и 17 столбцов"
      ]
    },
    {
      "cell_type": "markdown",
      "metadata": {
        "id": "sA0QKvEW2K5T"
      },
      "source": [
        "Определим тип данных в каждом признаке"
      ]
    },
    {
      "cell_type": "code",
      "execution_count": null,
      "metadata": {
        "colab": {
          "base_uri": "https://localhost:8080/"
        },
        "id": "cpUM11GY2K5T",
        "outputId": "34d90bdd-130c-41e7-b48d-aec4ff31a634",
        "scrolled": true
      },
      "outputs": [
        {
          "name": "stdout",
          "output_type": "stream",
          "text": [
            "<class 'pandas.core.frame.DataFrame'>\n",
            "RangeIndex: 4998 entries, 0 to 4997\n",
            "Data columns (total 17 columns):\n",
            " #   Column                 Non-Null Count  Dtype  \n",
            "---  ------                 --------------  -----  \n",
            " 0   Date                   4998 non-null   object \n",
            " 1   Time                   3486 non-null   object \n",
            " 2   Location               4994 non-null   object \n",
            " 3   Operator               4988 non-null   object \n",
            " 4   Flight #               1329 non-null   object \n",
            " 5   Route                  4221 non-null   object \n",
            " 6   AC Type                4983 non-null   object \n",
            " 7   Registration           4724 non-null   object \n",
            " 8   cn/ln                  4330 non-null   object \n",
            " 9   Aboard                 4980 non-null   float64\n",
            " 10  Aboard Passangers      4769 non-null   float64\n",
            " 11  Aboard Crew            4772 non-null   float64\n",
            " 12  Fatalities             4990 non-null   float64\n",
            " 13  Fatalities Passangers  4756 non-null   float64\n",
            " 14  Fatalities Crew        4757 non-null   float64\n",
            " 15  Ground                 4956 non-null   float64\n",
            " 16  Summary                4934 non-null   object \n",
            "dtypes: float64(7), object(10)\n",
            "memory usage: 663.9+ KB\n"
          ]
        }
      ],
      "source": [
        "df.info()"
      ]
    },
    {
      "cell_type": "raw",
      "metadata": {
        "id": "2tGN0ZLk2K5T"
      },
      "source": [
        " Column Non-Null Count Dtype\n",
        "--- ------ -------------- -----\n",
        "0 Date 4998 non-null object                    категориальный порядковый тип\n",
        "\n",
        "1 Time 3486 non-null object                    категориальный порядковый тип\n",
        "\n",
        "2 Location 4994 non-null object                категориальный номинальный тип\n",
        "\n",
        "3 Operator 4988 non-null object                категориальный номинальный тип\n",
        "\n",
        "4 Flight # 1329 non-null object                категориальный номинальный тип\n",
        "\n",
        "5 Route 4221 non-null object                   категориальный номинальный тип\n",
        "\n",
        "6 AC Type 4983 non-null object                 категориальный номинальный тип\n",
        "\n",
        "7 Registration 4724 non-null object            категориальный номинальный тип\n",
        "\n",
        "8 cn/ln 4330 non-null object                   категориальный номинальный тип\n",
        "\n",
        "9 Aboard 4980 non-null float64                 числовой дискретный тип\n",
        "\n",
        "10 Aboard Passangers 4769 non-null float64     числовой дискретный тип\n",
        "\n",
        "11 Aboard Crew 4772 non-null float64           числовой дискретный тип\n",
        "\n",
        "12 Fatalities 4990 non-null float64            числовой дискретный тип\n",
        "\n",
        "13 Fatalities Passangers 4756 non-null float64 числовой дискретный тип\n",
        "\n",
        "14 Fatalities Crew 4757 non-null float64       числовой дискретный тип\n",
        "\n",
        "15 Ground 4956 non-null float64                числовой дискретный тип\n",
        "\n",
        "16 Summary 4934 non-null object                категориальный номинальный тип"
      ]
    },
    {
      "cell_type": "markdown",
      "metadata": {
        "id": "1fs7wycv2K5U"
      },
      "source": [
        "Проверим, где присутствуют пропуски"
      ]
    },
    {
      "cell_type": "code",
      "execution_count": null,
      "metadata": {
        "colab": {
          "base_uri": "https://localhost:8080/",
          "height": 610
        },
        "id": "FyjmSaKi2K5U",
        "outputId": "ed42f1e4-2ff0-4032-e5c7-def032690684"
      },
      "outputs": [
        {
          "data": {
            "text/html": [
              "<div>\n",
              "<style scoped>\n",
              "    .dataframe tbody tr th:only-of-type {\n",
              "        vertical-align: middle;\n",
              "    }\n",
              "\n",
              "    .dataframe tbody tr th {\n",
              "        vertical-align: top;\n",
              "    }\n",
              "\n",
              "    .dataframe thead th {\n",
              "        text-align: right;\n",
              "    }\n",
              "</style>\n",
              "<table border=\"1\" class=\"dataframe\">\n",
              "  <thead>\n",
              "    <tr style=\"text-align: right;\">\n",
              "      <th></th>\n",
              "      <th>0</th>\n",
              "    </tr>\n",
              "  </thead>\n",
              "  <tbody>\n",
              "    <tr>\n",
              "      <th>Date</th>\n",
              "      <td>0</td>\n",
              "    </tr>\n",
              "    <tr>\n",
              "      <th>Time</th>\n",
              "      <td>1512</td>\n",
              "    </tr>\n",
              "    <tr>\n",
              "      <th>Location</th>\n",
              "      <td>4</td>\n",
              "    </tr>\n",
              "    <tr>\n",
              "      <th>Operator</th>\n",
              "      <td>10</td>\n",
              "    </tr>\n",
              "    <tr>\n",
              "      <th>Flight #</th>\n",
              "      <td>3669</td>\n",
              "    </tr>\n",
              "    <tr>\n",
              "      <th>Route</th>\n",
              "      <td>777</td>\n",
              "    </tr>\n",
              "    <tr>\n",
              "      <th>AC Type</th>\n",
              "      <td>15</td>\n",
              "    </tr>\n",
              "    <tr>\n",
              "      <th>Registration</th>\n",
              "      <td>274</td>\n",
              "    </tr>\n",
              "    <tr>\n",
              "      <th>cn/ln</th>\n",
              "      <td>668</td>\n",
              "    </tr>\n",
              "    <tr>\n",
              "      <th>Aboard</th>\n",
              "      <td>18</td>\n",
              "    </tr>\n",
              "    <tr>\n",
              "      <th>Aboard Passangers</th>\n",
              "      <td>229</td>\n",
              "    </tr>\n",
              "    <tr>\n",
              "      <th>Aboard Crew</th>\n",
              "      <td>226</td>\n",
              "    </tr>\n",
              "    <tr>\n",
              "      <th>Fatalities</th>\n",
              "      <td>8</td>\n",
              "    </tr>\n",
              "    <tr>\n",
              "      <th>Fatalities Passangers</th>\n",
              "      <td>242</td>\n",
              "    </tr>\n",
              "    <tr>\n",
              "      <th>Fatalities Crew</th>\n",
              "      <td>241</td>\n",
              "    </tr>\n",
              "    <tr>\n",
              "      <th>Ground</th>\n",
              "      <td>42</td>\n",
              "    </tr>\n",
              "    <tr>\n",
              "      <th>Summary</th>\n",
              "      <td>64</td>\n",
              "    </tr>\n",
              "  </tbody>\n",
              "</table>\n",
              "</div><br><label><b>dtype:</b> int64</label>"
            ],
            "text/plain": [
              "Date                        0\n",
              "Time                     1512\n",
              "Location                    4\n",
              "Operator                   10\n",
              "Flight #                 3669\n",
              "Route                     777\n",
              "AC Type                    15\n",
              "Registration              274\n",
              "cn/ln                     668\n",
              "Aboard                     18\n",
              "Aboard Passangers         229\n",
              "Aboard Crew               226\n",
              "Fatalities                  8\n",
              "Fatalities Passangers     242\n",
              "Fatalities Crew           241\n",
              "Ground                     42\n",
              "Summary                    64\n",
              "dtype: int64"
            ]
          },
          "execution_count": 51,
          "metadata": {},
          "output_type": "execute_result"
        }
      ],
      "source": [
        "\n",
        "missing_summary = df.isnull().sum()\n",
        "missing_summary"
      ]
    },
    {
      "cell_type": "markdown",
      "metadata": {
        "id": "QuhpbaPZ2K5U"
      },
      "source": [
        "В каждом столбце есть пропуски"
      ]
    },
    {
      "cell_type": "markdown",
      "metadata": {
        "id": "Iw3ZT4H12K5U"
      },
      "source": [
        "Удалим столбец “Flight”, так как в нем слишком много пропусков - 3669.\n",
        "Также много пропусков в столбце “Time” - 1512, но удалить этот столбец нельзя, так как он важен, но и заменить пропуски на меру центральной тенденции было бы странно именно с этим признаком, поэтому просто оставим здесь пропуски. Если понадобится именно этот показатель, то специально для него можно удалить строки, где есть пропуски.\n",
        "Пропуски в столбцах “Operator”, “AC Type” было решено заменить на моду, так как это категориальный тип данных и в данном случае логично заменять на самое часто встречающе\n",
        "еся значение.\n",
        "Пропуски в столбце “Aboard”, “Aboard Passangers”, “Aboard Crew” заменили на среднее зн\n",
        "ачение, так как это покажет \"среднее\" число людей на борту, жертв или пострадавших на земле.\n",
        "Пропуски в столбце “Fatalities”, “'Fatalities Passangers'”, “Fatalities Crew” заменили на моду\n",
        ", так как большинство катастроф было с нулевым количеством жертв, но было несколько\n",
        "с очень большим количеством, поэтому ни среднее, ни медиана здесь не подходят.\n",
        "Остальные столбцы было решено оставить без изменений, так как это слишком специфич\n",
        "ные категориальные данные, чтобы заменять их."
      ]
    },
    {
      "cell_type": "code",
      "execution_count": null,
      "metadata": {
        "colab": {
          "base_uri": "https://localhost:8080/",
          "height": 1000
        },
        "id": "i2Wt0iug2K5U",
        "outputId": "6c1f5be9-eda1-4770-d14e-c067823a1125",
        "scrolled": true
      },
      "outputs": [
        {
          "data": {
            "application/vnd.google.colaboratory.intrinsic+json": {
              "summary": "{\n  \"name\": \"df_cleaned\",\n  \"rows\": 4998,\n  \"fields\": [\n    {\n      \"column\": \"Date\",\n      \"properties\": {\n        \"dtype\": \"object\",\n        \"num_unique_values\": 4570,\n        \"samples\": [\n          \"6/2/1958\",\n          \"12/16/1918\",\n          \"11/23/1931\"\n        ],\n        \"semantic_type\": \"\",\n        \"description\": \"\"\n      }\n    },\n    {\n      \"column\": \"Time\",\n      \"properties\": {\n        \"dtype\": \"category\",\n        \"num_unique_values\": 1060,\n        \"samples\": [\n          \"2:08\",\n          \"13:53\",\n          \"22:35\"\n        ],\n        \"semantic_type\": \"\",\n        \"description\": \"\"\n      }\n    },\n    {\n      \"column\": \"Location\",\n      \"properties\": {\n        \"dtype\": \"string\",\n        \"num_unique_values\": 4122,\n        \"samples\": [\n          \"Cachimbo, Brazil\",\n          \"Montenegrin Mountains, Yugoslavia\",\n          \"Petersburg, Illinois\"\n        ],\n        \"semantic_type\": \"\",\n        \"description\": \"\"\n      }\n    },\n    {\n      \"column\": \"Route\",\n      \"properties\": {\n        \"dtype\": \"string\",\n        \"num_unique_values\": 3825,\n        \"samples\": [\n          \"Fort Norman - Fort Franklin\",\n          \"Maputo, Mozambique - Luanda, Angola\",\n          \"Bamiyan - Kabul\"\n        ],\n        \"semantic_type\": \"\",\n        \"description\": \"\"\n      }\n    },\n    {\n      \"column\": \"Registration\",\n      \"properties\": {\n        \"dtype\": \"string\",\n        \"num_unique_values\": 4689,\n        \"samples\": [\n          \"PP-LEQ\",\n          \"N180AL\",\n          \"CP-1440\"\n        ],\n        \"semantic_type\": \"\",\n        \"description\": \"\"\n      }\n    },\n    {\n      \"column\": \"cn/ln\",\n      \"properties\": {\n        \"dtype\": \"string\",\n        \"num_unique_values\": 3818,\n        \"samples\": [\n          \"9492\",\n          \"17633/12\",\n          \"45534\"\n        ],\n        \"semantic_type\": \"\",\n        \"description\": \"\"\n      }\n    },\n    {\n      \"column\": \"Summary\",\n      \"properties\": {\n        \"dtype\": \"string\",\n        \"num_unique_values\": 4839,\n        \"samples\": [\n          \"Crashed into the Amazon jungle in poor weather, after the crew reported a fire in the No. 3 engine. The last words from the aircraft was \\\"We're falling.\\\"\",\n          \"The plane was on a flight from Anchorage to Juneau when it disappeared as it was approaching the Chugach Mountain range.  The weather along the prescribed route was not condusive to VFR flight.  Louisiana Congressman and House Majority Leader Hale Boggs, Alaska Congressman Nick Begich and his aide killed. Cause unknown.\",\n          \"A hijacker robbed passengers, jumped out of the plane with a homemade parachute and was killed in the jump.\"\n        ],\n        \"semantic_type\": \"\",\n        \"description\": \"\"\n      }\n    },\n    {\n      \"column\": \"Ground_fillna\",\n      \"properties\": {\n        \"dtype\": \"number\",\n        \"std\": 55.306593763103734,\n        \"min\": 0.0,\n        \"max\": 2750.0,\n        \"num_unique_values\": 51,\n        \"samples\": [\n          50.0,\n          44.0,\n          30.0\n        ],\n        \"semantic_type\": \"\",\n        \"description\": \"\"\n      }\n    },\n    {\n      \"column\": \"Operator_fillna\",\n      \"properties\": {\n        \"dtype\": \"category\",\n        \"num_unique_values\": 2264,\n        \"samples\": [\n          \"Binter Mediterr\\u00c3\\u00a1neo\",\n          \"Wasa Wings\",\n          \"Aigle Azur\"\n        ],\n        \"semantic_type\": \"\",\n        \"description\": \"\"\n      }\n    },\n    {\n      \"column\": \"AC Type_fillna\",\n      \"properties\": {\n        \"dtype\": \"category\",\n        \"num_unique_values\": 2463,\n        \"samples\": [\n          \"Boeing B-747-412\",\n          \"Sukhoi Superjet 100-95\",\n          \"Antonov An-12AP\"\n        ],\n        \"semantic_type\": \"\",\n        \"description\": \"\"\n      }\n    },\n    {\n      \"column\": \"Aboard_fillna\",\n      \"properties\": {\n        \"dtype\": \"number\",\n        \"std\": 45.45270193072606,\n        \"min\": 0.0,\n        \"max\": 644.0,\n        \"num_unique_values\": 245,\n        \"samples\": [\n          4.0,\n          19.0,\n          165.0\n        ],\n        \"semantic_type\": \"\",\n        \"description\": \"\"\n      }\n    },\n    {\n      \"column\": \"Fatalities_fillna\",\n      \"properties\": {\n        \"dtype\": \"number\",\n        \"std\": 35.06174065974314,\n        \"min\": 0.0,\n        \"max\": 583.0,\n        \"num_unique_values\": 199,\n        \"samples\": [\n          95.0,\n          4.0,\n          109.0\n        ],\n        \"semantic_type\": \"\",\n        \"description\": \"\"\n      }\n    },\n    {\n      \"column\": \"Fatalities Passangers_fillna\",\n      \"properties\": {\n        \"dtype\": \"number\",\n        \"std\": 34.146126945129936,\n        \"min\": 0.0,\n        \"max\": 560.0,\n        \"num_unique_values\": 190,\n        \"samples\": [\n          222.0,\n          257.0,\n          164.0\n        ],\n        \"semantic_type\": \"\",\n        \"description\": \"\"\n      }\n    },\n    {\n      \"column\": \"Fatalities Crew_fillna\",\n      \"properties\": {\n        \"dtype\": \"number\",\n        \"std\": 3.1679217810514664,\n        \"min\": 0.0,\n        \"max\": 46.0,\n        \"num_unique_values\": 28,\n        \"samples\": [\n          14.0,\n          27.0,\n          4.0\n        ],\n        \"semantic_type\": \"\",\n        \"description\": \"\"\n      }\n    },\n    {\n      \"column\": \"Aboard_Passangers_fillna\",\n      \"properties\": {\n        \"dtype\": \"number\",\n        \"std\": 45.45339408418263,\n        \"min\": 0.0,\n        \"max\": 644.0,\n        \"num_unique_values\": 245,\n        \"samples\": [\n          4.0,\n          19.0,\n          165.0\n        ],\n        \"semantic_type\": \"\",\n        \"description\": \"\"\n      }\n    },\n    {\n      \"column\": \"Aboard_Crew_fillna\",\n      \"properties\": {\n        \"dtype\": \"number\",\n        \"std\": 45.48087528601272,\n        \"min\": 0.0,\n        \"max\": 644.0,\n        \"num_unique_values\": 245,\n        \"samples\": [\n          4.0,\n          19.0,\n          165.0\n        ],\n        \"semantic_type\": \"\",\n        \"description\": \"\"\n      }\n    }\n  ]\n}",
              "type": "dataframe",
              "variable_name": "df_cleaned"
            },
            "text/html": [
              "\n",
              "  <div id=\"df-50753226-42f2-46a7-a311-9071a0e239ab\" class=\"colab-df-container\">\n",
              "    <div>\n",
              "<style scoped>\n",
              "    .dataframe tbody tr th:only-of-type {\n",
              "        vertical-align: middle;\n",
              "    }\n",
              "\n",
              "    .dataframe tbody tr th {\n",
              "        vertical-align: top;\n",
              "    }\n",
              "\n",
              "    .dataframe thead th {\n",
              "        text-align: right;\n",
              "    }\n",
              "</style>\n",
              "<table border=\"1\" class=\"dataframe\">\n",
              "  <thead>\n",
              "    <tr style=\"text-align: right;\">\n",
              "      <th></th>\n",
              "      <th>Date</th>\n",
              "      <th>Time</th>\n",
              "      <th>Location</th>\n",
              "      <th>Route</th>\n",
              "      <th>Registration</th>\n",
              "      <th>cn/ln</th>\n",
              "      <th>Summary</th>\n",
              "      <th>Ground_fillna</th>\n",
              "      <th>Operator_fillna</th>\n",
              "      <th>AC Type_fillna</th>\n",
              "      <th>Aboard_fillna</th>\n",
              "      <th>Fatalities_fillna</th>\n",
              "      <th>Fatalities Passangers_fillna</th>\n",
              "      <th>Fatalities Crew_fillna</th>\n",
              "      <th>Aboard_Passangers_fillna</th>\n",
              "      <th>Aboard_Crew_fillna</th>\n",
              "    </tr>\n",
              "  </thead>\n",
              "  <tbody>\n",
              "    <tr>\n",
              "      <th>0</th>\n",
              "      <td>9/17/1908</td>\n",
              "      <td>17:18</td>\n",
              "      <td>Fort Myer, Virginia</td>\n",
              "      <td>Demonstration</td>\n",
              "      <td>NaN</td>\n",
              "      <td>1</td>\n",
              "      <td>During a demonstration flight, a U.S. Army fly...</td>\n",
              "      <td>0.0</td>\n",
              "      <td>Military - U.S. Army</td>\n",
              "      <td>Wright Flyer III</td>\n",
              "      <td>2.0</td>\n",
              "      <td>1.0</td>\n",
              "      <td>1.0</td>\n",
              "      <td>0.0</td>\n",
              "      <td>2.0</td>\n",
              "      <td>2.0</td>\n",
              "    </tr>\n",
              "    <tr>\n",
              "      <th>1</th>\n",
              "      <td>9/7/1909</td>\n",
              "      <td>NaN</td>\n",
              "      <td>Juvisy-sur-Orge, France</td>\n",
              "      <td>Air show</td>\n",
              "      <td>SC1</td>\n",
              "      <td>NaN</td>\n",
              "      <td>Eugene Lefebvre was the first pilot to ever be...</td>\n",
              "      <td>0.0</td>\n",
              "      <td>NaN</td>\n",
              "      <td>Wright Byplane</td>\n",
              "      <td>1.0</td>\n",
              "      <td>1.0</td>\n",
              "      <td>0.0</td>\n",
              "      <td>0.0</td>\n",
              "      <td>1.0</td>\n",
              "      <td>1.0</td>\n",
              "    </tr>\n",
              "    <tr>\n",
              "      <th>2</th>\n",
              "      <td>7/12/1912</td>\n",
              "      <td>6:30</td>\n",
              "      <td>Atlantic City, New Jersey</td>\n",
              "      <td>Test flight</td>\n",
              "      <td>NaN</td>\n",
              "      <td>NaN</td>\n",
              "      <td>First U.S. dirigible Akron exploded just offsh...</td>\n",
              "      <td>0.0</td>\n",
              "      <td>Military - U.S. Navy</td>\n",
              "      <td>Dirigible</td>\n",
              "      <td>5.0</td>\n",
              "      <td>5.0</td>\n",
              "      <td>0.0</td>\n",
              "      <td>5.0</td>\n",
              "      <td>5.0</td>\n",
              "      <td>5.0</td>\n",
              "    </tr>\n",
              "    <tr>\n",
              "      <th>3</th>\n",
              "      <td>8/6/1913</td>\n",
              "      <td>NaN</td>\n",
              "      <td>Victoria, British Columbia, Canada</td>\n",
              "      <td>NaN</td>\n",
              "      <td>NaN</td>\n",
              "      <td>NaN</td>\n",
              "      <td>The first fatal airplane accident in Canada oc...</td>\n",
              "      <td>0.0</td>\n",
              "      <td>Private</td>\n",
              "      <td>Curtiss seaplane</td>\n",
              "      <td>1.0</td>\n",
              "      <td>1.0</td>\n",
              "      <td>0.0</td>\n",
              "      <td>1.0</td>\n",
              "      <td>1.0</td>\n",
              "      <td>1.0</td>\n",
              "    </tr>\n",
              "    <tr>\n",
              "      <th>4</th>\n",
              "      <td>9/9/1913</td>\n",
              "      <td>18:30</td>\n",
              "      <td>Over the North Sea</td>\n",
              "      <td>NaN</td>\n",
              "      <td>NaN</td>\n",
              "      <td>NaN</td>\n",
              "      <td>The airship flew into a thunderstorm and encou...</td>\n",
              "      <td>0.0</td>\n",
              "      <td>Military - German Navy</td>\n",
              "      <td>Zeppelin L-1 (airship)</td>\n",
              "      <td>20.0</td>\n",
              "      <td>14.0</td>\n",
              "      <td>NaN</td>\n",
              "      <td>NaN</td>\n",
              "      <td>20.0</td>\n",
              "      <td>20.0</td>\n",
              "    </tr>\n",
              "    <tr>\n",
              "      <th>...</th>\n",
              "      <td>...</td>\n",
              "      <td>...</td>\n",
              "      <td>...</td>\n",
              "      <td>...</td>\n",
              "      <td>...</td>\n",
              "      <td>...</td>\n",
              "      <td>...</td>\n",
              "      <td>...</td>\n",
              "      <td>...</td>\n",
              "      <td>...</td>\n",
              "      <td>...</td>\n",
              "      <td>...</td>\n",
              "      <td>...</td>\n",
              "      <td>...</td>\n",
              "      <td>...</td>\n",
              "      <td>...</td>\n",
              "    </tr>\n",
              "    <tr>\n",
              "      <th>4993</th>\n",
              "      <td>11/21/2022</td>\n",
              "      <td>10:15</td>\n",
              "      <td>Medellín, Colombia</td>\n",
              "      <td>Medellín - Pizarro</td>\n",
              "      <td>HK-5121</td>\n",
              "      <td>31-7652004</td>\n",
              "      <td>The plane was chartered to carry a team of six...</td>\n",
              "      <td>0.0</td>\n",
              "      <td>AeroPaca SAS</td>\n",
              "      <td>Piper PA-31-350 Navajo Chieftain</td>\n",
              "      <td>8.0</td>\n",
              "      <td>8.0</td>\n",
              "      <td>6.0</td>\n",
              "      <td>2.0</td>\n",
              "      <td>8.0</td>\n",
              "      <td>8.0</td>\n",
              "    </tr>\n",
              "    <tr>\n",
              "      <th>4994</th>\n",
              "      <td>1/15/2023</td>\n",
              "      <td>10:50</td>\n",
              "      <td>Pokhara, Nepal</td>\n",
              "      <td>Kathmandu - Pokhara</td>\n",
              "      <td>9NANC</td>\n",
              "      <td>754</td>\n",
              "      <td>Before approach, the pilot requested a change ...</td>\n",
              "      <td>0.0</td>\n",
              "      <td>Yeti Airlines</td>\n",
              "      <td>ATR 72-500-72-212-A</td>\n",
              "      <td>72.0</td>\n",
              "      <td>72.0</td>\n",
              "      <td>68.0</td>\n",
              "      <td>4.0</td>\n",
              "      <td>72.0</td>\n",
              "      <td>72.0</td>\n",
              "    </tr>\n",
              "    <tr>\n",
              "      <th>4995</th>\n",
              "      <td>9/16/2023</td>\n",
              "      <td>NaN</td>\n",
              "      <td>Barcelos, Brazil</td>\n",
              "      <td>NaN</td>\n",
              "      <td>PT-SOG</td>\n",
              "      <td>110490</td>\n",
              "      <td>The air taxi crashed in heavy rain while attem...</td>\n",
              "      <td>0.0</td>\n",
              "      <td>Manaus Aerotaxi</td>\n",
              "      <td>Embraer EMB-110P1 Bandeirante</td>\n",
              "      <td>14.0</td>\n",
              "      <td>14.0</td>\n",
              "      <td>12.0</td>\n",
              "      <td>2.0</td>\n",
              "      <td>14.0</td>\n",
              "      <td>14.0</td>\n",
              "    </tr>\n",
              "    <tr>\n",
              "      <th>4996</th>\n",
              "      <td>10/29/2023</td>\n",
              "      <td>6:30</td>\n",
              "      <td>Rio Branco, Brazil</td>\n",
              "      <td>Rio Branco - Envira</td>\n",
              "      <td>PT-MEE</td>\n",
              "      <td>208B0344</td>\n",
              "      <td>The air taxi crashed into a heavy wooded area ...</td>\n",
              "      <td>0.0</td>\n",
              "      <td>ART Taxi Aero</td>\n",
              "      <td>Cessna 208B Grand Caravan</td>\n",
              "      <td>12.0</td>\n",
              "      <td>12.0</td>\n",
              "      <td>10.0</td>\n",
              "      <td>2.0</td>\n",
              "      <td>12.0</td>\n",
              "      <td>12.0</td>\n",
              "    </tr>\n",
              "    <tr>\n",
              "      <th>4997</th>\n",
              "      <td>11/1/2023</td>\n",
              "      <td>14:15</td>\n",
              "      <td>Morelos,  Mexico</td>\n",
              "      <td>Toluca - Cuernavaca Airport</td>\n",
              "      <td>XA-IRE</td>\n",
              "      <td>35A-354</td>\n",
              "      <td>A business jet operating as an air ambulance, ...</td>\n",
              "      <td>0.0</td>\n",
              "      <td>Jet Rescue Air Ambulance</td>\n",
              "      <td>\\tLearjet 35A</td>\n",
              "      <td>4.0</td>\n",
              "      <td>4.0</td>\n",
              "      <td>2.0</td>\n",
              "      <td>2.0</td>\n",
              "      <td>4.0</td>\n",
              "      <td>4.0</td>\n",
              "    </tr>\n",
              "  </tbody>\n",
              "</table>\n",
              "<p>4998 rows × 16 columns</p>\n",
              "</div>\n",
              "    <div class=\"colab-df-buttons\">\n",
              "\n",
              "  <div class=\"colab-df-container\">\n",
              "    <button class=\"colab-df-convert\" onclick=\"convertToInteractive('df-50753226-42f2-46a7-a311-9071a0e239ab')\"\n",
              "            title=\"Convert this dataframe to an interactive table.\"\n",
              "            style=\"display:none;\">\n",
              "\n",
              "  <svg xmlns=\"http://www.w3.org/2000/svg\" height=\"24px\" viewBox=\"0 -960 960 960\">\n",
              "    <path d=\"M120-120v-720h720v720H120Zm60-500h600v-160H180v160Zm220 220h160v-160H400v160Zm0 220h160v-160H400v160ZM180-400h160v-160H180v160Zm440 0h160v-160H620v160ZM180-180h160v-160H180v160Zm440 0h160v-160H620v160Z\"/>\n",
              "  </svg>\n",
              "    </button>\n",
              "\n",
              "  <style>\n",
              "    .colab-df-container {\n",
              "      display:flex;\n",
              "      gap: 12px;\n",
              "    }\n",
              "\n",
              "    .colab-df-convert {\n",
              "      background-color: #E8F0FE;\n",
              "      border: none;\n",
              "      border-radius: 50%;\n",
              "      cursor: pointer;\n",
              "      display: none;\n",
              "      fill: #1967D2;\n",
              "      height: 32px;\n",
              "      padding: 0 0 0 0;\n",
              "      width: 32px;\n",
              "    }\n",
              "\n",
              "    .colab-df-convert:hover {\n",
              "      background-color: #E2EBFA;\n",
              "      box-shadow: 0px 1px 2px rgba(60, 64, 67, 0.3), 0px 1px 3px 1px rgba(60, 64, 67, 0.15);\n",
              "      fill: #174EA6;\n",
              "    }\n",
              "\n",
              "    .colab-df-buttons div {\n",
              "      margin-bottom: 4px;\n",
              "    }\n",
              "\n",
              "    [theme=dark] .colab-df-convert {\n",
              "      background-color: #3B4455;\n",
              "      fill: #D2E3FC;\n",
              "    }\n",
              "\n",
              "    [theme=dark] .colab-df-convert:hover {\n",
              "      background-color: #434B5C;\n",
              "      box-shadow: 0px 1px 3px 1px rgba(0, 0, 0, 0.15);\n",
              "      filter: drop-shadow(0px 1px 2px rgba(0, 0, 0, 0.3));\n",
              "      fill: #FFFFFF;\n",
              "    }\n",
              "  </style>\n",
              "\n",
              "    <script>\n",
              "      const buttonEl =\n",
              "        document.querySelector('#df-50753226-42f2-46a7-a311-9071a0e239ab button.colab-df-convert');\n",
              "      buttonEl.style.display =\n",
              "        google.colab.kernel.accessAllowed ? 'block' : 'none';\n",
              "\n",
              "      async function convertToInteractive(key) {\n",
              "        const element = document.querySelector('#df-50753226-42f2-46a7-a311-9071a0e239ab');\n",
              "        const dataTable =\n",
              "          await google.colab.kernel.invokeFunction('convertToInteractive',\n",
              "                                                    [key], {});\n",
              "        if (!dataTable) return;\n",
              "\n",
              "        const docLinkHtml = 'Like what you see? Visit the ' +\n",
              "          '<a target=\"_blank\" href=https://colab.research.google.com/notebooks/data_table.ipynb>data table notebook</a>'\n",
              "          + ' to learn more about interactive tables.';\n",
              "        element.innerHTML = '';\n",
              "        dataTable['output_type'] = 'display_data';\n",
              "        await google.colab.output.renderOutput(dataTable, element);\n",
              "        const docLink = document.createElement('div');\n",
              "        docLink.innerHTML = docLinkHtml;\n",
              "        element.appendChild(docLink);\n",
              "      }\n",
              "    </script>\n",
              "  </div>\n",
              "\n",
              "\n",
              "<div id=\"df-6878a9d1-29f8-4cdc-99b4-8fbcd22f7315\">\n",
              "  <button class=\"colab-df-quickchart\" onclick=\"quickchart('df-6878a9d1-29f8-4cdc-99b4-8fbcd22f7315')\"\n",
              "            title=\"Suggest charts\"\n",
              "            style=\"display:none;\">\n",
              "\n",
              "<svg xmlns=\"http://www.w3.org/2000/svg\" height=\"24px\"viewBox=\"0 0 24 24\"\n",
              "     width=\"24px\">\n",
              "    <g>\n",
              "        <path d=\"M19 3H5c-1.1 0-2 .9-2 2v14c0 1.1.9 2 2 2h14c1.1 0 2-.9 2-2V5c0-1.1-.9-2-2-2zM9 17H7v-7h2v7zm4 0h-2V7h2v10zm4 0h-2v-4h2v4z\"/>\n",
              "    </g>\n",
              "</svg>\n",
              "  </button>\n",
              "\n",
              "<style>\n",
              "  .colab-df-quickchart {\n",
              "      --bg-color: #E8F0FE;\n",
              "      --fill-color: #1967D2;\n",
              "      --hover-bg-color: #E2EBFA;\n",
              "      --hover-fill-color: #174EA6;\n",
              "      --disabled-fill-color: #AAA;\n",
              "      --disabled-bg-color: #DDD;\n",
              "  }\n",
              "\n",
              "  [theme=dark] .colab-df-quickchart {\n",
              "      --bg-color: #3B4455;\n",
              "      --fill-color: #D2E3FC;\n",
              "      --hover-bg-color: #434B5C;\n",
              "      --hover-fill-color: #FFFFFF;\n",
              "      --disabled-bg-color: #3B4455;\n",
              "      --disabled-fill-color: #666;\n",
              "  }\n",
              "\n",
              "  .colab-df-quickchart {\n",
              "    background-color: var(--bg-color);\n",
              "    border: none;\n",
              "    border-radius: 50%;\n",
              "    cursor: pointer;\n",
              "    display: none;\n",
              "    fill: var(--fill-color);\n",
              "    height: 32px;\n",
              "    padding: 0;\n",
              "    width: 32px;\n",
              "  }\n",
              "\n",
              "  .colab-df-quickchart:hover {\n",
              "    background-color: var(--hover-bg-color);\n",
              "    box-shadow: 0 1px 2px rgba(60, 64, 67, 0.3), 0 1px 3px 1px rgba(60, 64, 67, 0.15);\n",
              "    fill: var(--button-hover-fill-color);\n",
              "  }\n",
              "\n",
              "  .colab-df-quickchart-complete:disabled,\n",
              "  .colab-df-quickchart-complete:disabled:hover {\n",
              "    background-color: var(--disabled-bg-color);\n",
              "    fill: var(--disabled-fill-color);\n",
              "    box-shadow: none;\n",
              "  }\n",
              "\n",
              "  .colab-df-spinner {\n",
              "    border: 2px solid var(--fill-color);\n",
              "    border-color: transparent;\n",
              "    border-bottom-color: var(--fill-color);\n",
              "    animation:\n",
              "      spin 1s steps(1) infinite;\n",
              "  }\n",
              "\n",
              "  @keyframes spin {\n",
              "    0% {\n",
              "      border-color: transparent;\n",
              "      border-bottom-color: var(--fill-color);\n",
              "      border-left-color: var(--fill-color);\n",
              "    }\n",
              "    20% {\n",
              "      border-color: transparent;\n",
              "      border-left-color: var(--fill-color);\n",
              "      border-top-color: var(--fill-color);\n",
              "    }\n",
              "    30% {\n",
              "      border-color: transparent;\n",
              "      border-left-color: var(--fill-color);\n",
              "      border-top-color: var(--fill-color);\n",
              "      border-right-color: var(--fill-color);\n",
              "    }\n",
              "    40% {\n",
              "      border-color: transparent;\n",
              "      border-right-color: var(--fill-color);\n",
              "      border-top-color: var(--fill-color);\n",
              "    }\n",
              "    60% {\n",
              "      border-color: transparent;\n",
              "      border-right-color: var(--fill-color);\n",
              "    }\n",
              "    80% {\n",
              "      border-color: transparent;\n",
              "      border-right-color: var(--fill-color);\n",
              "      border-bottom-color: var(--fill-color);\n",
              "    }\n",
              "    90% {\n",
              "      border-color: transparent;\n",
              "      border-bottom-color: var(--fill-color);\n",
              "    }\n",
              "  }\n",
              "</style>\n",
              "\n",
              "  <script>\n",
              "    async function quickchart(key) {\n",
              "      const quickchartButtonEl =\n",
              "        document.querySelector('#' + key + ' button');\n",
              "      quickchartButtonEl.disabled = true;  // To prevent multiple clicks.\n",
              "      quickchartButtonEl.classList.add('colab-df-spinner');\n",
              "      try {\n",
              "        const charts = await google.colab.kernel.invokeFunction(\n",
              "            'suggestCharts', [key], {});\n",
              "      } catch (error) {\n",
              "        console.error('Error during call to suggestCharts:', error);\n",
              "      }\n",
              "      quickchartButtonEl.classList.remove('colab-df-spinner');\n",
              "      quickchartButtonEl.classList.add('colab-df-quickchart-complete');\n",
              "    }\n",
              "    (() => {\n",
              "      let quickchartButtonEl =\n",
              "        document.querySelector('#df-6878a9d1-29f8-4cdc-99b4-8fbcd22f7315 button');\n",
              "      quickchartButtonEl.style.display =\n",
              "        google.colab.kernel.accessAllowed ? 'block' : 'none';\n",
              "    })();\n",
              "  </script>\n",
              "</div>\n",
              "    </div>\n",
              "  </div>\n"
            ],
            "text/plain": [
              "            Date   Time                            Location  \\\n",
              "0      9/17/1908  17:18                 Fort Myer, Virginia   \n",
              "1       9/7/1909    NaN             Juvisy-sur-Orge, France   \n",
              "2      7/12/1912   6:30           Atlantic City, New Jersey   \n",
              "3       8/6/1913    NaN  Victoria, British Columbia, Canada   \n",
              "4       9/9/1913  18:30                  Over the North Sea   \n",
              "...          ...    ...                                 ...   \n",
              "4993  11/21/2022  10:15                  Medellín, Colombia   \n",
              "4994   1/15/2023  10:50                      Pokhara, Nepal   \n",
              "4995   9/16/2023    NaN                    Barcelos, Brazil   \n",
              "4996  10/29/2023   6:30                  Rio Branco, Brazil   \n",
              "4997   11/1/2023  14:15                    Morelos,  Mexico   \n",
              "\n",
              "                            Route Registration       cn/ln  \\\n",
              "0                   Demonstration          NaN           1   \n",
              "1                        Air show          SC1         NaN   \n",
              "2                     Test flight          NaN         NaN   \n",
              "3                             NaN          NaN         NaN   \n",
              "4                             NaN          NaN         NaN   \n",
              "...                           ...          ...         ...   \n",
              "4993           Medellín - Pizarro     HK-5121   31-7652004   \n",
              "4994          Kathmandu - Pokhara       9NANC          754   \n",
              "4995                          NaN      PT-SOG       110490   \n",
              "4996          Rio Branco - Envira      PT-MEE     208B0344   \n",
              "4997  Toluca - Cuernavaca Airport       XA-IRE     35A-354   \n",
              "\n",
              "                                                Summary  Ground_fillna  \\\n",
              "0     During a demonstration flight, a U.S. Army fly...            0.0   \n",
              "1     Eugene Lefebvre was the first pilot to ever be...            0.0   \n",
              "2     First U.S. dirigible Akron exploded just offsh...            0.0   \n",
              "3     The first fatal airplane accident in Canada oc...            0.0   \n",
              "4     The airship flew into a thunderstorm and encou...            0.0   \n",
              "...                                                 ...            ...   \n",
              "4993  The plane was chartered to carry a team of six...            0.0   \n",
              "4994  Before approach, the pilot requested a change ...            0.0   \n",
              "4995  The air taxi crashed in heavy rain while attem...            0.0   \n",
              "4996  The air taxi crashed into a heavy wooded area ...            0.0   \n",
              "4997  A business jet operating as an air ambulance, ...            0.0   \n",
              "\n",
              "               Operator_fillna                    AC Type_fillna  \\\n",
              "0         Military - U.S. Army                  Wright Flyer III   \n",
              "1                          NaN                    Wright Byplane   \n",
              "2         Military - U.S. Navy                         Dirigible   \n",
              "3                      Private                  Curtiss seaplane   \n",
              "4       Military - German Navy            Zeppelin L-1 (airship)   \n",
              "...                        ...                               ...   \n",
              "4993              AeroPaca SAS  Piper PA-31-350 Navajo Chieftain   \n",
              "4994             Yeti Airlines               ATR 72-500-72-212-A   \n",
              "4995           Manaus Aerotaxi     Embraer EMB-110P1 Bandeirante   \n",
              "4996             ART Taxi Aero         Cessna 208B Grand Caravan   \n",
              "4997  Jet Rescue Air Ambulance                     \\tLearjet 35A   \n",
              "\n",
              "      Aboard_fillna  Fatalities_fillna  Fatalities Passangers_fillna  \\\n",
              "0               2.0                1.0                           1.0   \n",
              "1               1.0                1.0                           0.0   \n",
              "2               5.0                5.0                           0.0   \n",
              "3               1.0                1.0                           0.0   \n",
              "4              20.0               14.0                           NaN   \n",
              "...             ...                ...                           ...   \n",
              "4993            8.0                8.0                           6.0   \n",
              "4994           72.0               72.0                          68.0   \n",
              "4995           14.0               14.0                          12.0   \n",
              "4996           12.0               12.0                          10.0   \n",
              "4997            4.0                4.0                           2.0   \n",
              "\n",
              "      Fatalities Crew_fillna  Aboard_Passangers_fillna  Aboard_Crew_fillna  \n",
              "0                        0.0                       2.0                 2.0  \n",
              "1                        0.0                       1.0                 1.0  \n",
              "2                        5.0                       5.0                 5.0  \n",
              "3                        1.0                       1.0                 1.0  \n",
              "4                        NaN                      20.0                20.0  \n",
              "...                      ...                       ...                 ...  \n",
              "4993                     2.0                       8.0                 8.0  \n",
              "4994                     4.0                      72.0                72.0  \n",
              "4995                     2.0                      14.0                14.0  \n",
              "4996                     2.0                      12.0                12.0  \n",
              "4997                     2.0                       4.0                 4.0  \n",
              "\n",
              "[4998 rows x 16 columns]"
            ]
          },
          "execution_count": 52,
          "metadata": {},
          "output_type": "execute_result"
        }
      ],
      "source": [
        "med_ground = df['Ground'].median() #находим значения на которые будем заменять\n",
        "mode_AC = df['AC Type'].mode()\n",
        "mode_Operator = df['Operator'].mode()\n",
        "mode_Fatalities = df['Fatalities'].mode()\n",
        "mode_Fatalities_Passangers = df['Fatalities Passangers'].mode()\n",
        "mode_Fatalities_Crew = df['Fatalities Crew'].mode()\n",
        "mean_Aboard = df['Aboard'].mean()\n",
        "mean_Aboard_Passangers = df['Aboard Passangers'].mean()\n",
        "mean_Aboard_Crew = df['Aboard Crew'].mean()\n",
        "df['Ground_fillna'] = df['Ground'].fillna(med_ground) #создаем новые признаки без пропусков\n",
        "df['Operator_fillna'] = df['Operator'].fillna(mode_Operator)\n",
        "df['AC Type_fillna'] = df['AC Type'].fillna(mode_AC)\n",
        "df['Aboard_fillna'] = df['Aboard'].fillna(mean_Aboard)\n",
        "df['Fatalities_fillna'] = df['Fatalities'].fillna(mode_Fatalities)\n",
        "df['Fatalities Passangers_fillna'] = df['Fatalities Passangers'].fillna(mode_Fatalities_Passangers)\n",
        "df['Fatalities Crew_fillna'] = df['Fatalities Crew'].fillna(mode_Fatalities_Crew)\n",
        "df['Aboard_Passangers_fillna'] = df['Aboard'].fillna(mean_Aboard_Passangers)\n",
        "df['Aboard_Crew_fillna'] = df['Aboard'].fillna(mean_Aboard_Crew)\n",
        "df_cleaned = df.drop(columns=['Flight #', 'Ground', 'AC Type', 'Operator', 'Aboard', 'Aboard Crew',\n",
        "                              'Aboard Passangers', 'Fatalities', 'Fatalities Passangers', 'Fatalities Crew']) #удаляем старые столбцы\n",
        "df_cleaned"
      ]
    },
    {
      "cell_type": "markdown",
      "metadata": {
        "id": "eYBGaFfA2K5U"
      },
      "source": [
        "Теперь, проведем проверку на дубликаты"
      ]
    },
    {
      "cell_type": "code",
      "execution_count": null,
      "metadata": {
        "id": "QA0c1Xbc2K5U"
      },
      "outputs": [],
      "source": [
        "duplicates = df_cleaned.duplicated().sum()"
      ]
    },
    {
      "cell_type": "markdown",
      "metadata": {
        "id": "W1x8kGUU2K5U"
      },
      "source": [
        "В датасете нет полных дубликатов, ни строк, ни столбцов."
      ]
    },
    {
      "cell_type": "markdown",
      "metadata": {
        "id": "7E5fGQ4t2K5V"
      },
      "source": [
        "Для определения выбросов будем обращаться только к количественным данным,\n",
        "кроме колонки “cn/ln”, так как это номер самолета и выбросы там смотреть\n",
        "бессмысленно. Для работы с остальными количественными данными пользовались\n",
        "методом 3 сигм (применили с помощью функции общего вида)."
      ]
    },
    {
      "cell_type": "code",
      "execution_count": null,
      "metadata": {
        "colab": {
          "base_uri": "https://localhost:8080/",
          "height": 983
        },
        "id": "bSEarY_42K5V",
        "outputId": "2bf8d109-a855-4982-80b1-75b1e50edfa3",
        "scrolled": true
      },
      "outputs": [
        {
          "data": {
            "application/vnd.google.colaboratory.intrinsic+json": {
              "summary": "{\n  \"name\": \"df_cleaned_no_outliers\",\n  \"rows\": 4135,\n  \"fields\": [\n    {\n      \"column\": \"Date\",\n      \"properties\": {\n        \"dtype\": \"object\",\n        \"num_unique_values\": 3836,\n        \"samples\": [\n          \"11/6/1952\",\n          \"7/16/1956\",\n          \"7/31/1947\"\n        ],\n        \"semantic_type\": \"\",\n        \"description\": \"\"\n      }\n    },\n    {\n      \"column\": \"Time\",\n      \"properties\": {\n        \"dtype\": \"category\",\n        \"num_unique_values\": 963,\n        \"samples\": [\n          \"18:53\",\n          \"23:08\",\n          \"16:18\"\n        ],\n        \"semantic_type\": \"\",\n        \"description\": \"\"\n      }\n    },\n    {\n      \"column\": \"Location\",\n      \"properties\": {\n        \"dtype\": \"string\",\n        \"num_unique_values\": 3491,\n        \"samples\": [\n          \"Rutbah Wells, Syria\",\n          \"Brussels, Belgium\",\n          \"Teterboro, New Jersey\"\n        ],\n        \"semantic_type\": \"\",\n        \"description\": \"\"\n      }\n    },\n    {\n      \"column\": \"Route\",\n      \"properties\": {\n        \"dtype\": \"string\",\n        \"num_unique_values\": 3245,\n        \"samples\": [\n          \"Villafranca, Italy - Eindhoven AB\",\n          \"Nalchik - Leninakan\",\n          \"Isle of Man - Manchester\"\n        ],\n        \"semantic_type\": \"\",\n        \"description\": \"\"\n      }\n    },\n    {\n      \"column\": \"Registration\",\n      \"properties\": {\n        \"dtype\": \"string\",\n        \"num_unique_values\": 3944,\n        \"samples\": [\n          \"N992AA\",\n          \"N79DD\",\n          \"63-9751\"\n        ],\n        \"semantic_type\": \"\",\n        \"description\": \"\"\n      }\n    },\n    {\n      \"column\": \"cn/ln\",\n      \"properties\": {\n        \"dtype\": \"string\",\n        \"num_unique_values\": 3222,\n        \"samples\": [\n          \"5827\",\n          \"9834\",\n          \"12819\"\n        ],\n        \"semantic_type\": \"\",\n        \"description\": \"\"\n      }\n    },\n    {\n      \"column\": \"Summary\",\n      \"properties\": {\n        \"dtype\": \"string\",\n        \"num_unique_values\": 4035,\n        \"samples\": [\n          \" \\tThe plane was attempting to land and went around on final approach to Runway 06. The aircraft joined a left downwind when a wing contacted a hilltop about 900 feet north of the airport.The flight attendant and 5 passengers survived the accident.\",\n          \"While cruising along the coast, the mail plane crashed into the Atlantic Ocean for unknown reasons.\",\n          \"The stickshaker sounded shortly after VR. The aircraft rotated and climbed slowly.  The right wing contacted the snow covered ground 94 feet left of the extended centerline at a distance of 2,760 feet from the runway.  The aircraft rolled inverted and broke up.  The probable cause was an attempted takeoff with the flaps in a retracted position. This resulted from a combination of factors: a) inadequate cockpit checklist and procedures; b) a warning system inadequacy associated with cold weather operations; c) ineffective control practices regarding manufacturer's Service Bulletins; and d) stresses imposed upon the crew by their attempts to meet an air traffic control deadline.\"\n        ],\n        \"semantic_type\": \"\",\n        \"description\": \"\"\n      }\n    },\n    {\n      \"column\": \"Ground_fillna\",\n      \"properties\": {\n        \"dtype\": \"number\",\n        \"std\": 5.684418497762314,\n        \"min\": 0.0,\n        \"max\": 225.0,\n        \"num_unique_values\": 43,\n        \"samples\": [\n          50.0,\n          23.0,\n          33.0\n        ],\n        \"semantic_type\": \"\",\n        \"description\": \"\"\n      }\n    },\n    {\n      \"column\": \"Operator_fillna\",\n      \"properties\": {\n        \"dtype\": \"category\",\n        \"num_unique_values\": 2014,\n        \"samples\": [\n          \"Military - Congolese Air Force\",\n          \"Military - United States Air Force\",\n          \"Indamer\"\n        ],\n        \"semantic_type\": \"\",\n        \"description\": \"\"\n      }\n    },\n    {\n      \"column\": \"AC Type_fillna\",\n      \"properties\": {\n        \"dtype\": \"category\",\n        \"num_unique_values\": 2038,\n        \"samples\": [\n          \"Swearingen SA.226TC Metro II\",\n          \"Let L-401UVP-20\",\n          \"Cessna 207 / Cessna 207\"\n        ],\n        \"semantic_type\": \"\",\n        \"description\": \"\"\n      }\n    },\n    {\n      \"column\": \"Aboard_fillna\",\n      \"properties\": {\n        \"dtype\": \"number\",\n        \"std\": 16.52198074640537,\n        \"min\": 0.0,\n        \"max\": 94.0,\n        \"num_unique_values\": 94,\n        \"samples\": [\n          44.0,\n          18.0,\n          55.0\n        ],\n        \"semantic_type\": \"\",\n        \"description\": \"\"\n      }\n    },\n    {\n      \"column\": \"Fatalities_fillna\",\n      \"properties\": {\n        \"dtype\": \"number\",\n        \"std\": 13.243978429850795,\n        \"min\": 0.0,\n        \"max\": 63.0,\n        \"num_unique_values\": 64,\n        \"samples\": [\n          58.0,\n          54.0,\n          1.0\n        ],\n        \"semantic_type\": \"\",\n        \"description\": \"\"\n      }\n    },\n    {\n      \"column\": \"Fatalities Passangers_fillna\",\n      \"properties\": {\n        \"dtype\": \"number\",\n        \"std\": 12.260959510851393,\n        \"min\": 0.0,\n        \"max\": 53.0,\n        \"num_unique_values\": 54,\n        \"samples\": [\n          17.0,\n          45.0,\n          43.0\n        ],\n        \"semantic_type\": \"\",\n        \"description\": \"\"\n      }\n    },\n    {\n      \"column\": \"Fatalities Crew_fillna\",\n      \"properties\": {\n        \"dtype\": \"number\",\n        \"std\": 2.1486176415037677,\n        \"min\": 0.0,\n        \"max\": 11.0,\n        \"num_unique_values\": 12,\n        \"samples\": [\n          10.0,\n          6.0,\n          0.0\n        ],\n        \"semantic_type\": \"\",\n        \"description\": \"\"\n      }\n    },\n    {\n      \"column\": \"Aboard_Passangers_fillna\",\n      \"properties\": {\n        \"dtype\": \"number\",\n        \"std\": 16.520645039992868,\n        \"min\": 0.0,\n        \"max\": 94.0,\n        \"num_unique_values\": 94,\n        \"samples\": [\n          44.0,\n          18.0,\n          55.0\n        ],\n        \"semantic_type\": \"\",\n        \"description\": \"\"\n      }\n    },\n    {\n      \"column\": \"Aboard_Crew_fillna\",\n      \"properties\": {\n        \"dtype\": \"number\",\n        \"std\": 16.522266448316728,\n        \"min\": 0.0,\n        \"max\": 94.0,\n        \"num_unique_values\": 94,\n        \"samples\": [\n          44.0,\n          18.0,\n          55.0\n        ],\n        \"semantic_type\": \"\",\n        \"description\": \"\"\n      }\n    }\n  ]\n}",
              "type": "dataframe",
              "variable_name": "df_cleaned_no_outliers"
            },
            "text/html": [
              "\n",
              "  <div id=\"df-fc617c75-91b7-43b0-a2b8-138df72fcb62\" class=\"colab-df-container\">\n",
              "    <div>\n",
              "<style scoped>\n",
              "    .dataframe tbody tr th:only-of-type {\n",
              "        vertical-align: middle;\n",
              "    }\n",
              "\n",
              "    .dataframe tbody tr th {\n",
              "        vertical-align: top;\n",
              "    }\n",
              "\n",
              "    .dataframe thead th {\n",
              "        text-align: right;\n",
              "    }\n",
              "</style>\n",
              "<table border=\"1\" class=\"dataframe\">\n",
              "  <thead>\n",
              "    <tr style=\"text-align: right;\">\n",
              "      <th></th>\n",
              "      <th>Date</th>\n",
              "      <th>Time</th>\n",
              "      <th>Location</th>\n",
              "      <th>Route</th>\n",
              "      <th>Registration</th>\n",
              "      <th>cn/ln</th>\n",
              "      <th>Summary</th>\n",
              "      <th>Ground_fillna</th>\n",
              "      <th>Operator_fillna</th>\n",
              "      <th>AC Type_fillna</th>\n",
              "      <th>Aboard_fillna</th>\n",
              "      <th>Fatalities_fillna</th>\n",
              "      <th>Fatalities Passangers_fillna</th>\n",
              "      <th>Fatalities Crew_fillna</th>\n",
              "      <th>Aboard_Passangers_fillna</th>\n",
              "      <th>Aboard_Crew_fillna</th>\n",
              "    </tr>\n",
              "  </thead>\n",
              "  <tbody>\n",
              "    <tr>\n",
              "      <th>0</th>\n",
              "      <td>9/17/1908</td>\n",
              "      <td>17:18</td>\n",
              "      <td>Fort Myer, Virginia</td>\n",
              "      <td>Demonstration</td>\n",
              "      <td>NaN</td>\n",
              "      <td>1</td>\n",
              "      <td>During a demonstration flight, a U.S. Army fly...</td>\n",
              "      <td>0.0</td>\n",
              "      <td>Military - U.S. Army</td>\n",
              "      <td>Wright Flyer III</td>\n",
              "      <td>2.0</td>\n",
              "      <td>1.0</td>\n",
              "      <td>1.0</td>\n",
              "      <td>0.0</td>\n",
              "      <td>2.0</td>\n",
              "      <td>2.0</td>\n",
              "    </tr>\n",
              "    <tr>\n",
              "      <th>1</th>\n",
              "      <td>9/7/1909</td>\n",
              "      <td>NaN</td>\n",
              "      <td>Juvisy-sur-Orge, France</td>\n",
              "      <td>Air show</td>\n",
              "      <td>SC1</td>\n",
              "      <td>NaN</td>\n",
              "      <td>Eugene Lefebvre was the first pilot to ever be...</td>\n",
              "      <td>0.0</td>\n",
              "      <td>NaN</td>\n",
              "      <td>Wright Byplane</td>\n",
              "      <td>1.0</td>\n",
              "      <td>1.0</td>\n",
              "      <td>0.0</td>\n",
              "      <td>0.0</td>\n",
              "      <td>1.0</td>\n",
              "      <td>1.0</td>\n",
              "    </tr>\n",
              "    <tr>\n",
              "      <th>2</th>\n",
              "      <td>7/12/1912</td>\n",
              "      <td>6:30</td>\n",
              "      <td>Atlantic City, New Jersey</td>\n",
              "      <td>Test flight</td>\n",
              "      <td>NaN</td>\n",
              "      <td>NaN</td>\n",
              "      <td>First U.S. dirigible Akron exploded just offsh...</td>\n",
              "      <td>0.0</td>\n",
              "      <td>Military - U.S. Navy</td>\n",
              "      <td>Dirigible</td>\n",
              "      <td>5.0</td>\n",
              "      <td>5.0</td>\n",
              "      <td>0.0</td>\n",
              "      <td>5.0</td>\n",
              "      <td>5.0</td>\n",
              "      <td>5.0</td>\n",
              "    </tr>\n",
              "    <tr>\n",
              "      <th>3</th>\n",
              "      <td>8/6/1913</td>\n",
              "      <td>NaN</td>\n",
              "      <td>Victoria, British Columbia, Canada</td>\n",
              "      <td>NaN</td>\n",
              "      <td>NaN</td>\n",
              "      <td>NaN</td>\n",
              "      <td>The first fatal airplane accident in Canada oc...</td>\n",
              "      <td>0.0</td>\n",
              "      <td>Private</td>\n",
              "      <td>Curtiss seaplane</td>\n",
              "      <td>1.0</td>\n",
              "      <td>1.0</td>\n",
              "      <td>0.0</td>\n",
              "      <td>1.0</td>\n",
              "      <td>1.0</td>\n",
              "      <td>1.0</td>\n",
              "    </tr>\n",
              "    <tr>\n",
              "      <th>23</th>\n",
              "      <td>12/16/1918</td>\n",
              "      <td>NaN</td>\n",
              "      <td>Elizabeth, New Jersey</td>\n",
              "      <td>NaN</td>\n",
              "      <td>97</td>\n",
              "      <td>NaN</td>\n",
              "      <td>Carl Smith was killed when his mail plane feet...</td>\n",
              "      <td>0.0</td>\n",
              "      <td>US Aerial Mail Service</td>\n",
              "      <td>De Havilland DH-4</td>\n",
              "      <td>1.0</td>\n",
              "      <td>1.0</td>\n",
              "      <td>0.0</td>\n",
              "      <td>1.0</td>\n",
              "      <td>1.0</td>\n",
              "      <td>1.0</td>\n",
              "    </tr>\n",
              "    <tr>\n",
              "      <th>...</th>\n",
              "      <td>...</td>\n",
              "      <td>...</td>\n",
              "      <td>...</td>\n",
              "      <td>...</td>\n",
              "      <td>...</td>\n",
              "      <td>...</td>\n",
              "      <td>...</td>\n",
              "      <td>...</td>\n",
              "      <td>...</td>\n",
              "      <td>...</td>\n",
              "      <td>...</td>\n",
              "      <td>...</td>\n",
              "      <td>...</td>\n",
              "      <td>...</td>\n",
              "      <td>...</td>\n",
              "      <td>...</td>\n",
              "    </tr>\n",
              "    <tr>\n",
              "      <th>4991</th>\n",
              "      <td>11/6/2022</td>\n",
              "      <td>8:53</td>\n",
              "      <td>Bukoba, Tanzania</td>\n",
              "      <td>Dar es-Salaam -Bukoba</td>\n",
              "      <td>5H-PWF</td>\n",
              "      <td>819</td>\n",
              "      <td>While on final approach to Bukoba Airport, the...</td>\n",
              "      <td>0.0</td>\n",
              "      <td>Precision Air</td>\n",
              "      <td>ATR 42-500</td>\n",
              "      <td>43.0</td>\n",
              "      <td>19.0</td>\n",
              "      <td>17.0</td>\n",
              "      <td>2.0</td>\n",
              "      <td>43.0</td>\n",
              "      <td>43.0</td>\n",
              "    </tr>\n",
              "    <tr>\n",
              "      <th>4993</th>\n",
              "      <td>11/21/2022</td>\n",
              "      <td>10:15</td>\n",
              "      <td>Medellín, Colombia</td>\n",
              "      <td>Medellín - Pizarro</td>\n",
              "      <td>HK-5121</td>\n",
              "      <td>31-7652004</td>\n",
              "      <td>The plane was chartered to carry a team of six...</td>\n",
              "      <td>0.0</td>\n",
              "      <td>AeroPaca SAS</td>\n",
              "      <td>Piper PA-31-350 Navajo Chieftain</td>\n",
              "      <td>8.0</td>\n",
              "      <td>8.0</td>\n",
              "      <td>6.0</td>\n",
              "      <td>2.0</td>\n",
              "      <td>8.0</td>\n",
              "      <td>8.0</td>\n",
              "    </tr>\n",
              "    <tr>\n",
              "      <th>4995</th>\n",
              "      <td>9/16/2023</td>\n",
              "      <td>NaN</td>\n",
              "      <td>Barcelos, Brazil</td>\n",
              "      <td>NaN</td>\n",
              "      <td>PT-SOG</td>\n",
              "      <td>110490</td>\n",
              "      <td>The air taxi crashed in heavy rain while attem...</td>\n",
              "      <td>0.0</td>\n",
              "      <td>Manaus Aerotaxi</td>\n",
              "      <td>Embraer EMB-110P1 Bandeirante</td>\n",
              "      <td>14.0</td>\n",
              "      <td>14.0</td>\n",
              "      <td>12.0</td>\n",
              "      <td>2.0</td>\n",
              "      <td>14.0</td>\n",
              "      <td>14.0</td>\n",
              "    </tr>\n",
              "    <tr>\n",
              "      <th>4996</th>\n",
              "      <td>10/29/2023</td>\n",
              "      <td>6:30</td>\n",
              "      <td>Rio Branco, Brazil</td>\n",
              "      <td>Rio Branco - Envira</td>\n",
              "      <td>PT-MEE</td>\n",
              "      <td>208B0344</td>\n",
              "      <td>The air taxi crashed into a heavy wooded area ...</td>\n",
              "      <td>0.0</td>\n",
              "      <td>ART Taxi Aero</td>\n",
              "      <td>Cessna 208B Grand Caravan</td>\n",
              "      <td>12.0</td>\n",
              "      <td>12.0</td>\n",
              "      <td>10.0</td>\n",
              "      <td>2.0</td>\n",
              "      <td>12.0</td>\n",
              "      <td>12.0</td>\n",
              "    </tr>\n",
              "    <tr>\n",
              "      <th>4997</th>\n",
              "      <td>11/1/2023</td>\n",
              "      <td>14:15</td>\n",
              "      <td>Morelos,  Mexico</td>\n",
              "      <td>Toluca - Cuernavaca Airport</td>\n",
              "      <td>XA-IRE</td>\n",
              "      <td>35A-354</td>\n",
              "      <td>A business jet operating as an air ambulance, ...</td>\n",
              "      <td>0.0</td>\n",
              "      <td>Jet Rescue Air Ambulance</td>\n",
              "      <td>\\tLearjet 35A</td>\n",
              "      <td>4.0</td>\n",
              "      <td>4.0</td>\n",
              "      <td>2.0</td>\n",
              "      <td>2.0</td>\n",
              "      <td>4.0</td>\n",
              "      <td>4.0</td>\n",
              "    </tr>\n",
              "  </tbody>\n",
              "</table>\n",
              "<p>4135 rows × 16 columns</p>\n",
              "</div>\n",
              "    <div class=\"colab-df-buttons\">\n",
              "\n",
              "  <div class=\"colab-df-container\">\n",
              "    <button class=\"colab-df-convert\" onclick=\"convertToInteractive('df-fc617c75-91b7-43b0-a2b8-138df72fcb62')\"\n",
              "            title=\"Convert this dataframe to an interactive table.\"\n",
              "            style=\"display:none;\">\n",
              "\n",
              "  <svg xmlns=\"http://www.w3.org/2000/svg\" height=\"24px\" viewBox=\"0 -960 960 960\">\n",
              "    <path d=\"M120-120v-720h720v720H120Zm60-500h600v-160H180v160Zm220 220h160v-160H400v160Zm0 220h160v-160H400v160ZM180-400h160v-160H180v160Zm440 0h160v-160H620v160ZM180-180h160v-160H180v160Zm440 0h160v-160H620v160Z\"/>\n",
              "  </svg>\n",
              "    </button>\n",
              "\n",
              "  <style>\n",
              "    .colab-df-container {\n",
              "      display:flex;\n",
              "      gap: 12px;\n",
              "    }\n",
              "\n",
              "    .colab-df-convert {\n",
              "      background-color: #E8F0FE;\n",
              "      border: none;\n",
              "      border-radius: 50%;\n",
              "      cursor: pointer;\n",
              "      display: none;\n",
              "      fill: #1967D2;\n",
              "      height: 32px;\n",
              "      padding: 0 0 0 0;\n",
              "      width: 32px;\n",
              "    }\n",
              "\n",
              "    .colab-df-convert:hover {\n",
              "      background-color: #E2EBFA;\n",
              "      box-shadow: 0px 1px 2px rgba(60, 64, 67, 0.3), 0px 1px 3px 1px rgba(60, 64, 67, 0.15);\n",
              "      fill: #174EA6;\n",
              "    }\n",
              "\n",
              "    .colab-df-buttons div {\n",
              "      margin-bottom: 4px;\n",
              "    }\n",
              "\n",
              "    [theme=dark] .colab-df-convert {\n",
              "      background-color: #3B4455;\n",
              "      fill: #D2E3FC;\n",
              "    }\n",
              "\n",
              "    [theme=dark] .colab-df-convert:hover {\n",
              "      background-color: #434B5C;\n",
              "      box-shadow: 0px 1px 3px 1px rgba(0, 0, 0, 0.15);\n",
              "      filter: drop-shadow(0px 1px 2px rgba(0, 0, 0, 0.3));\n",
              "      fill: #FFFFFF;\n",
              "    }\n",
              "  </style>\n",
              "\n",
              "    <script>\n",
              "      const buttonEl =\n",
              "        document.querySelector('#df-fc617c75-91b7-43b0-a2b8-138df72fcb62 button.colab-df-convert');\n",
              "      buttonEl.style.display =\n",
              "        google.colab.kernel.accessAllowed ? 'block' : 'none';\n",
              "\n",
              "      async function convertToInteractive(key) {\n",
              "        const element = document.querySelector('#df-fc617c75-91b7-43b0-a2b8-138df72fcb62');\n",
              "        const dataTable =\n",
              "          await google.colab.kernel.invokeFunction('convertToInteractive',\n",
              "                                                    [key], {});\n",
              "        if (!dataTable) return;\n",
              "\n",
              "        const docLinkHtml = 'Like what you see? Visit the ' +\n",
              "          '<a target=\"_blank\" href=https://colab.research.google.com/notebooks/data_table.ipynb>data table notebook</a>'\n",
              "          + ' to learn more about interactive tables.';\n",
              "        element.innerHTML = '';\n",
              "        dataTable['output_type'] = 'display_data';\n",
              "        await google.colab.output.renderOutput(dataTable, element);\n",
              "        const docLink = document.createElement('div');\n",
              "        docLink.innerHTML = docLinkHtml;\n",
              "        element.appendChild(docLink);\n",
              "      }\n",
              "    </script>\n",
              "  </div>\n",
              "\n",
              "\n",
              "<div id=\"df-5fc703a9-0568-4951-ab4e-db0c33355e6e\">\n",
              "  <button class=\"colab-df-quickchart\" onclick=\"quickchart('df-5fc703a9-0568-4951-ab4e-db0c33355e6e')\"\n",
              "            title=\"Suggest charts\"\n",
              "            style=\"display:none;\">\n",
              "\n",
              "<svg xmlns=\"http://www.w3.org/2000/svg\" height=\"24px\"viewBox=\"0 0 24 24\"\n",
              "     width=\"24px\">\n",
              "    <g>\n",
              "        <path d=\"M19 3H5c-1.1 0-2 .9-2 2v14c0 1.1.9 2 2 2h14c1.1 0 2-.9 2-2V5c0-1.1-.9-2-2-2zM9 17H7v-7h2v7zm4 0h-2V7h2v10zm4 0h-2v-4h2v4z\"/>\n",
              "    </g>\n",
              "</svg>\n",
              "  </button>\n",
              "\n",
              "<style>\n",
              "  .colab-df-quickchart {\n",
              "      --bg-color: #E8F0FE;\n",
              "      --fill-color: #1967D2;\n",
              "      --hover-bg-color: #E2EBFA;\n",
              "      --hover-fill-color: #174EA6;\n",
              "      --disabled-fill-color: #AAA;\n",
              "      --disabled-bg-color: #DDD;\n",
              "  }\n",
              "\n",
              "  [theme=dark] .colab-df-quickchart {\n",
              "      --bg-color: #3B4455;\n",
              "      --fill-color: #D2E3FC;\n",
              "      --hover-bg-color: #434B5C;\n",
              "      --hover-fill-color: #FFFFFF;\n",
              "      --disabled-bg-color: #3B4455;\n",
              "      --disabled-fill-color: #666;\n",
              "  }\n",
              "\n",
              "  .colab-df-quickchart {\n",
              "    background-color: var(--bg-color);\n",
              "    border: none;\n",
              "    border-radius: 50%;\n",
              "    cursor: pointer;\n",
              "    display: none;\n",
              "    fill: var(--fill-color);\n",
              "    height: 32px;\n",
              "    padding: 0;\n",
              "    width: 32px;\n",
              "  }\n",
              "\n",
              "  .colab-df-quickchart:hover {\n",
              "    background-color: var(--hover-bg-color);\n",
              "    box-shadow: 0 1px 2px rgba(60, 64, 67, 0.3), 0 1px 3px 1px rgba(60, 64, 67, 0.15);\n",
              "    fill: var(--button-hover-fill-color);\n",
              "  }\n",
              "\n",
              "  .colab-df-quickchart-complete:disabled,\n",
              "  .colab-df-quickchart-complete:disabled:hover {\n",
              "    background-color: var(--disabled-bg-color);\n",
              "    fill: var(--disabled-fill-color);\n",
              "    box-shadow: none;\n",
              "  }\n",
              "\n",
              "  .colab-df-spinner {\n",
              "    border: 2px solid var(--fill-color);\n",
              "    border-color: transparent;\n",
              "    border-bottom-color: var(--fill-color);\n",
              "    animation:\n",
              "      spin 1s steps(1) infinite;\n",
              "  }\n",
              "\n",
              "  @keyframes spin {\n",
              "    0% {\n",
              "      border-color: transparent;\n",
              "      border-bottom-color: var(--fill-color);\n",
              "      border-left-color: var(--fill-color);\n",
              "    }\n",
              "    20% {\n",
              "      border-color: transparent;\n",
              "      border-left-color: var(--fill-color);\n",
              "      border-top-color: var(--fill-color);\n",
              "    }\n",
              "    30% {\n",
              "      border-color: transparent;\n",
              "      border-left-color: var(--fill-color);\n",
              "      border-top-color: var(--fill-color);\n",
              "      border-right-color: var(--fill-color);\n",
              "    }\n",
              "    40% {\n",
              "      border-color: transparent;\n",
              "      border-right-color: var(--fill-color);\n",
              "      border-top-color: var(--fill-color);\n",
              "    }\n",
              "    60% {\n",
              "      border-color: transparent;\n",
              "      border-right-color: var(--fill-color);\n",
              "    }\n",
              "    80% {\n",
              "      border-color: transparent;\n",
              "      border-right-color: var(--fill-color);\n",
              "      border-bottom-color: var(--fill-color);\n",
              "    }\n",
              "    90% {\n",
              "      border-color: transparent;\n",
              "      border-bottom-color: var(--fill-color);\n",
              "    }\n",
              "  }\n",
              "</style>\n",
              "\n",
              "  <script>\n",
              "    async function quickchart(key) {\n",
              "      const quickchartButtonEl =\n",
              "        document.querySelector('#' + key + ' button');\n",
              "      quickchartButtonEl.disabled = true;  // To prevent multiple clicks.\n",
              "      quickchartButtonEl.classList.add('colab-df-spinner');\n",
              "      try {\n",
              "        const charts = await google.colab.kernel.invokeFunction(\n",
              "            'suggestCharts', [key], {});\n",
              "      } catch (error) {\n",
              "        console.error('Error during call to suggestCharts:', error);\n",
              "      }\n",
              "      quickchartButtonEl.classList.remove('colab-df-spinner');\n",
              "      quickchartButtonEl.classList.add('colab-df-quickchart-complete');\n",
              "    }\n",
              "    (() => {\n",
              "      let quickchartButtonEl =\n",
              "        document.querySelector('#df-5fc703a9-0568-4951-ab4e-db0c33355e6e button');\n",
              "      quickchartButtonEl.style.display =\n",
              "        google.colab.kernel.accessAllowed ? 'block' : 'none';\n",
              "    })();\n",
              "  </script>\n",
              "</div>\n",
              "    </div>\n",
              "  </div>\n"
            ],
            "text/plain": [
              "            Date   Time                            Location  \\\n",
              "0      9/17/1908  17:18                 Fort Myer, Virginia   \n",
              "1       9/7/1909    NaN             Juvisy-sur-Orge, France   \n",
              "2      7/12/1912   6:30           Atlantic City, New Jersey   \n",
              "3       8/6/1913    NaN  Victoria, British Columbia, Canada   \n",
              "23    12/16/1918    NaN               Elizabeth, New Jersey   \n",
              "...          ...    ...                                 ...   \n",
              "4991   11/6/2022   8:53                    Bukoba, Tanzania   \n",
              "4993  11/21/2022  10:15                  Medellín, Colombia   \n",
              "4995   9/16/2023    NaN                    Barcelos, Brazil   \n",
              "4996  10/29/2023   6:30                  Rio Branco, Brazil   \n",
              "4997   11/1/2023  14:15                    Morelos,  Mexico   \n",
              "\n",
              "                            Route Registration       cn/ln  \\\n",
              "0                   Demonstration          NaN           1   \n",
              "1                        Air show          SC1         NaN   \n",
              "2                     Test flight          NaN         NaN   \n",
              "3                             NaN          NaN         NaN   \n",
              "23                            NaN           97         NaN   \n",
              "...                           ...          ...         ...   \n",
              "4991        Dar es-Salaam -Bukoba      5H-PWF          819   \n",
              "4993           Medellín - Pizarro     HK-5121   31-7652004   \n",
              "4995                          NaN      PT-SOG       110490   \n",
              "4996          Rio Branco - Envira      PT-MEE     208B0344   \n",
              "4997  Toluca - Cuernavaca Airport       XA-IRE     35A-354   \n",
              "\n",
              "                                                Summary  Ground_fillna  \\\n",
              "0     During a demonstration flight, a U.S. Army fly...            0.0   \n",
              "1     Eugene Lefebvre was the first pilot to ever be...            0.0   \n",
              "2     First U.S. dirigible Akron exploded just offsh...            0.0   \n",
              "3     The first fatal airplane accident in Canada oc...            0.0   \n",
              "23    Carl Smith was killed when his mail plane feet...            0.0   \n",
              "...                                                 ...            ...   \n",
              "4991  While on final approach to Bukoba Airport, the...            0.0   \n",
              "4993  The plane was chartered to carry a team of six...            0.0   \n",
              "4995  The air taxi crashed in heavy rain while attem...            0.0   \n",
              "4996  The air taxi crashed into a heavy wooded area ...            0.0   \n",
              "4997  A business jet operating as an air ambulance, ...            0.0   \n",
              "\n",
              "               Operator_fillna                    AC Type_fillna  \\\n",
              "0         Military - U.S. Army                  Wright Flyer III   \n",
              "1                          NaN                    Wright Byplane   \n",
              "2         Military - U.S. Navy                         Dirigible   \n",
              "3                      Private                  Curtiss seaplane   \n",
              "23      US Aerial Mail Service                 De Havilland DH-4   \n",
              "...                        ...                               ...   \n",
              "4991             Precision Air                        ATR 42-500   \n",
              "4993              AeroPaca SAS  Piper PA-31-350 Navajo Chieftain   \n",
              "4995           Manaus Aerotaxi     Embraer EMB-110P1 Bandeirante   \n",
              "4996             ART Taxi Aero         Cessna 208B Grand Caravan   \n",
              "4997  Jet Rescue Air Ambulance                     \\tLearjet 35A   \n",
              "\n",
              "      Aboard_fillna  Fatalities_fillna  Fatalities Passangers_fillna  \\\n",
              "0               2.0                1.0                           1.0   \n",
              "1               1.0                1.0                           0.0   \n",
              "2               5.0                5.0                           0.0   \n",
              "3               1.0                1.0                           0.0   \n",
              "23              1.0                1.0                           0.0   \n",
              "...             ...                ...                           ...   \n",
              "4991           43.0               19.0                          17.0   \n",
              "4993            8.0                8.0                           6.0   \n",
              "4995           14.0               14.0                          12.0   \n",
              "4996           12.0               12.0                          10.0   \n",
              "4997            4.0                4.0                           2.0   \n",
              "\n",
              "      Fatalities Crew_fillna  Aboard_Passangers_fillna  Aboard_Crew_fillna  \n",
              "0                        0.0                       2.0                 2.0  \n",
              "1                        0.0                       1.0                 1.0  \n",
              "2                        5.0                       5.0                 5.0  \n",
              "3                        1.0                       1.0                 1.0  \n",
              "23                       1.0                       1.0                 1.0  \n",
              "...                      ...                       ...                 ...  \n",
              "4991                     2.0                      43.0                43.0  \n",
              "4993                     2.0                       8.0                 8.0  \n",
              "4995                     2.0                      14.0                14.0  \n",
              "4996                     2.0                      12.0                12.0  \n",
              "4997                     2.0                       4.0                 4.0  \n",
              "\n",
              "[4135 rows x 16 columns]"
            ]
          },
          "execution_count": 54,
          "metadata": {},
          "output_type": "execute_result"
        }
      ],
      "source": [
        "def remove_outliers(df, target_columns):\n",
        "    for col in target_columns:\n",
        "        mean = df[col].mean()\n",
        "        std_dev = df[col].std()\n",
        "        lower_bound = mean - 3 * std_dev\n",
        "        upper_bound = mean + 3 * std_dev\n",
        "        df = df[(df[col] >= lower_bound) & (df[col] <= upper_bound)]\n",
        "    return df\n",
        "target_columns = ['Aboard_fillna', 'Aboard_Passangers_fillna', 'Aboard_Crew_fillna',\n",
        "                  'Fatalities_fillna',  'Fatalities Passangers_fillna', 'Fatalities Crew_fillna']\n",
        "df_cleaned_no_outliers = remove_outliers(df_cleaned, target_columns)\n",
        "df_cleaned_no_outliers"
      ]
    },
    {
      "cell_type": "markdown",
      "metadata": {
        "id": "IRonvpgK2K5V"
      },
      "source": [
        "Итого после очистки от выбросов и пропусков осталось 4135 строк и 16 столбцов. То есть\n",
        "выбросы и пропуски составляли примерно 17% от общего количества данных"
      ]
    },
    {
      "cell_type": "code",
      "execution_count": null,
      "metadata": {
        "colab": {
          "base_uri": "https://localhost:8080/",
          "height": 297
        },
        "id": "HWNtsoeN2K5V",
        "outputId": "07c377c5-868e-42ee-e7a1-42454c207635"
      },
      "outputs": [
        {
          "data": {
            "application/vnd.google.colaboratory.intrinsic+json": {
              "summary": "{\n  \"name\": \"df_cleaned_no_outliers\",\n  \"rows\": 8,\n  \"fields\": [\n    {\n      \"column\": \"Ground_fillna\",\n      \"properties\": {\n        \"dtype\": \"number\",\n        \"std\": 1452.3821485636915,\n        \"min\": 0.0,\n        \"max\": 4135.0,\n        \"num_unique_values\": 5,\n        \"samples\": [\n          0.5361547762998791,\n          225.0,\n          5.684418497762314\n        ],\n        \"semantic_type\": \"\",\n        \"description\": \"\"\n      }\n    },\n    {\n      \"column\": \"Aboard_fillna\",\n      \"properties\": {\n        \"dtype\": \"number\",\n        \"std\": 1453.5162769765845,\n        \"min\": 0.0,\n        \"max\": 4135.0,\n        \"num_unique_values\": 8,\n        \"samples\": [\n          18.2092846355191,\n          13.0,\n          4135.0\n        ],\n        \"semantic_type\": \"\",\n        \"description\": \"\"\n      }\n    },\n    {\n      \"column\": \"Fatalities_fillna\",\n      \"properties\": {\n        \"dtype\": \"number\",\n        \"std\": 1455.917618351184,\n        \"min\": 0.0,\n        \"max\": 4135.0,\n        \"num_unique_values\": 8,\n        \"samples\": [\n          13.678597339782346,\n          9.0,\n          4135.0\n        ],\n        \"semantic_type\": \"\",\n        \"description\": \"\"\n      }\n    },\n    {\n      \"column\": \"Fatalities Passangers_fillna\",\n      \"properties\": {\n        \"dtype\": \"number\",\n        \"std\": 1456.9932494602738,\n        \"min\": 0.0,\n        \"max\": 4135.0,\n        \"num_unique_values\": 8,\n        \"samples\": [\n          10.65925030229746,\n          6.0,\n          4135.0\n        ],\n        \"semantic_type\": \"\",\n        \"description\": \"\"\n      }\n    },\n    {\n      \"column\": \"Fatalities Crew_fillna\",\n      \"properties\": {\n        \"dtype\": \"number\",\n        \"std\": 1460.725759599622,\n        \"min\": 0.0,\n        \"max\": 4135.0,\n        \"num_unique_values\": 8,\n        \"samples\": [\n          3.0316807738814995,\n          3.0,\n          4135.0\n        ],\n        \"semantic_type\": \"\",\n        \"description\": \"\"\n      }\n    },\n    {\n      \"column\": \"Aboard_Passangers_fillna\",\n      \"properties\": {\n        \"dtype\": \"number\",\n        \"std\": 1453.5164490477573,\n        \"min\": 0.0,\n        \"max\": 4135.0,\n        \"num_unique_values\": 8,\n        \"samples\": [\n          18.20725950015251,\n          13.0,\n          4135.0\n        ],\n        \"semantic_type\": \"\",\n        \"description\": \"\"\n      }\n    },\n    {\n      \"column\": \"Aboard_Crew_fillna\",\n      \"properties\": {\n        \"dtype\": \"number\",\n        \"std\": 1453.5169230786098,\n        \"min\": 0.0,\n        \"max\": 4135.0,\n        \"num_unique_values\": 8,\n        \"samples\": [\n          18.196362396121675,\n          13.0,\n          4135.0\n        ],\n        \"semantic_type\": \"\",\n        \"description\": \"\"\n      }\n    }\n  ]\n}",
              "type": "dataframe"
            },
            "text/html": [
              "\n",
              "  <div id=\"df-39b0932b-69a0-48b2-8087-57bbe5539ccc\" class=\"colab-df-container\">\n",
              "    <div>\n",
              "<style scoped>\n",
              "    .dataframe tbody tr th:only-of-type {\n",
              "        vertical-align: middle;\n",
              "    }\n",
              "\n",
              "    .dataframe tbody tr th {\n",
              "        vertical-align: top;\n",
              "    }\n",
              "\n",
              "    .dataframe thead th {\n",
              "        text-align: right;\n",
              "    }\n",
              "</style>\n",
              "<table border=\"1\" class=\"dataframe\">\n",
              "  <thead>\n",
              "    <tr style=\"text-align: right;\">\n",
              "      <th></th>\n",
              "      <th>Ground_fillna</th>\n",
              "      <th>Aboard_fillna</th>\n",
              "      <th>Fatalities_fillna</th>\n",
              "      <th>Fatalities Passangers_fillna</th>\n",
              "      <th>Fatalities Crew_fillna</th>\n",
              "      <th>Aboard_Passangers_fillna</th>\n",
              "      <th>Aboard_Crew_fillna</th>\n",
              "    </tr>\n",
              "  </thead>\n",
              "  <tbody>\n",
              "    <tr>\n",
              "      <th>count</th>\n",
              "      <td>4135.000000</td>\n",
              "      <td>4135.000000</td>\n",
              "      <td>4135.000000</td>\n",
              "      <td>4135.00000</td>\n",
              "      <td>4135.000000</td>\n",
              "      <td>4135.000000</td>\n",
              "      <td>4135.000000</td>\n",
              "    </tr>\n",
              "    <tr>\n",
              "      <th>mean</th>\n",
              "      <td>0.536155</td>\n",
              "      <td>18.209285</td>\n",
              "      <td>13.678597</td>\n",
              "      <td>10.65925</td>\n",
              "      <td>3.031681</td>\n",
              "      <td>18.207260</td>\n",
              "      <td>18.196362</td>\n",
              "    </tr>\n",
              "    <tr>\n",
              "      <th>std</th>\n",
              "      <td>5.684418</td>\n",
              "      <td>16.521981</td>\n",
              "      <td>13.243978</td>\n",
              "      <td>12.26096</td>\n",
              "      <td>2.148618</td>\n",
              "      <td>16.520645</td>\n",
              "      <td>16.522266</td>\n",
              "    </tr>\n",
              "    <tr>\n",
              "      <th>min</th>\n",
              "      <td>0.000000</td>\n",
              "      <td>0.000000</td>\n",
              "      <td>0.000000</td>\n",
              "      <td>0.00000</td>\n",
              "      <td>0.000000</td>\n",
              "      <td>0.000000</td>\n",
              "      <td>0.000000</td>\n",
              "    </tr>\n",
              "    <tr>\n",
              "      <th>25%</th>\n",
              "      <td>0.000000</td>\n",
              "      <td>5.000000</td>\n",
              "      <td>3.000000</td>\n",
              "      <td>1.00000</td>\n",
              "      <td>1.000000</td>\n",
              "      <td>5.000000</td>\n",
              "      <td>5.000000</td>\n",
              "    </tr>\n",
              "    <tr>\n",
              "      <th>50%</th>\n",
              "      <td>0.000000</td>\n",
              "      <td>13.000000</td>\n",
              "      <td>9.000000</td>\n",
              "      <td>6.00000</td>\n",
              "      <td>3.000000</td>\n",
              "      <td>13.000000</td>\n",
              "      <td>13.000000</td>\n",
              "    </tr>\n",
              "    <tr>\n",
              "      <th>75%</th>\n",
              "      <td>0.000000</td>\n",
              "      <td>26.000000</td>\n",
              "      <td>20.000000</td>\n",
              "      <td>17.00000</td>\n",
              "      <td>4.000000</td>\n",
              "      <td>26.000000</td>\n",
              "      <td>26.000000</td>\n",
              "    </tr>\n",
              "    <tr>\n",
              "      <th>max</th>\n",
              "      <td>225.000000</td>\n",
              "      <td>94.000000</td>\n",
              "      <td>63.000000</td>\n",
              "      <td>53.00000</td>\n",
              "      <td>11.000000</td>\n",
              "      <td>94.000000</td>\n",
              "      <td>94.000000</td>\n",
              "    </tr>\n",
              "  </tbody>\n",
              "</table>\n",
              "</div>\n",
              "    <div class=\"colab-df-buttons\">\n",
              "\n",
              "  <div class=\"colab-df-container\">\n",
              "    <button class=\"colab-df-convert\" onclick=\"convertToInteractive('df-39b0932b-69a0-48b2-8087-57bbe5539ccc')\"\n",
              "            title=\"Convert this dataframe to an interactive table.\"\n",
              "            style=\"display:none;\">\n",
              "\n",
              "  <svg xmlns=\"http://www.w3.org/2000/svg\" height=\"24px\" viewBox=\"0 -960 960 960\">\n",
              "    <path d=\"M120-120v-720h720v720H120Zm60-500h600v-160H180v160Zm220 220h160v-160H400v160Zm0 220h160v-160H400v160ZM180-400h160v-160H180v160Zm440 0h160v-160H620v160ZM180-180h160v-160H180v160Zm440 0h160v-160H620v160Z\"/>\n",
              "  </svg>\n",
              "    </button>\n",
              "\n",
              "  <style>\n",
              "    .colab-df-container {\n",
              "      display:flex;\n",
              "      gap: 12px;\n",
              "    }\n",
              "\n",
              "    .colab-df-convert {\n",
              "      background-color: #E8F0FE;\n",
              "      border: none;\n",
              "      border-radius: 50%;\n",
              "      cursor: pointer;\n",
              "      display: none;\n",
              "      fill: #1967D2;\n",
              "      height: 32px;\n",
              "      padding: 0 0 0 0;\n",
              "      width: 32px;\n",
              "    }\n",
              "\n",
              "    .colab-df-convert:hover {\n",
              "      background-color: #E2EBFA;\n",
              "      box-shadow: 0px 1px 2px rgba(60, 64, 67, 0.3), 0px 1px 3px 1px rgba(60, 64, 67, 0.15);\n",
              "      fill: #174EA6;\n",
              "    }\n",
              "\n",
              "    .colab-df-buttons div {\n",
              "      margin-bottom: 4px;\n",
              "    }\n",
              "\n",
              "    [theme=dark] .colab-df-convert {\n",
              "      background-color: #3B4455;\n",
              "      fill: #D2E3FC;\n",
              "    }\n",
              "\n",
              "    [theme=dark] .colab-df-convert:hover {\n",
              "      background-color: #434B5C;\n",
              "      box-shadow: 0px 1px 3px 1px rgba(0, 0, 0, 0.15);\n",
              "      filter: drop-shadow(0px 1px 2px rgba(0, 0, 0, 0.3));\n",
              "      fill: #FFFFFF;\n",
              "    }\n",
              "  </style>\n",
              "\n",
              "    <script>\n",
              "      const buttonEl =\n",
              "        document.querySelector('#df-39b0932b-69a0-48b2-8087-57bbe5539ccc button.colab-df-convert');\n",
              "      buttonEl.style.display =\n",
              "        google.colab.kernel.accessAllowed ? 'block' : 'none';\n",
              "\n",
              "      async function convertToInteractive(key) {\n",
              "        const element = document.querySelector('#df-39b0932b-69a0-48b2-8087-57bbe5539ccc');\n",
              "        const dataTable =\n",
              "          await google.colab.kernel.invokeFunction('convertToInteractive',\n",
              "                                                    [key], {});\n",
              "        if (!dataTable) return;\n",
              "\n",
              "        const docLinkHtml = 'Like what you see? Visit the ' +\n",
              "          '<a target=\"_blank\" href=https://colab.research.google.com/notebooks/data_table.ipynb>data table notebook</a>'\n",
              "          + ' to learn more about interactive tables.';\n",
              "        element.innerHTML = '';\n",
              "        dataTable['output_type'] = 'display_data';\n",
              "        await google.colab.output.renderOutput(dataTable, element);\n",
              "        const docLink = document.createElement('div');\n",
              "        docLink.innerHTML = docLinkHtml;\n",
              "        element.appendChild(docLink);\n",
              "      }\n",
              "    </script>\n",
              "  </div>\n",
              "\n",
              "\n",
              "<div id=\"df-6db0f0af-b4ff-4378-8cbf-d078a363457f\">\n",
              "  <button class=\"colab-df-quickchart\" onclick=\"quickchart('df-6db0f0af-b4ff-4378-8cbf-d078a363457f')\"\n",
              "            title=\"Suggest charts\"\n",
              "            style=\"display:none;\">\n",
              "\n",
              "<svg xmlns=\"http://www.w3.org/2000/svg\" height=\"24px\"viewBox=\"0 0 24 24\"\n",
              "     width=\"24px\">\n",
              "    <g>\n",
              "        <path d=\"M19 3H5c-1.1 0-2 .9-2 2v14c0 1.1.9 2 2 2h14c1.1 0 2-.9 2-2V5c0-1.1-.9-2-2-2zM9 17H7v-7h2v7zm4 0h-2V7h2v10zm4 0h-2v-4h2v4z\"/>\n",
              "    </g>\n",
              "</svg>\n",
              "  </button>\n",
              "\n",
              "<style>\n",
              "  .colab-df-quickchart {\n",
              "      --bg-color: #E8F0FE;\n",
              "      --fill-color: #1967D2;\n",
              "      --hover-bg-color: #E2EBFA;\n",
              "      --hover-fill-color: #174EA6;\n",
              "      --disabled-fill-color: #AAA;\n",
              "      --disabled-bg-color: #DDD;\n",
              "  }\n",
              "\n",
              "  [theme=dark] .colab-df-quickchart {\n",
              "      --bg-color: #3B4455;\n",
              "      --fill-color: #D2E3FC;\n",
              "      --hover-bg-color: #434B5C;\n",
              "      --hover-fill-color: #FFFFFF;\n",
              "      --disabled-bg-color: #3B4455;\n",
              "      --disabled-fill-color: #666;\n",
              "  }\n",
              "\n",
              "  .colab-df-quickchart {\n",
              "    background-color: var(--bg-color);\n",
              "    border: none;\n",
              "    border-radius: 50%;\n",
              "    cursor: pointer;\n",
              "    display: none;\n",
              "    fill: var(--fill-color);\n",
              "    height: 32px;\n",
              "    padding: 0;\n",
              "    width: 32px;\n",
              "  }\n",
              "\n",
              "  .colab-df-quickchart:hover {\n",
              "    background-color: var(--hover-bg-color);\n",
              "    box-shadow: 0 1px 2px rgba(60, 64, 67, 0.3), 0 1px 3px 1px rgba(60, 64, 67, 0.15);\n",
              "    fill: var(--button-hover-fill-color);\n",
              "  }\n",
              "\n",
              "  .colab-df-quickchart-complete:disabled,\n",
              "  .colab-df-quickchart-complete:disabled:hover {\n",
              "    background-color: var(--disabled-bg-color);\n",
              "    fill: var(--disabled-fill-color);\n",
              "    box-shadow: none;\n",
              "  }\n",
              "\n",
              "  .colab-df-spinner {\n",
              "    border: 2px solid var(--fill-color);\n",
              "    border-color: transparent;\n",
              "    border-bottom-color: var(--fill-color);\n",
              "    animation:\n",
              "      spin 1s steps(1) infinite;\n",
              "  }\n",
              "\n",
              "  @keyframes spin {\n",
              "    0% {\n",
              "      border-color: transparent;\n",
              "      border-bottom-color: var(--fill-color);\n",
              "      border-left-color: var(--fill-color);\n",
              "    }\n",
              "    20% {\n",
              "      border-color: transparent;\n",
              "      border-left-color: var(--fill-color);\n",
              "      border-top-color: var(--fill-color);\n",
              "    }\n",
              "    30% {\n",
              "      border-color: transparent;\n",
              "      border-left-color: var(--fill-color);\n",
              "      border-top-color: var(--fill-color);\n",
              "      border-right-color: var(--fill-color);\n",
              "    }\n",
              "    40% {\n",
              "      border-color: transparent;\n",
              "      border-right-color: var(--fill-color);\n",
              "      border-top-color: var(--fill-color);\n",
              "    }\n",
              "    60% {\n",
              "      border-color: transparent;\n",
              "      border-right-color: var(--fill-color);\n",
              "    }\n",
              "    80% {\n",
              "      border-color: transparent;\n",
              "      border-right-color: var(--fill-color);\n",
              "      border-bottom-color: var(--fill-color);\n",
              "    }\n",
              "    90% {\n",
              "      border-color: transparent;\n",
              "      border-bottom-color: var(--fill-color);\n",
              "    }\n",
              "  }\n",
              "</style>\n",
              "\n",
              "  <script>\n",
              "    async function quickchart(key) {\n",
              "      const quickchartButtonEl =\n",
              "        document.querySelector('#' + key + ' button');\n",
              "      quickchartButtonEl.disabled = true;  // To prevent multiple clicks.\n",
              "      quickchartButtonEl.classList.add('colab-df-spinner');\n",
              "      try {\n",
              "        const charts = await google.colab.kernel.invokeFunction(\n",
              "            'suggestCharts', [key], {});\n",
              "      } catch (error) {\n",
              "        console.error('Error during call to suggestCharts:', error);\n",
              "      }\n",
              "      quickchartButtonEl.classList.remove('colab-df-spinner');\n",
              "      quickchartButtonEl.classList.add('colab-df-quickchart-complete');\n",
              "    }\n",
              "    (() => {\n",
              "      let quickchartButtonEl =\n",
              "        document.querySelector('#df-6db0f0af-b4ff-4378-8cbf-d078a363457f button');\n",
              "      quickchartButtonEl.style.display =\n",
              "        google.colab.kernel.accessAllowed ? 'block' : 'none';\n",
              "    })();\n",
              "  </script>\n",
              "</div>\n",
              "    </div>\n",
              "  </div>\n"
            ],
            "text/plain": [
              "       Ground_fillna  Aboard_fillna  Fatalities_fillna  \\\n",
              "count    4135.000000    4135.000000        4135.000000   \n",
              "mean        0.536155      18.209285          13.678597   \n",
              "std         5.684418      16.521981          13.243978   \n",
              "min         0.000000       0.000000           0.000000   \n",
              "25%         0.000000       5.000000           3.000000   \n",
              "50%         0.000000      13.000000           9.000000   \n",
              "75%         0.000000      26.000000          20.000000   \n",
              "max       225.000000      94.000000          63.000000   \n",
              "\n",
              "       Fatalities Passangers_fillna  Fatalities Crew_fillna  \\\n",
              "count                    4135.00000             4135.000000   \n",
              "mean                       10.65925                3.031681   \n",
              "std                        12.26096                2.148618   \n",
              "min                         0.00000                0.000000   \n",
              "25%                         1.00000                1.000000   \n",
              "50%                         6.00000                3.000000   \n",
              "75%                        17.00000                4.000000   \n",
              "max                        53.00000               11.000000   \n",
              "\n",
              "       Aboard_Passangers_fillna  Aboard_Crew_fillna  \n",
              "count               4135.000000         4135.000000  \n",
              "mean                  18.207260           18.196362  \n",
              "std                   16.520645           16.522266  \n",
              "min                    0.000000            0.000000  \n",
              "25%                    5.000000            5.000000  \n",
              "50%                   13.000000           13.000000  \n",
              "75%                   26.000000           26.000000  \n",
              "max                   94.000000           94.000000  "
            ]
          },
          "execution_count": 55,
          "metadata": {},
          "output_type": "execute_result"
        }
      ],
      "source": [
        "df_cleaned_no_outliers.describe()"
      ]
    },
    {
      "cell_type": "markdown",
      "metadata": {
        "id": "1_6ljXyO2K5V"
      },
      "source": [
        "- Ground_fillna: 50% (медиана): 0.0 – половина происшествий не затрагивают людей\n",
        "на земле. Большинство происшествий не затрагивают людей на земле, но редкие\n",
        "катастрофы приводят к массовым жертвам.\n",
        "-  Aboard_fillna: 50% (медиана): 13.0 – по ловина происшествий связана с самолётами,\n",
        "на которых находилось менее 13 человек. Среднее: 18.2, максимум: 94 – указывает на\n",
        "наличие более крупных самолётов с максимальным числом людей на борту 94.\n",
        "Большая часть катастроф связана с небольшими самолётами.\n",
        "-  Fatalities_fillna: Количество жертв на борту варьируется, но значительная часть\n",
        "случаев имеет менее 10 погибших. · 50% (медиана): 9.0 – в большинстве\n",
        "происшествий погибает менее 10 человек. Среднее: 13.68, максимум: 63 – показывает,\n",
        "что в отдельных катастрофах число погибших достигает 63 человек.\n",
        "- Fatalities Crew_fillna: 50% (медиана): 3.0 – в большинстве случаев погибает весь\n",
        "экипаж (обычно 3 человека). Максимум: 11 – в редких случаях погибает до 11 членов\n",
        "экипажа. Большинство происшествий приводят к гибели всего экипажа."
      ]
    },
    {
      "cell_type": "code",
      "execution_count": null,
      "metadata": {
        "colab": {
          "base_uri": "https://localhost:8080/",
          "height": 487
        },
        "id": "9HYQj3oD2K5V",
        "jupyter": {
          "outputs_hidden": false
        },
        "outputId": "48e6c02c-2416-4936-d76c-f19e769db7ab",
        "pycharm": {
          "name": "#%%\n"
        }
      },
      "outputs": [
        {
          "data": {
            "image/png": "[encoded data removed]",
            "text/plain": [
              "<Figure size 800x500 with 1 Axes>"
            ]
          },
          "metadata": {},
          "output_type": "display_data"
        }
      ],
      "source": [
        "plt.figure(figsize=(8, 5))\n",
        "plt.hist(df['Aboard'], bins=20, color='skyblue',  edgecolor='black') #благодаря матплотлибу можно не считать частотную таблицу самому\n",
        "plt.title('График 1. Гистограмма распределения числа людей на борту')\n",
        "plt.xlabel('Число людей на борту')\n",
        "plt.ylabel('Частота')\n",
        "plt.show()"
      ]
    },
    {
      "cell_type": "markdown",
      "metadata": {
        "id": "HmO20uB72K5W"
      },
      "source": [
        "#### Анализ распределения числа людей на борту (График 1):\n",
        "Пик в начале (0-30 человек): Большинство происшествий происходят с небольшими\n",
        "самолётами, на которых всего несколько десятков человек. Это указывает на то, что\n",
        "многие катастрофы происходят в малой авиации или на рейсах с ограниченным\n",
        "количеством пассажиров. После первого пика наблюдается резкое уменьшение частоты.\n",
        "Это говорит о том, что количество катастроф с более многолюдными рейсами (например,\n",
        "с 100 или более людьми) значительно меньше. Часто более крупные самолёты (с\n",
        "количеством пассажиров более 100) участвуют в инцидентах реже.\n",
        "Распределение скошенно влево: Большая часть данных сосредоточена в низких значениях\n",
        "(меньше 50 человек на борту), а по мере увеличения числа пассажиров катастрофы\n",
        "становятся всё более редкими. Выбросы: На графике видно, что есть несколько\n",
        "экстремальных значений, указывающих на крупные катастрофы с большим числом людей\n",
        "на борту (до 600 человек). Выбросы с большим количеством погибших на борту скорее\n",
        "являются исключениями, а не частью повседневной статистики."
      ]
    },
    {
      "cell_type": "code",
      "execution_count": null,
      "metadata": {
        "colab": {
          "base_uri": "https://localhost:8080/",
          "height": 468
        },
        "id": "Gr2YShUl2K5W",
        "jupyter": {
          "outputs_hidden": false
        },
        "outputId": "a77cd8b9-d254-4275-ccdb-a930e5ce3504",
        "pycharm": {
          "is_executing": true,
          "name": "#%%\n"
        }
      },
      "outputs": [
        {
          "data": {
            "image/png": "[encoded data removed]",
            "text/plain": [
              "<Figure size 800x500 with 1 Axes>"
            ]
          },
          "metadata": {},
          "output_type": "display_data"
        }
      ],
      "source": [
        "plt.figure(figsize=(8, 5))\n",
        "plt.title(\"График 2. Гистограмма среднего числа погибших среди экипажа и пассажиров\")\n",
        "df[['Fatalities Passangers', 'Fatalities Crew']].mean().plot(kind='bar', color=['skyblue', 'orange'])\n",
        "plt.ylabel('Среднее число погибших')\n",
        "plt.xticks(rotation=0)\n",
        "plt.show()"
      ]
    },
    {
      "cell_type": "markdown",
      "metadata": {
        "id": "-k9b4E5A2K5W"
      },
      "source": [
        "#### Анализ столбчатого графика среднего числа погибших среди пассажиров и экипажа(График 2):\n",
        "Пассажиры погибают в среднем гораздо чаще (примерно 19 человек), чем экипаж (примерно 3 человека),\n",
        "что логично, так как пассажиров больше чем членов экипажа"
      ]
    },
    {
      "cell_type": "code",
      "execution_count": null,
      "metadata": {
        "colab": {
          "base_uri": "https://localhost:8080/",
          "height": 468
        },
        "id": "YzPYX8MI2K5W",
        "jupyter": {
          "outputs_hidden": false
        },
        "outputId": "d6e77dc7-39ff-4bc3-a253-272adff4ccdd",
        "pycharm": {
          "is_executing": true,
          "name": "#%%\n"
        }
      },
      "outputs": [
        {
          "data": {
            "image/png": "[encoded data removed]",
            "text/plain": [
              "<Figure size 800x500 with 1 Axes>"
            ]
          },
          "metadata": {},
          "output_type": "display_data"
        }
      ],
      "source": [
        "plt.figure(figsize=(8, 5))\n",
        "plt.title('График 3. Распределение числа погибших на борту в виде ящика с усами')\n",
        "df['Fatalities'].plot(kind='box', vert=False, color='orange')\n",
        "plt.ylabel('Число погибших')\n",
        "plt.show()"
      ]
    },
    {
      "cell_type": "markdown",
      "metadata": {
        "id": "KuSAqAt52K5W"
      },
      "source": [
        "#### Анализ распределения числа погибших в виде ящика графика с усами (График 3):\n",
        "Медиана расположена в районе низких значений (около 10-20 погибших). Это говорит о\n",
        "том, что в большинстве происшествий число погибших относительно небольшое.\n",
        "Размер ящика (IQR): Границы самого ящика показывают, что 50% значений (между Q1 и\n",
        "Q3) находятся в диапазоне от 0 до 50 погибших. Это указывает на концентрацию\n",
        "большинства катастроф с числом погибших ниже 50 человек. Усы: нижний ус тянется к 0,\n",
        "что указывает на катастрофы без погибших. Верхний ус ограничивается значением около\n",
        "100-150 погибших, за пределами которого начинаются выбросы. Выбросы: наблюдается\n",
        "большое количество выбросов, превышающих значение 150-600 погибших. Это крупные\n",
        "катастрофы с аномально большим числом жертв. Такие выбросы можно считать редкими\n",
        "событиями, которые искажают общую картину распределения."
      ]
    },
    {
      "cell_type": "code",
      "execution_count": null,
      "metadata": {
        "colab": {
          "base_uri": "https://localhost:8080/",
          "height": 487
        },
        "id": "qnw4KkLy2K5W",
        "jupyter": {
          "outputs_hidden": false
        },
        "outputId": "a6da850c-8f5f-43ad-8f5d-860be1a708c0",
        "pycharm": {
          "name": "#%%\n"
        }
      },
      "outputs": [
        {
          "data": {
            "image/png": "[encoded data removed]",
            "text/plain": [
              "<Figure size 800x500 with 1 Axes>"
            ]
          },
          "metadata": {},
          "output_type": "display_data"
        }
      ],
      "source": [
        "plt.figure(figsize=(8, 5))\n",
        "plt.scatter(df['Aboard'], df['Fatalities'], color='blue', alpha=0.5)\n",
        "plt.title('График 4. Диаграмма рассеяния')\n",
        "plt.xlabel('Число людей на борту')\n",
        "plt.ylabel('Число погибших')\n",
        "plt.grid(True)\n",
        "plt.show()"
      ]
    },
    {
      "cell_type": "markdown",
      "metadata": {
        "collapsed": false,
        "id": "154Xe0xJ2K5W",
        "jupyter": {
          "outputs_hidden": false
        },
        "pycharm": {
          "name": "#%%\n"
        }
      },
      "source": [
        "#### Анализ диаграммы рассеяния (График 4):\n",
        "Число людей на борту (Aboard) и Число погибших (Fatalities) имеют положительную\n",
        "зависимость: чем больше людей на борту, тем выше вероятность большого числа\n",
        "погибших. В нижней части графика видно значительное количество случаев с нулевым\n",
        "числом погибших даже при большом числе людей на борту. Это может указывать на\n",
        "успешные аварийные посадки или инциденты без жертв. Есть выбросы с экстремально\n",
        "большим числом погибших (более 500 человек) при максимальном числе людей на\n",
        "борту."
      ]
    },
    {
      "cell_type": "markdown",
      "metadata": {
        "id": "T4EKgO1o2K5W"
      },
      "source": [
        "## Корреляционный анализ"
      ]
    },
    {
      "cell_type": "markdown",
      "metadata": {
        "id": "YtYQM8T52K5W"
      },
      "source": [
        "Построим общую корреляционную матрицу\n",
        "\n"
      ]
    },
    {
      "cell_type": "code",
      "execution_count": null,
      "metadata": {
        "colab": {
          "base_uri": "https://localhost:8080/",
          "height": 300
        },
        "id": "pZsw7U892K5W",
        "outputId": "25ab9837-3246-4817-b8bb-19ae6a735df4"
      },
      "outputs": [
        {
          "data": {
            "application/vnd.google.colaboratory.intrinsic+json": {
              "summary": "{\n  \"name\": \"corr_matr\",\n  \"rows\": 7,\n  \"fields\": [\n    {\n      \"column\": \"Ground_fillna\",\n      \"properties\": {\n        \"dtype\": \"number\",\n        \"std\": 0.3917360627477931,\n        \"min\": -0.05,\n        \"max\": 1.0,\n        \"num_unique_values\": 4,\n        \"samples\": [\n          -0.04,\n          0.01,\n          1.0\n        ],\n        \"semantic_type\": \"\",\n        \"description\": \"\"\n      }\n    },\n    {\n      \"column\": \"Aboard_fillna\",\n      \"properties\": {\n        \"dtype\": \"number\",\n        \"std\": 0.4151993210380723,\n        \"min\": -0.04,\n        \"max\": 1.0,\n        \"num_unique_values\": 5,\n        \"samples\": [\n          1.0,\n          0.23,\n          0.73\n        ],\n        \"semantic_type\": \"\",\n        \"description\": \"\"\n      }\n    },\n    {\n      \"column\": \"Fatalities_fillna\",\n      \"properties\": {\n        \"dtype\": \"number\",\n        \"std\": 0.35655093805594096,\n        \"min\": -0.05,\n        \"max\": 1.0,\n        \"num_unique_values\": 5,\n        \"samples\": [\n          0.73,\n          0.52,\n          1.0\n        ],\n        \"semantic_type\": \"\",\n        \"description\": \"\"\n      }\n    },\n    {\n      \"column\": \"Fatalities Passangers_fillna\",\n      \"properties\": {\n        \"dtype\": \"number\",\n        \"std\": 0.37093832114684255,\n        \"min\": -0.05,\n        \"max\": 1.0,\n        \"num_unique_values\": 5,\n        \"samples\": [\n          0.75,\n          0.39,\n          0.99\n        ],\n        \"semantic_type\": \"\",\n        \"description\": \"\"\n      }\n    },\n    {\n      \"column\": \"Fatalities Crew_fillna\",\n      \"properties\": {\n        \"dtype\": \"number\",\n        \"std\": 0.3183663657755682,\n        \"min\": 0.01,\n        \"max\": 1.0,\n        \"num_unique_values\": 5,\n        \"samples\": [\n          0.23,\n          1.0,\n          0.52\n        ],\n        \"semantic_type\": \"\",\n        \"description\": \"\"\n      }\n    },\n    {\n      \"column\": \"Aboard_Passangers_fillna\",\n      \"properties\": {\n        \"dtype\": \"number\",\n        \"std\": 0.4151993210380723,\n        \"min\": -0.04,\n        \"max\": 1.0,\n        \"num_unique_values\": 5,\n        \"samples\": [\n          1.0,\n          0.23,\n          0.73\n        ],\n        \"semantic_type\": \"\",\n        \"description\": \"\"\n      }\n    },\n    {\n      \"column\": \"Aboard_Crew_fillna\",\n      \"properties\": {\n        \"dtype\": \"number\",\n        \"std\": 0.4151993210380723,\n        \"min\": -0.04,\n        \"max\": 1.0,\n        \"num_unique_values\": 5,\n        \"samples\": [\n          1.0,\n          0.23,\n          0.73\n        ],\n        \"semantic_type\": \"\",\n        \"description\": \"\"\n      }\n    }\n  ]\n}",
              "type": "dataframe",
              "variable_name": "corr_matr"
            },
            "text/html": [
              "\n",
              "  <div id=\"df-34a70425-1ec4-4502-a89b-9779fc5ba43b\" class=\"colab-df-container\">\n",
              "    <div>\n",
              "<style scoped>\n",
              "    .dataframe tbody tr th:only-of-type {\n",
              "        vertical-align: middle;\n",
              "    }\n",
              "\n",
              "    .dataframe tbody tr th {\n",
              "        vertical-align: top;\n",
              "    }\n",
              "\n",
              "    .dataframe thead th {\n",
              "        text-align: right;\n",
              "    }\n",
              "</style>\n",
              "<table border=\"1\" class=\"dataframe\">\n",
              "  <thead>\n",
              "    <tr style=\"text-align: right;\">\n",
              "      <th></th>\n",
              "      <th>Ground_fillna</th>\n",
              "      <th>Aboard_fillna</th>\n",
              "      <th>Fatalities_fillna</th>\n",
              "      <th>Fatalities Passangers_fillna</th>\n",
              "      <th>Fatalities Crew_fillna</th>\n",
              "      <th>Aboard_Passangers_fillna</th>\n",
              "      <th>Aboard_Crew_fillna</th>\n",
              "    </tr>\n",
              "  </thead>\n",
              "  <tbody>\n",
              "    <tr>\n",
              "      <th>Ground_fillna</th>\n",
              "      <td>1.00</td>\n",
              "      <td>-0.04</td>\n",
              "      <td>-0.05</td>\n",
              "      <td>-0.05</td>\n",
              "      <td>0.01</td>\n",
              "      <td>-0.04</td>\n",
              "      <td>-0.04</td>\n",
              "    </tr>\n",
              "    <tr>\n",
              "      <th>Aboard_fillna</th>\n",
              "      <td>-0.04</td>\n",
              "      <td>1.00</td>\n",
              "      <td>0.73</td>\n",
              "      <td>0.75</td>\n",
              "      <td>0.23</td>\n",
              "      <td>1.00</td>\n",
              "      <td>1.00</td>\n",
              "    </tr>\n",
              "    <tr>\n",
              "      <th>Fatalities_fillna</th>\n",
              "      <td>-0.05</td>\n",
              "      <td>0.73</td>\n",
              "      <td>1.00</td>\n",
              "      <td>0.99</td>\n",
              "      <td>0.52</td>\n",
              "      <td>0.73</td>\n",
              "      <td>0.73</td>\n",
              "    </tr>\n",
              "    <tr>\n",
              "      <th>Fatalities Passangers_fillna</th>\n",
              "      <td>-0.05</td>\n",
              "      <td>0.75</td>\n",
              "      <td>0.99</td>\n",
              "      <td>1.00</td>\n",
              "      <td>0.39</td>\n",
              "      <td>0.75</td>\n",
              "      <td>0.75</td>\n",
              "    </tr>\n",
              "    <tr>\n",
              "      <th>Fatalities Crew_fillna</th>\n",
              "      <td>0.01</td>\n",
              "      <td>0.23</td>\n",
              "      <td>0.52</td>\n",
              "      <td>0.39</td>\n",
              "      <td>1.00</td>\n",
              "      <td>0.23</td>\n",
              "      <td>0.23</td>\n",
              "    </tr>\n",
              "    <tr>\n",
              "      <th>Aboard_Passangers_fillna</th>\n",
              "      <td>-0.04</td>\n",
              "      <td>1.00</td>\n",
              "      <td>0.73</td>\n",
              "      <td>0.75</td>\n",
              "      <td>0.23</td>\n",
              "      <td>1.00</td>\n",
              "      <td>1.00</td>\n",
              "    </tr>\n",
              "    <tr>\n",
              "      <th>Aboard_Crew_fillna</th>\n",
              "      <td>-0.04</td>\n",
              "      <td>1.00</td>\n",
              "      <td>0.73</td>\n",
              "      <td>0.75</td>\n",
              "      <td>0.23</td>\n",
              "      <td>1.00</td>\n",
              "      <td>1.00</td>\n",
              "    </tr>\n",
              "  </tbody>\n",
              "</table>\n",
              "</div>\n",
              "    <div class=\"colab-df-buttons\">\n",
              "\n",
              "  <div class=\"colab-df-container\">\n",
              "    <button class=\"colab-df-convert\" onclick=\"convertToInteractive('df-34a70425-1ec4-4502-a89b-9779fc5ba43b')\"\n",
              "            title=\"Convert this dataframe to an interactive table.\"\n",
              "            style=\"display:none;\">\n",
              "\n",
              "  <svg xmlns=\"http://www.w3.org/2000/svg\" height=\"24px\" viewBox=\"0 -960 960 960\">\n",
              "    <path d=\"M120-120v-720h720v720H120Zm60-500h600v-160H180v160Zm220 220h160v-160H400v160Zm0 220h160v-160H400v160ZM180-400h160v-160H180v160Zm440 0h160v-160H620v160ZM180-180h160v-160H180v160Zm440 0h160v-160H620v160Z\"/>\n",
              "  </svg>\n",
              "    </button>\n",
              "\n",
              "  <style>\n",
              "    .colab-df-container {\n",
              "      display:flex;\n",
              "      gap: 12px;\n",
              "    }\n",
              "\n",
              "    .colab-df-convert {\n",
              "      background-color: #E8F0FE;\n",
              "      border: none;\n",
              "      border-radius: 50%;\n",
              "      cursor: pointer;\n",
              "      display: none;\n",
              "      fill: #1967D2;\n",
              "      height: 32px;\n",
              "      padding: 0 0 0 0;\n",
              "      width: 32px;\n",
              "    }\n",
              "\n",
              "    .colab-df-convert:hover {\n",
              "      background-color: #E2EBFA;\n",
              "      box-shadow: 0px 1px 2px rgba(60, 64, 67, 0.3), 0px 1px 3px 1px rgba(60, 64, 67, 0.15);\n",
              "      fill: #174EA6;\n",
              "    }\n",
              "\n",
              "    .colab-df-buttons div {\n",
              "      margin-bottom: 4px;\n",
              "    }\n",
              "\n",
              "    [theme=dark] .colab-df-convert {\n",
              "      background-color: #3B4455;\n",
              "      fill: #D2E3FC;\n",
              "    }\n",
              "\n",
              "    [theme=dark] .colab-df-convert:hover {\n",
              "      background-color: #434B5C;\n",
              "      box-shadow: 0px 1px 3px 1px rgba(0, 0, 0, 0.15);\n",
              "      filter: drop-shadow(0px 1px 2px rgba(0, 0, 0, 0.3));\n",
              "      fill: #FFFFFF;\n",
              "    }\n",
              "  </style>\n",
              "\n",
              "    <script>\n",
              "      const buttonEl =\n",
              "        document.querySelector('#df-34a70425-1ec4-4502-a89b-9779fc5ba43b button.colab-df-convert');\n",
              "      buttonEl.style.display =\n",
              "        google.colab.kernel.accessAllowed ? 'block' : 'none';\n",
              "\n",
              "      async function convertToInteractive(key) {\n",
              "        const element = document.querySelector('#df-34a70425-1ec4-4502-a89b-9779fc5ba43b');\n",
              "        const dataTable =\n",
              "          await google.colab.kernel.invokeFunction('convertToInteractive',\n",
              "                                                    [key], {});\n",
              "        if (!dataTable) return;\n",
              "\n",
              "        const docLinkHtml = 'Like what you see? Visit the ' +\n",
              "          '<a target=\"_blank\" href=https://colab.research.google.com/notebooks/data_table.ipynb>data table notebook</a>'\n",
              "          + ' to learn more about interactive tables.';\n",
              "        element.innerHTML = '';\n",
              "        dataTable['output_type'] = 'display_data';\n",
              "        await google.colab.output.renderOutput(dataTable, element);\n",
              "        const docLink = document.createElement('div');\n",
              "        docLink.innerHTML = docLinkHtml;\n",
              "        element.appendChild(docLink);\n",
              "      }\n",
              "    </script>\n",
              "  </div>\n",
              "\n",
              "\n",
              "<div id=\"df-c5322766-321d-4149-a324-e1d902a05d37\">\n",
              "  <button class=\"colab-df-quickchart\" onclick=\"quickchart('df-c5322766-321d-4149-a324-e1d902a05d37')\"\n",
              "            title=\"Suggest charts\"\n",
              "            style=\"display:none;\">\n",
              "\n",
              "<svg xmlns=\"http://www.w3.org/2000/svg\" height=\"24px\"viewBox=\"0 0 24 24\"\n",
              "     width=\"24px\">\n",
              "    <g>\n",
              "        <path d=\"M19 3H5c-1.1 0-2 .9-2 2v14c0 1.1.9 2 2 2h14c1.1 0 2-.9 2-2V5c0-1.1-.9-2-2-2zM9 17H7v-7h2v7zm4 0h-2V7h2v10zm4 0h-2v-4h2v4z\"/>\n",
              "    </g>\n",
              "</svg>\n",
              "  </button>\n",
              "\n",
              "<style>\n",
              "  .colab-df-quickchart {\n",
              "      --bg-color: #E8F0FE;\n",
              "      --fill-color: #1967D2;\n",
              "      --hover-bg-color: #E2EBFA;\n",
              "      --hover-fill-color: #174EA6;\n",
              "      --disabled-fill-color: #AAA;\n",
              "      --disabled-bg-color: #DDD;\n",
              "  }\n",
              "\n",
              "  [theme=dark] .colab-df-quickchart {\n",
              "      --bg-color: #3B4455;\n",
              "      --fill-color: #D2E3FC;\n",
              "      --hover-bg-color: #434B5C;\n",
              "      --hover-fill-color: #FFFFFF;\n",
              "      --disabled-bg-color: #3B4455;\n",
              "      --disabled-fill-color: #666;\n",
              "  }\n",
              "\n",
              "  .colab-df-quickchart {\n",
              "    background-color: var(--bg-color);\n",
              "    border: none;\n",
              "    border-radius: 50%;\n",
              "    cursor: pointer;\n",
              "    display: none;\n",
              "    fill: var(--fill-color);\n",
              "    height: 32px;\n",
              "    padding: 0;\n",
              "    width: 32px;\n",
              "  }\n",
              "\n",
              "  .colab-df-quickchart:hover {\n",
              "    background-color: var(--hover-bg-color);\n",
              "    box-shadow: 0 1px 2px rgba(60, 64, 67, 0.3), 0 1px 3px 1px rgba(60, 64, 67, 0.15);\n",
              "    fill: var(--button-hover-fill-color);\n",
              "  }\n",
              "\n",
              "  .colab-df-quickchart-complete:disabled,\n",
              "  .colab-df-quickchart-complete:disabled:hover {\n",
              "    background-color: var(--disabled-bg-color);\n",
              "    fill: var(--disabled-fill-color);\n",
              "    box-shadow: none;\n",
              "  }\n",
              "\n",
              "  .colab-df-spinner {\n",
              "    border: 2px solid var(--fill-color);\n",
              "    border-color: transparent;\n",
              "    border-bottom-color: var(--fill-color);\n",
              "    animation:\n",
              "      spin 1s steps(1) infinite;\n",
              "  }\n",
              "\n",
              "  @keyframes spin {\n",
              "    0% {\n",
              "      border-color: transparent;\n",
              "      border-bottom-color: var(--fill-color);\n",
              "      border-left-color: var(--fill-color);\n",
              "    }\n",
              "    20% {\n",
              "      border-color: transparent;\n",
              "      border-left-color: var(--fill-color);\n",
              "      border-top-color: var(--fill-color);\n",
              "    }\n",
              "    30% {\n",
              "      border-color: transparent;\n",
              "      border-left-color: var(--fill-color);\n",
              "      border-top-color: var(--fill-color);\n",
              "      border-right-color: var(--fill-color);\n",
              "    }\n",
              "    40% {\n",
              "      border-color: transparent;\n",
              "      border-right-color: var(--fill-color);\n",
              "      border-top-color: var(--fill-color);\n",
              "    }\n",
              "    60% {\n",
              "      border-color: transparent;\n",
              "      border-right-color: var(--fill-color);\n",
              "    }\n",
              "    80% {\n",
              "      border-color: transparent;\n",
              "      border-right-color: var(--fill-color);\n",
              "      border-bottom-color: var(--fill-color);\n",
              "    }\n",
              "    90% {\n",
              "      border-color: transparent;\n",
              "      border-bottom-color: var(--fill-color);\n",
              "    }\n",
              "  }\n",
              "</style>\n",
              "\n",
              "  <script>\n",
              "    async function quickchart(key) {\n",
              "      const quickchartButtonEl =\n",
              "        document.querySelector('#' + key + ' button');\n",
              "      quickchartButtonEl.disabled = true;  // To prevent multiple clicks.\n",
              "      quickchartButtonEl.classList.add('colab-df-spinner');\n",
              "      try {\n",
              "        const charts = await google.colab.kernel.invokeFunction(\n",
              "            'suggestCharts', [key], {});\n",
              "      } catch (error) {\n",
              "        console.error('Error during call to suggestCharts:', error);\n",
              "      }\n",
              "      quickchartButtonEl.classList.remove('colab-df-spinner');\n",
              "      quickchartButtonEl.classList.add('colab-df-quickchart-complete');\n",
              "    }\n",
              "    (() => {\n",
              "      let quickchartButtonEl =\n",
              "        document.querySelector('#df-c5322766-321d-4149-a324-e1d902a05d37 button');\n",
              "      quickchartButtonEl.style.display =\n",
              "        google.colab.kernel.accessAllowed ? 'block' : 'none';\n",
              "    })();\n",
              "  </script>\n",
              "</div>\n",
              "    </div>\n",
              "  </div>\n"
            ],
            "text/plain": [
              "                              Ground_fillna  Aboard_fillna  Fatalities_fillna  \\\n",
              "Ground_fillna                          1.00          -0.04              -0.05   \n",
              "Aboard_fillna                         -0.04           1.00               0.73   \n",
              "Fatalities_fillna                     -0.05           0.73               1.00   \n",
              "Fatalities Passangers_fillna          -0.05           0.75               0.99   \n",
              "Fatalities Crew_fillna                 0.01           0.23               0.52   \n",
              "Aboard_Passangers_fillna              -0.04           1.00               0.73   \n",
              "Aboard_Crew_fillna                    -0.04           1.00               0.73   \n",
              "\n",
              "                              Fatalities Passangers_fillna  \\\n",
              "Ground_fillna                                        -0.05   \n",
              "Aboard_fillna                                         0.75   \n",
              "Fatalities_fillna                                     0.99   \n",
              "Fatalities Passangers_fillna                          1.00   \n",
              "Fatalities Crew_fillna                                0.39   \n",
              "Aboard_Passangers_fillna                              0.75   \n",
              "Aboard_Crew_fillna                                    0.75   \n",
              "\n",
              "                              Fatalities Crew_fillna  \\\n",
              "Ground_fillna                                   0.01   \n",
              "Aboard_fillna                                   0.23   \n",
              "Fatalities_fillna                               0.52   \n",
              "Fatalities Passangers_fillna                    0.39   \n",
              "Fatalities Crew_fillna                          1.00   \n",
              "Aboard_Passangers_fillna                        0.23   \n",
              "Aboard_Crew_fillna                              0.23   \n",
              "\n",
              "                              Aboard_Passangers_fillna  Aboard_Crew_fillna  \n",
              "Ground_fillna                                    -0.04               -0.04  \n",
              "Aboard_fillna                                     1.00                1.00  \n",
              "Fatalities_fillna                                 0.73                0.73  \n",
              "Fatalities Passangers_fillna                      0.75                0.75  \n",
              "Fatalities Crew_fillna                            0.23                0.23  \n",
              "Aboard_Passangers_fillna                          1.00                1.00  \n",
              "Aboard_Crew_fillna                                1.00                1.00  "
            ]
          },
          "execution_count": 60,
          "metadata": {},
          "output_type": "execute_result"
        }
      ],
      "source": [
        "corr_matr = df_cleaned_no_outliers.corr(numeric_only=True).round(2)\n",
        "corr_matr"
      ]
    },
    {
      "cell_type": "markdown",
      "metadata": {
        "id": "JlSm3zO82K5W"
      },
      "source": [
        "Заметим, что самая сильная корреляция не считая автокорреляции - это значение 1.00 между Aboard_Passangers_fillna и Aboard_fillna, Aboard_Crew_fillna и Aboard_fillna. То есть у нас замечана сильная линейная взаимосвязь между общим количеством человек на борту с количеством пассажиров и количеством экипажа соответственно, поэтому будем считать это за автокорреляцию. Следующее значение корреляции 0.99 между Fatalities Passangers_fillna и Fatalities_fillna, то есть есть сильная линейная взаимосвязь между общим числом погибщих и количеством погибших пассажиров, что нельзя сказать про взаимосвязь общего количетсва погибших с количеством погибшего экипажа, но признак Fatalities_fillna является суммой Fatalities Passangers_fillna и Fatalities Crew_fillna, так что высокая корреляция тут происходит автоматически. Таким образом самая большая линейная зависимость между количетсвом людей на борту и количеством погибших среди пассажиров. Эта связь положительна: чем больше количество людей за бортом самолета, тем больше жертв в чрезвычайно ситуации среди пассажиров."
      ]
    },
    {
      "cell_type": "markdown",
      "metadata": {
        "id": "pbjpdxwV2K5W"
      },
      "source": [
        "Построим график рассеяния между этими признаками"
      ]
    },
    {
      "cell_type": "code",
      "execution_count": null,
      "metadata": {
        "colab": {
          "base_uri": "https://localhost:8080/",
          "height": 564
        },
        "id": "6mqKa1Gb2K5W",
        "outputId": "d706240c-b370-437c-91f0-8c6b9627d18b"
      },
      "outputs": [
        {
          "data": {
            "image/png": "[encoded data removed]",
            "text/plain": [
              "<Figure size 800x600 with 1 Axes>"
            ]
          },
          "metadata": {},
          "output_type": "display_data"
        }
      ],
      "source": [
        "plt.figure(figsize=(8, 6))\n",
        "plt.scatter(df_cleaned_no_outliers['Aboard_fillna'], df_cleaned_no_outliers['Fatalities Passangers_fillna'], color='red', alpha=0.5)\n",
        "plt.title('График 5. Диаграмма рассеяния количества погибших пассажиров и количества людей на борту')\n",
        "plt.xlabel('Число людей на борту')\n",
        "plt.ylabel('Число погибших среди пассажиров')\n",
        "plt.grid(True)\n",
        "plt.show()"
      ]
    },
    {
      "cell_type": "markdown",
      "metadata": {
        "id": "_EfG2oN52K5X"
      },
      "source": [
        "#### Хотим построить модель, которая будет предсказывать общее количество погибших"
      ]
    },
    {
      "cell_type": "markdown",
      "metadata": {
        "id": "EeoYw23G2K5X"
      },
      "source": [
        "В качестве независимых переменных выберем количество людей на борту (Aboard_fillna), признак, который покажет, что оператором был Аэрофлот и количество погибшего экипажа (Fatalities Crew_fillna)."
      ]
    },
    {
      "cell_type": "markdown",
      "metadata": {
        "id": "D6XGneYh2K5X"
      },
      "source": [
        "Сначала преобразуем признак оператора"
      ]
    },
    {
      "cell_type": "code",
      "execution_count": null,
      "metadata": {
        "colab": {
          "base_uri": "https://localhost:8080/",
          "height": 496
        },
        "id": "hCwWxi7m2K5X",
        "outputId": "9480428d-fc3a-42df-df60-6c89e143098e"
      },
      "outputs": [
        {
          "data": {
            "application/vnd.google.colaboratory.intrinsic+json": {
              "summary": "{\n  \"name\": \"df_clean_2\",\n  \"rows\": 4135,\n  \"fields\": [\n    {\n      \"column\": \"Date\",\n      \"properties\": {\n        \"dtype\": \"object\",\n        \"num_unique_values\": 3836,\n        \"samples\": [\n          \"11/6/1952\",\n          \"7/16/1956\",\n          \"7/31/1947\"\n        ],\n        \"semantic_type\": \"\",\n        \"description\": \"\"\n      }\n    },\n    {\n      \"column\": \"Time\",\n      \"properties\": {\n        \"dtype\": \"category\",\n        \"num_unique_values\": 963,\n        \"samples\": [\n          \"18:53\",\n          \"23:08\",\n          \"16:18\"\n        ],\n        \"semantic_type\": \"\",\n        \"description\": \"\"\n      }\n    },\n    {\n      \"column\": \"Location\",\n      \"properties\": {\n        \"dtype\": \"string\",\n        \"num_unique_values\": 3491,\n        \"samples\": [\n          \"Rutbah Wells, Syria\",\n          \"Brussels, Belgium\",\n          \"Teterboro, New Jersey\"\n        ],\n        \"semantic_type\": \"\",\n        \"description\": \"\"\n      }\n    },\n    {\n      \"column\": \"Route\",\n      \"properties\": {\n        \"dtype\": \"string\",\n        \"num_unique_values\": 3245,\n        \"samples\": [\n          \"Villafranca, Italy - Eindhoven AB\",\n          \"Nalchik - Leninakan\",\n          \"Isle of Man - Manchester\"\n        ],\n        \"semantic_type\": \"\",\n        \"description\": \"\"\n      }\n    },\n    {\n      \"column\": \"Registration\",\n      \"properties\": {\n        \"dtype\": \"string\",\n        \"num_unique_values\": 3944,\n        \"samples\": [\n          \"N992AA\",\n          \"N79DD\",\n          \"63-9751\"\n        ],\n        \"semantic_type\": \"\",\n        \"description\": \"\"\n      }\n    },\n    {\n      \"column\": \"cn/ln\",\n      \"properties\": {\n        \"dtype\": \"string\",\n        \"num_unique_values\": 3222,\n        \"samples\": [\n          \"5827\",\n          \"9834\",\n          \"12819\"\n        ],\n        \"semantic_type\": \"\",\n        \"description\": \"\"\n      }\n    },\n    {\n      \"column\": \"Summary\",\n      \"properties\": {\n        \"dtype\": \"string\",\n        \"num_unique_values\": 4035,\n        \"samples\": [\n          \" \\tThe plane was attempting to land and went around on final approach to Runway 06. The aircraft joined a left downwind when a wing contacted a hilltop about 900 feet north of the airport.The flight attendant and 5 passengers survived the accident.\",\n          \"While cruising along the coast, the mail plane crashed into the Atlantic Ocean for unknown reasons.\",\n          \"The stickshaker sounded shortly after VR. The aircraft rotated and climbed slowly.  The right wing contacted the snow covered ground 94 feet left of the extended centerline at a distance of 2,760 feet from the runway.  The aircraft rolled inverted and broke up.  The probable cause was an attempted takeoff with the flaps in a retracted position. This resulted from a combination of factors: a) inadequate cockpit checklist and procedures; b) a warning system inadequacy associated with cold weather operations; c) ineffective control practices regarding manufacturer's Service Bulletins; and d) stresses imposed upon the crew by their attempts to meet an air traffic control deadline.\"\n        ],\n        \"semantic_type\": \"\",\n        \"description\": \"\"\n      }\n    },\n    {\n      \"column\": \"Ground_fillna\",\n      \"properties\": {\n        \"dtype\": \"number\",\n        \"std\": 5.684418497762314,\n        \"min\": 0.0,\n        \"max\": 225.0,\n        \"num_unique_values\": 43,\n        \"samples\": [\n          50.0,\n          23.0,\n          33.0\n        ],\n        \"semantic_type\": \"\",\n        \"description\": \"\"\n      }\n    },\n    {\n      \"column\": \"Operator_fillna\",\n      \"properties\": {\n        \"dtype\": \"category\",\n        \"num_unique_values\": 2014,\n        \"samples\": [\n          \"Military - Congolese Air Force\",\n          \"Military - United States Air Force\",\n          \"Indamer\"\n        ],\n        \"semantic_type\": \"\",\n        \"description\": \"\"\n      }\n    },\n    {\n      \"column\": \"AC Type_fillna\",\n      \"properties\": {\n        \"dtype\": \"category\",\n        \"num_unique_values\": 2038,\n        \"samples\": [\n          \"Swearingen SA.226TC Metro II\",\n          \"Let L-401UVP-20\",\n          \"Cessna 207 / Cessna 207\"\n        ],\n        \"semantic_type\": \"\",\n        \"description\": \"\"\n      }\n    },\n    {\n      \"column\": \"Aboard_fillna\",\n      \"properties\": {\n        \"dtype\": \"number\",\n        \"std\": 16.52198074640537,\n        \"min\": 0.0,\n        \"max\": 94.0,\n        \"num_unique_values\": 94,\n        \"samples\": [\n          44.0,\n          18.0,\n          55.0\n        ],\n        \"semantic_type\": \"\",\n        \"description\": \"\"\n      }\n    },\n    {\n      \"column\": \"Fatalities_fillna\",\n      \"properties\": {\n        \"dtype\": \"number\",\n        \"std\": 13.243978429850795,\n        \"min\": 0.0,\n        \"max\": 63.0,\n        \"num_unique_values\": 64,\n        \"samples\": [\n          58.0,\n          54.0,\n          1.0\n        ],\n        \"semantic_type\": \"\",\n        \"description\": \"\"\n      }\n    },\n    {\n      \"column\": \"Fatalities Passangers_fillna\",\n      \"properties\": {\n        \"dtype\": \"number\",\n        \"std\": 12.260959510851393,\n        \"min\": 0.0,\n        \"max\": 53.0,\n        \"num_unique_values\": 54,\n        \"samples\": [\n          17.0,\n          45.0,\n          43.0\n        ],\n        \"semantic_type\": \"\",\n        \"description\": \"\"\n      }\n    },\n    {\n      \"column\": \"Fatalities Crew_fillna\",\n      \"properties\": {\n        \"dtype\": \"number\",\n        \"std\": 2.1486176415037677,\n        \"min\": 0.0,\n        \"max\": 11.0,\n        \"num_unique_values\": 12,\n        \"samples\": [\n          10.0,\n          6.0,\n          0.0\n        ],\n        \"semantic_type\": \"\",\n        \"description\": \"\"\n      }\n    },\n    {\n      \"column\": \"Aboard_Passangers_fillna\",\n      \"properties\": {\n        \"dtype\": \"number\",\n        \"std\": 16.520645039992868,\n        \"min\": 0.0,\n        \"max\": 94.0,\n        \"num_unique_values\": 94,\n        \"samples\": [\n          44.0,\n          18.0,\n          55.0\n        ],\n        \"semantic_type\": \"\",\n        \"description\": \"\"\n      }\n    },\n    {\n      \"column\": \"Aboard_Crew_fillna\",\n      \"properties\": {\n        \"dtype\": \"number\",\n        \"std\": 16.522266448316728,\n        \"min\": 0.0,\n        \"max\": 94.0,\n        \"num_unique_values\": 94,\n        \"samples\": [\n          44.0,\n          18.0,\n          55.0\n        ],\n        \"semantic_type\": \"\",\n        \"description\": \"\"\n      }\n    },\n    {\n      \"column\": \"Aeroflot\",\n      \"properties\": {\n        \"dtype\": \"category\",\n        \"num_unique_values\": 2,\n        \"samples\": [\n          \"yes\",\n          \"no\"\n        ],\n        \"semantic_type\": \"\",\n        \"description\": \"\"\n      }\n    },\n    {\n      \"column\": \"Aeroflot2_yes\",\n      \"properties\": {\n        \"dtype\": \"number\",\n        \"std\": 0,\n        \"min\": 0,\n        \"max\": 1,\n        \"num_unique_values\": 2,\n        \"samples\": [\n          1,\n          0\n        ],\n        \"semantic_type\": \"\",\n        \"description\": \"\"\n      }\n    }\n  ]\n}",
              "type": "dataframe",
              "variable_name": "df_clean_2"
            },
            "text/html": [
              "\n",
              "  <div id=\"df-ee6b56d7-9ea3-48c7-9426-d6cb38db086b\" class=\"colab-df-container\">\n",
              "    <div>\n",
              "<style scoped>\n",
              "    .dataframe tbody tr th:only-of-type {\n",
              "        vertical-align: middle;\n",
              "    }\n",
              "\n",
              "    .dataframe tbody tr th {\n",
              "        vertical-align: top;\n",
              "    }\n",
              "\n",
              "    .dataframe thead th {\n",
              "        text-align: right;\n",
              "    }\n",
              "</style>\n",
              "<table border=\"1\" class=\"dataframe\">\n",
              "  <thead>\n",
              "    <tr style=\"text-align: right;\">\n",
              "      <th></th>\n",
              "      <th>Date</th>\n",
              "      <th>Time</th>\n",
              "      <th>Location</th>\n",
              "      <th>Route</th>\n",
              "      <th>Registration</th>\n",
              "      <th>cn/ln</th>\n",
              "      <th>Summary</th>\n",
              "      <th>Ground_fillna</th>\n",
              "      <th>Operator_fillna</th>\n",
              "      <th>AC Type_fillna</th>\n",
              "      <th>Aboard_fillna</th>\n",
              "      <th>Fatalities_fillna</th>\n",
              "      <th>Fatalities Passangers_fillna</th>\n",
              "      <th>Fatalities Crew_fillna</th>\n",
              "      <th>Aboard_Passangers_fillna</th>\n",
              "      <th>Aboard_Crew_fillna</th>\n",
              "      <th>Aeroflot</th>\n",
              "      <th>Aeroflot2_yes</th>\n",
              "    </tr>\n",
              "  </thead>\n",
              "  <tbody>\n",
              "    <tr>\n",
              "      <th>0</th>\n",
              "      <td>9/17/1908</td>\n",
              "      <td>17:18</td>\n",
              "      <td>Fort Myer, Virginia</td>\n",
              "      <td>Demonstration</td>\n",
              "      <td>NaN</td>\n",
              "      <td>1</td>\n",
              "      <td>During a demonstration flight, a U.S. Army fly...</td>\n",
              "      <td>0.0</td>\n",
              "      <td>Military - U.S. Army</td>\n",
              "      <td>Wright Flyer III</td>\n",
              "      <td>2.0</td>\n",
              "      <td>1.0</td>\n",
              "      <td>1.0</td>\n",
              "      <td>0.0</td>\n",
              "      <td>2.0</td>\n",
              "      <td>2.0</td>\n",
              "      <td>no</td>\n",
              "      <td>0</td>\n",
              "    </tr>\n",
              "    <tr>\n",
              "      <th>1</th>\n",
              "      <td>9/7/1909</td>\n",
              "      <td>NaN</td>\n",
              "      <td>Juvisy-sur-Orge, France</td>\n",
              "      <td>Air show</td>\n",
              "      <td>SC1</td>\n",
              "      <td>NaN</td>\n",
              "      <td>Eugene Lefebvre was the first pilot to ever be...</td>\n",
              "      <td>0.0</td>\n",
              "      <td>NaN</td>\n",
              "      <td>Wright Byplane</td>\n",
              "      <td>1.0</td>\n",
              "      <td>1.0</td>\n",
              "      <td>0.0</td>\n",
              "      <td>0.0</td>\n",
              "      <td>1.0</td>\n",
              "      <td>1.0</td>\n",
              "      <td>no</td>\n",
              "      <td>0</td>\n",
              "    </tr>\n",
              "    <tr>\n",
              "      <th>2</th>\n",
              "      <td>7/12/1912</td>\n",
              "      <td>6:30</td>\n",
              "      <td>Atlantic City, New Jersey</td>\n",
              "      <td>Test flight</td>\n",
              "      <td>NaN</td>\n",
              "      <td>NaN</td>\n",
              "      <td>First U.S. dirigible Akron exploded just offsh...</td>\n",
              "      <td>0.0</td>\n",
              "      <td>Military - U.S. Navy</td>\n",
              "      <td>Dirigible</td>\n",
              "      <td>5.0</td>\n",
              "      <td>5.0</td>\n",
              "      <td>0.0</td>\n",
              "      <td>5.0</td>\n",
              "      <td>5.0</td>\n",
              "      <td>5.0</td>\n",
              "      <td>no</td>\n",
              "      <td>0</td>\n",
              "    </tr>\n",
              "    <tr>\n",
              "      <th>3</th>\n",
              "      <td>8/6/1913</td>\n",
              "      <td>NaN</td>\n",
              "      <td>Victoria, British Columbia, Canada</td>\n",
              "      <td>NaN</td>\n",
              "      <td>NaN</td>\n",
              "      <td>NaN</td>\n",
              "      <td>The first fatal airplane accident in Canada oc...</td>\n",
              "      <td>0.0</td>\n",
              "      <td>Private</td>\n",
              "      <td>Curtiss seaplane</td>\n",
              "      <td>1.0</td>\n",
              "      <td>1.0</td>\n",
              "      <td>0.0</td>\n",
              "      <td>1.0</td>\n",
              "      <td>1.0</td>\n",
              "      <td>1.0</td>\n",
              "      <td>no</td>\n",
              "      <td>0</td>\n",
              "    </tr>\n",
              "    <tr>\n",
              "      <th>23</th>\n",
              "      <td>12/16/1918</td>\n",
              "      <td>NaN</td>\n",
              "      <td>Elizabeth, New Jersey</td>\n",
              "      <td>NaN</td>\n",
              "      <td>97</td>\n",
              "      <td>NaN</td>\n",
              "      <td>Carl Smith was killed when his mail plane feet...</td>\n",
              "      <td>0.0</td>\n",
              "      <td>US Aerial Mail Service</td>\n",
              "      <td>De Havilland DH-4</td>\n",
              "      <td>1.0</td>\n",
              "      <td>1.0</td>\n",
              "      <td>0.0</td>\n",
              "      <td>1.0</td>\n",
              "      <td>1.0</td>\n",
              "      <td>1.0</td>\n",
              "      <td>no</td>\n",
              "      <td>0</td>\n",
              "    </tr>\n",
              "  </tbody>\n",
              "</table>\n",
              "</div>\n",
              "    <div class=\"colab-df-buttons\">\n",
              "\n",
              "  <div class=\"colab-df-container\">\n",
              "    <button class=\"colab-df-convert\" onclick=\"convertToInteractive('df-ee6b56d7-9ea3-48c7-9426-d6cb38db086b')\"\n",
              "            title=\"Convert this dataframe to an interactive table.\"\n",
              "            style=\"display:none;\">\n",
              "\n",
              "  <svg xmlns=\"http://www.w3.org/2000/svg\" height=\"24px\" viewBox=\"0 -960 960 960\">\n",
              "    <path d=\"M120-120v-720h720v720H120Zm60-500h600v-160H180v160Zm220 220h160v-160H400v160Zm0 220h160v-160H400v160ZM180-400h160v-160H180v160Zm440 0h160v-160H620v160ZM180-180h160v-160H180v160Zm440 0h160v-160H620v160Z\"/>\n",
              "  </svg>\n",
              "    </button>\n",
              "\n",
              "  <style>\n",
              "    .colab-df-container {\n",
              "      display:flex;\n",
              "      gap: 12px;\n",
              "    }\n",
              "\n",
              "    .colab-df-convert {\n",
              "      background-color: #E8F0FE;\n",
              "      border: none;\n",
              "      border-radius: 50%;\n",
              "      cursor: pointer;\n",
              "      display: none;\n",
              "      fill: #1967D2;\n",
              "      height: 32px;\n",
              "      padding: 0 0 0 0;\n",
              "      width: 32px;\n",
              "    }\n",
              "\n",
              "    .colab-df-convert:hover {\n",
              "      background-color: #E2EBFA;\n",
              "      box-shadow: 0px 1px 2px rgba(60, 64, 67, 0.3), 0px 1px 3px 1px rgba(60, 64, 67, 0.15);\n",
              "      fill: #174EA6;\n",
              "    }\n",
              "\n",
              "    .colab-df-buttons div {\n",
              "      margin-bottom: 4px;\n",
              "    }\n",
              "\n",
              "    [theme=dark] .colab-df-convert {\n",
              "      background-color: #3B4455;\n",
              "      fill: #D2E3FC;\n",
              "    }\n",
              "\n",
              "    [theme=dark] .colab-df-convert:hover {\n",
              "      background-color: #434B5C;\n",
              "      box-shadow: 0px 1px 3px 1px rgba(0, 0, 0, 0.15);\n",
              "      filter: drop-shadow(0px 1px 2px rgba(0, 0, 0, 0.3));\n",
              "      fill: #FFFFFF;\n",
              "    }\n",
              "  </style>\n",
              "\n",
              "    <script>\n",
              "      const buttonEl =\n",
              "        document.querySelector('#df-ee6b56d7-9ea3-48c7-9426-d6cb38db086b button.colab-df-convert');\n",
              "      buttonEl.style.display =\n",
              "        google.colab.kernel.accessAllowed ? 'block' : 'none';\n",
              "\n",
              "      async function convertToInteractive(key) {\n",
              "        const element = document.querySelector('#df-ee6b56d7-9ea3-48c7-9426-d6cb38db086b');\n",
              "        const dataTable =\n",
              "          await google.colab.kernel.invokeFunction('convertToInteractive',\n",
              "                                                    [key], {});\n",
              "        if (!dataTable) return;\n",
              "\n",
              "        const docLinkHtml = 'Like what you see? Visit the ' +\n",
              "          '<a target=\"_blank\" href=https://colab.research.google.com/notebooks/data_table.ipynb>data table notebook</a>'\n",
              "          + ' to learn more about interactive tables.';\n",
              "        element.innerHTML = '';\n",
              "        dataTable['output_type'] = 'display_data';\n",
              "        await google.colab.output.renderOutput(dataTable, element);\n",
              "        const docLink = document.createElement('div');\n",
              "        docLink.innerHTML = docLinkHtml;\n",
              "        element.appendChild(docLink);\n",
              "      }\n",
              "    </script>\n",
              "  </div>\n",
              "\n",
              "\n",
              "<div id=\"df-0dd22a96-314e-41d7-8b97-c5f4fe04180f\">\n",
              "  <button class=\"colab-df-quickchart\" onclick=\"quickchart('df-0dd22a96-314e-41d7-8b97-c5f4fe04180f')\"\n",
              "            title=\"Suggest charts\"\n",
              "            style=\"display:none;\">\n",
              "\n",
              "<svg xmlns=\"http://www.w3.org/2000/svg\" height=\"24px\"viewBox=\"0 0 24 24\"\n",
              "     width=\"24px\">\n",
              "    <g>\n",
              "        <path d=\"M19 3H5c-1.1 0-2 .9-2 2v14c0 1.1.9 2 2 2h14c1.1 0 2-.9 2-2V5c0-1.1-.9-2-2-2zM9 17H7v-7h2v7zm4 0h-2V7h2v10zm4 0h-2v-4h2v4z\"/>\n",
              "    </g>\n",
              "</svg>\n",
              "  </button>\n",
              "\n",
              "<style>\n",
              "  .colab-df-quickchart {\n",
              "      --bg-color: #E8F0FE;\n",
              "      --fill-color: #1967D2;\n",
              "      --hover-bg-color: #E2EBFA;\n",
              "      --hover-fill-color: #174EA6;\n",
              "      --disabled-fill-color: #AAA;\n",
              "      --disabled-bg-color: #DDD;\n",
              "  }\n",
              "\n",
              "  [theme=dark] .colab-df-quickchart {\n",
              "      --bg-color: #3B4455;\n",
              "      --fill-color: #D2E3FC;\n",
              "      --hover-bg-color: #434B5C;\n",
              "      --hover-fill-color: #FFFFFF;\n",
              "      --disabled-bg-color: #3B4455;\n",
              "      --disabled-fill-color: #666;\n",
              "  }\n",
              "\n",
              "  .colab-df-quickchart {\n",
              "    background-color: var(--bg-color);\n",
              "    border: none;\n",
              "    border-radius: 50%;\n",
              "    cursor: pointer;\n",
              "    display: none;\n",
              "    fill: var(--fill-color);\n",
              "    height: 32px;\n",
              "    padding: 0;\n",
              "    width: 32px;\n",
              "  }\n",
              "\n",
              "  .colab-df-quickchart:hover {\n",
              "    background-color: var(--hover-bg-color);\n",
              "    box-shadow: 0 1px 2px rgba(60, 64, 67, 0.3), 0 1px 3px 1px rgba(60, 64, 67, 0.15);\n",
              "    fill: var(--button-hover-fill-color);\n",
              "  }\n",
              "\n",
              "  .colab-df-quickchart-complete:disabled,\n",
              "  .colab-df-quickchart-complete:disabled:hover {\n",
              "    background-color: var(--disabled-bg-color);\n",
              "    fill: var(--disabled-fill-color);\n",
              "    box-shadow: none;\n",
              "  }\n",
              "\n",
              "  .colab-df-spinner {\n",
              "    border: 2px solid var(--fill-color);\n",
              "    border-color: transparent;\n",
              "    border-bottom-color: var(--fill-color);\n",
              "    animation:\n",
              "      spin 1s steps(1) infinite;\n",
              "  }\n",
              "\n",
              "  @keyframes spin {\n",
              "    0% {\n",
              "      border-color: transparent;\n",
              "      border-bottom-color: var(--fill-color);\n",
              "      border-left-color: var(--fill-color);\n",
              "    }\n",
              "    20% {\n",
              "      border-color: transparent;\n",
              "      border-left-color: var(--fill-color);\n",
              "      border-top-color: var(--fill-color);\n",
              "    }\n",
              "    30% {\n",
              "      border-color: transparent;\n",
              "      border-left-color: var(--fill-color);\n",
              "      border-top-color: var(--fill-color);\n",
              "      border-right-color: var(--fill-color);\n",
              "    }\n",
              "    40% {\n",
              "      border-color: transparent;\n",
              "      border-right-color: var(--fill-color);\n",
              "      border-top-color: var(--fill-color);\n",
              "    }\n",
              "    60% {\n",
              "      border-color: transparent;\n",
              "      border-right-color: var(--fill-color);\n",
              "    }\n",
              "    80% {\n",
              "      border-color: transparent;\n",
              "      border-right-color: var(--fill-color);\n",
              "      border-bottom-color: var(--fill-color);\n",
              "    }\n",
              "    90% {\n",
              "      border-color: transparent;\n",
              "      border-bottom-color: var(--fill-color);\n",
              "    }\n",
              "  }\n",
              "</style>\n",
              "\n",
              "  <script>\n",
              "    async function quickchart(key) {\n",
              "      const quickchartButtonEl =\n",
              "        document.querySelector('#' + key + ' button');\n",
              "      quickchartButtonEl.disabled = true;  // To prevent multiple clicks.\n",
              "      quickchartButtonEl.classList.add('colab-df-spinner');\n",
              "      try {\n",
              "        const charts = await google.colab.kernel.invokeFunction(\n",
              "            'suggestCharts', [key], {});\n",
              "      } catch (error) {\n",
              "        console.error('Error during call to suggestCharts:', error);\n",
              "      }\n",
              "      quickchartButtonEl.classList.remove('colab-df-spinner');\n",
              "      quickchartButtonEl.classList.add('colab-df-quickchart-complete');\n",
              "    }\n",
              "    (() => {\n",
              "      let quickchartButtonEl =\n",
              "        document.querySelector('#df-0dd22a96-314e-41d7-8b97-c5f4fe04180f button');\n",
              "      quickchartButtonEl.style.display =\n",
              "        google.colab.kernel.accessAllowed ? 'block' : 'none';\n",
              "    })();\n",
              "  </script>\n",
              "</div>\n",
              "    </div>\n",
              "  </div>\n"
            ],
            "text/plain": [
              "          Date   Time                            Location          Route  \\\n",
              "0    9/17/1908  17:18                 Fort Myer, Virginia  Demonstration   \n",
              "1     9/7/1909    NaN             Juvisy-sur-Orge, France       Air show   \n",
              "2    7/12/1912   6:30           Atlantic City, New Jersey    Test flight   \n",
              "3     8/6/1913    NaN  Victoria, British Columbia, Canada            NaN   \n",
              "23  12/16/1918    NaN               Elizabeth, New Jersey            NaN   \n",
              "\n",
              "   Registration cn/ln                                            Summary  \\\n",
              "0           NaN     1  During a demonstration flight, a U.S. Army fly...   \n",
              "1           SC1   NaN  Eugene Lefebvre was the first pilot to ever be...   \n",
              "2           NaN   NaN  First U.S. dirigible Akron exploded just offsh...   \n",
              "3           NaN   NaN  The first fatal airplane accident in Canada oc...   \n",
              "23           97   NaN  Carl Smith was killed when his mail plane feet...   \n",
              "\n",
              "    Ground_fillna         Operator_fillna     AC Type_fillna  Aboard_fillna  \\\n",
              "0             0.0    Military - U.S. Army   Wright Flyer III            2.0   \n",
              "1             0.0                     NaN     Wright Byplane            1.0   \n",
              "2             0.0    Military - U.S. Navy          Dirigible            5.0   \n",
              "3             0.0                 Private   Curtiss seaplane            1.0   \n",
              "23            0.0  US Aerial Mail Service  De Havilland DH-4            1.0   \n",
              "\n",
              "    Fatalities_fillna  Fatalities Passangers_fillna  Fatalities Crew_fillna  \\\n",
              "0                 1.0                           1.0                     0.0   \n",
              "1                 1.0                           0.0                     0.0   \n",
              "2                 5.0                           0.0                     5.0   \n",
              "3                 1.0                           0.0                     1.0   \n",
              "23                1.0                           0.0                     1.0   \n",
              "\n",
              "    Aboard_Passangers_fillna  Aboard_Crew_fillna Aeroflot  Aeroflot2_yes  \n",
              "0                        2.0                 2.0       no              0  \n",
              "1                        1.0                 1.0       no              0  \n",
              "2                        5.0                 5.0       no              0  \n",
              "3                        1.0                 1.0       no              0  \n",
              "23                       1.0                 1.0       no              0  "
            ]
          },
          "execution_count": 62,
          "metadata": {},
          "output_type": "execute_result"
        }
      ],
      "source": [
        "df_cleaned_no_outliers['Aeroflot'] = df_cleaned_no_outliers['Operator_fillna'].apply(lambda x: 'yes' if x=='Aeroflot' else 'no')\n",
        "df_cleaned_no_outliers['Aeroflot2'] = df_cleaned_no_outliers['Aeroflot']\n",
        "df_clean_2 = pd.get_dummies(df_cleaned_no_outliers, columns=['Aeroflot2'], dtype = int)\n",
        "df_clean_2.drop(['Aeroflot2_no'], axis = 1, inplace = True)\n",
        "df_clean_2.head()"
      ]
    },
    {
      "cell_type": "markdown",
      "metadata": {
        "id": "cB4fbfdE2K5X"
      },
      "source": [
        "### Построим линейную регрессию"
      ]
    },
    {
      "cell_type": "code",
      "execution_count": null,
      "metadata": {
        "id": "eEpfHEne2K5X"
      },
      "outputs": [],
      "source": [
        "from sklearn.model_selection import train_test_split\n",
        "from sklearn.linear_model import LinearRegression\n",
        "from sklearn.metrics import mean_squared_error, r2_score, mean_absolute_error"
      ]
    },
    {
      "cell_type": "code",
      "execution_count": null,
      "metadata": {
        "colab": {
          "base_uri": "https://localhost:8080/",
          "height": 487
        },
        "id": "QnetgZcE2K5X",
        "outputId": "de1a6fc5-e3ce-4ffa-cc7b-02fb44be3c58"
      },
      "outputs": [
        {
          "data": {
            "image/png": "[encoded data removed]",
            "text/plain": [
              "<Figure size 1600x500 with 3 Axes>"
            ]
          },
          "metadata": {},
          "output_type": "display_data"
        }
      ],
      "source": [
        "fig, ax = plt.subplots(1, 3, figsize = (16,5))\n",
        "\n",
        "lst = ['Aboard_fillna', 'Fatalities Crew_fillna', 'Fatalities_fillna']\n",
        "x = ['Количество людей на борту', 'Количество погибших среди экипажа', 'Общее количество погибших']\n",
        "ttl = ['График распр-ия Aboard_fillna', 'График распр-ия Fatalities Crew_fillna', 'График распр-ия Fatalities_fillna']\n",
        "\n",
        "for i in range(len(lst)):\n",
        "    ax[i].hist(df_clean_2[lst[i]])\n",
        "    ax[i].set_ylabel('Частота')\n",
        "    ax[i].set_xlabel(x[i])\n",
        "    ax[i].set_title(ttl[i])\n"
      ]
    },
    {
      "cell_type": "markdown",
      "metadata": {
        "id": "4k_-DkwL2K5X"
      },
      "source": [
        "Заметим, что распредление признаков сильно скошено влево, попробуем это исправить с помощью логарифма"
      ]
    },
    {
      "cell_type": "code",
      "execution_count": null,
      "metadata": {
        "id": "hAscwp6X2K5X"
      },
      "outputs": [],
      "source": [
        "import numpy as np\n",
        "df_clean_2['log_Aboard'] = np.log(df_clean_2['Aboard_fillna'] + 1) #прибавили 1 так как в наших наблюдениях есть нулевые значения\n",
        "df_clean_2['log_Fatalities Crew'] = np.log(df_clean_2['Fatalities Crew_fillna'] + 1)\n",
        "df_clean_2['log_Fatalities'] = np.log(df_clean_2['Fatalities_fillna'] + 1)"
      ]
    },
    {
      "cell_type": "code",
      "execution_count": null,
      "metadata": {
        "colab": {
          "base_uri": "https://localhost:8080/",
          "height": 487
        },
        "id": "g9JZHe5i2K5X",
        "outputId": "df52a5f2-5739-4249-b028-b8a433c8e6bc"
      },
      "outputs": [
        {
          "data": {
            "image/png": "[encoded data removed]",
            "text/plain": [
              "<Figure size 1600x500 with 2 Axes>"
            ]
          },
          "metadata": {},
          "output_type": "display_data"
        }
      ],
      "source": [
        "fig, ax = plt.subplots(1, 2, figsize = (16,5))\n",
        "\n",
        "lst = ['Aboard_fillna', 'log_Aboard']\n",
        "ttl = ['График распределения Aboard_fillna', 'График распределения log_Aboard']\n",
        "x = ['Количество людей на борту', 'Логарифм количества людей на борту']\n",
        "\n",
        "for i in range(len(lst)):\n",
        "    ax[i].set_title(ttl[i])\n",
        "    ax[i].hist(df_clean_2[lst[i]])\n",
        "    ax[i].set_ylabel('Частота')\n",
        "    ax[i].set_xlabel(x[i])\n",
        "\n"
      ]
    },
    {
      "cell_type": "code",
      "execution_count": null,
      "metadata": {
        "colab": {
          "base_uri": "https://localhost:8080/",
          "height": 487
        },
        "id": "ltZ_qhB52K5X",
        "outputId": "4f2fbead-f6ce-4473-b17f-d33e47d6dbaa"
      },
      "outputs": [
        {
          "data": {
            "image/png": "[encoded data removed]",
            "text/plain": [
              "<Figure size 1600x500 with 2 Axes>"
            ]
          },
          "metadata": {},
          "output_type": "display_data"
        }
      ],
      "source": [
        "fig, ax = plt.subplots(1, 2, figsize = (16,5))\n",
        "\n",
        "lst1 = ['Fatalities Crew_fillna', 'log_Fatalities Crew']\n",
        "ttl = ['График распределения Fatalities Crew_fillna', 'График распределения log_Fatalities Crew']\n",
        "x = ['Количество погибших среди экипажа', 'Логарифм количества погибших среди экипажа']\n",
        "\n",
        "for j in range(len(lst1)):\n",
        "    ax[j].hist(df_clean_2[lst1[j]])\n",
        "    ax[j].set_title(ttl[j])\n",
        "    ax[j].set_ylabel('Частота')\n",
        "    ax[j].set_xlabel(x[j])"
      ]
    },
    {
      "cell_type": "code",
      "execution_count": null,
      "metadata": {
        "colab": {
          "base_uri": "https://localhost:8080/",
          "height": 487
        },
        "id": "_HUCaDUR2K5X",
        "outputId": "ab870026-146d-44fd-b63c-67f47be768f5"
      },
      "outputs": [
        {
          "data": {
            "image/png": "[encoded data removed]",
            "text/plain": [
              "<Figure size 1600x500 with 2 Axes>"
            ]
          },
          "metadata": {},
          "output_type": "display_data"
        }
      ],
      "source": [
        "fig, ax = plt.subplots(1, 2, figsize = (16,5))\n",
        "\n",
        "lst1 = ['Fatalities_fillna', 'log_Fatalities']\n",
        "ttl = ['График распределения Fatalities_fillna', 'График распределения log_Fatalities']\n",
        "x = ['Общее количество погибших', 'Логарифм общего количества погибших']\n",
        "\n",
        "for j in range(len(lst1)):\n",
        "    ax[j].hist(df_clean_2[lst1[j]])\n",
        "    ax[j].set_title(ttl[j])\n",
        "    ax[j].set_ylabel('Частота')\n",
        "    ax[j].set_xlabel(x[j])\n"
      ]
    },
    {
      "cell_type": "markdown",
      "metadata": {
        "id": "OZM9TORS2K5X"
      },
      "source": [
        "Итак, посмотрим графики рассеяния с новыми признаками"
      ]
    },
    {
      "cell_type": "code",
      "execution_count": null,
      "metadata": {
        "colab": {
          "base_uri": "https://localhost:8080/",
          "height": 479
        },
        "id": "sIX4K4712K5Y",
        "outputId": "d8ca4b98-1eb5-420a-df6b-18fff1db620b"
      },
      "outputs": [
        {
          "data": {
            "image/png": "[encoded data removed]",
            "text/plain": [
              "<Figure size 1600x500 with 2 Axes>"
            ]
          },
          "metadata": {},
          "output_type": "display_data"
        }
      ],
      "source": [
        "fig, ax = plt.subplots(1,2, figsize = (16,5))\n",
        "\n",
        "lst = ['log_Aboard', 'log_Fatalities Crew']\n",
        "x = ['Логарифм количества людей на борту', 'Логарифм количества погибших среди экипажа']\n",
        "ttl = ['График рассеяния кол-ва людей на борту с кол-вом погибших', 'График рассеяния логарифма кол-ва погибшего экипажа с кол-вом погибших']\n",
        "\n",
        "for i in range(len(lst)):\n",
        "    ax[i].scatter(df_clean_2[lst[i]], df_clean_2['Fatalities_fillna'])\n",
        "    ax[i].set_ylabel('Количество погибших')\n",
        "    ax[i].set_xlabel(x[i])\n",
        "    ax[i].set_title(ttl[i])"
      ]
    },
    {
      "cell_type": "markdown",
      "metadata": {
        "id": "e6v44wNr2K5Y"
      },
      "source": [
        "Теперь, можно приступать к построению линейной регрессии"
      ]
    },
    {
      "cell_type": "markdown",
      "metadata": {
        "id": "tnnK56hW2K5Y"
      },
      "source": [
        "Делим выборку на тренировочную и тестовую"
      ]
    },
    {
      "cell_type": "code",
      "execution_count": null,
      "metadata": {
        "id": "oy_gs0f02K5Y"
      },
      "outputs": [],
      "source": [
        "X = df_clean_2[['log_Aboard','log_Fatalities Crew','Aeroflot2_yes']]\n",
        "Y = df_clean_2['log_Fatalities']\n",
        "\n",
        "(X_train, X_test, y_train, y_test) = train_test_split(X, Y, test_size = 0.2, random_state=42)"
      ]
    },
    {
      "cell_type": "markdown",
      "metadata": {
        "id": "2kpxOZP72K5Y"
      },
      "source": [
        "Обучаем модель:"
      ]
    },
    {
      "cell_type": "code",
      "execution_count": null,
      "metadata": {
        "id": "1Inq-kkX2K5Y"
      },
      "outputs": [],
      "source": [
        "x_train = X_train[['log_Aboard','log_Fatalities Crew','Aeroflot2_yes']]\n",
        "lin_model = LinearRegression().fit(x_train, y_train)"
      ]
    },
    {
      "cell_type": "markdown",
      "metadata": {
        "id": "M1im-6Rn2K5Y"
      },
      "source": [
        "Коэффиценты w1, w2, w3"
      ]
    },
    {
      "cell_type": "code",
      "execution_count": null,
      "metadata": {
        "colab": {
          "base_uri": "https://localhost:8080/"
        },
        "id": "iRYzrv982K5Y",
        "outputId": "01194f08-f2c1-4caf-dd6f-b6972116389b"
      },
      "outputs": [
        {
          "data": {
            "text/plain": [
              "array([0.66, 0.77, 0.  ])"
            ]
          },
          "execution_count": 72,
          "metadata": {},
          "output_type": "execute_result"
        }
      ],
      "source": [
        "lin_model.coef_.round(2)"
      ]
    },
    {
      "cell_type": "markdown",
      "metadata": {
        "id": "ViCLl4gh2K5Y"
      },
      "source": [
        "Свободный коэфициент"
      ]
    },
    {
      "cell_type": "code",
      "execution_count": null,
      "metadata": {
        "colab": {
          "base_uri": "https://localhost:8080/"
        },
        "id": "4-58katN2K5Y",
        "outputId": "28d96c28-755d-4c13-a39d-f495ba760629"
      },
      "outputs": [
        {
          "data": {
            "text/plain": [
              "np.float64(-0.4)"
            ]
          },
          "execution_count": 73,
          "metadata": {},
          "output_type": "execute_result"
        }
      ],
      "source": [
        "lin_model.intercept_.round(2)"
      ]
    },
    {
      "cell_type": "markdown",
      "metadata": {
        "id": "aK5as-3M2K5Y"
      },
      "source": [
        "Итого, наша модель:"
      ]
    },
    {
      "cell_type": "markdown",
      "metadata": {
        "id": "yXP1Ao6iTQ7S"
      },
      "source": [
        " ln(Fatalities + 1) = -0.4 +  0.66 * ln(Aboard + 1) + 0.77 * ln(Fatalities Crew + 1) - 0.00 *Aeroflot_yes"
      ]
    },
    {
      "cell_type": "markdown",
      "metadata": {
        "id": "ZNu3lqWZ2K5Y"
      },
      "source": [
        "Интерпретация коэффициентов"
      ]
    },
    {
      "cell_type": "markdown",
      "metadata": {
        "id": "WInB1QRL2K5Y"
      },
      "source": [
        " - $w_0=-0.04$ : Если все предикторы равны 0, то число жертв равно  $ \\ e ^ {-0.4} -1$. Если нет людей на борту, нет жертв среди экипажа и опеатор не аэрофлот, то количетсво жертв отрицательно(что невозможно, как и крушение самолета, на борту которого никого нет, даже пилота)\n",
        " - $w_1 = 0.66$ : Если количество людей на борту увеличится на $1$%, то количество жертв вырастет на $0.66$%\n",
        " - $w_2 = 0.77$ : Если количество жертв среди экипажа на борту увеличится на $1$%, то общее количество жертв вырастет на $0.77$%\n",
        " - $w_3 = 0.00$ : Если оператором полета станет не аэрофлот, то количество жертв сократится на $0$%\n",
        "   "
      ]
    },
    {
      "cell_type": "markdown",
      "metadata": {
        "id": "90OZaI7I2K5Y"
      },
      "source": [
        "Как можно заметить, предиктор Aeroflot2_yes не влияет на модель, так как коэффициент перед ним равен 0. Мы попытались взять другие признаки для построения модели: пробовали взять другие количественные признаки, но они либо являются автокорреляцией для признака, который мы включили в модель, либо не коррелируют вовсе, а категориальные признаки не получилось адекватно включить в модель, поскольку довольно много уникальных значений. Итого, было найдено только 2 признака, которые мы смогли подобрать из датасета для модели."
      ]
    },
    {
      "cell_type": "markdown",
      "metadata": {
        "id": "mb6BrWNm2K5Y"
      },
      "source": [
        "Оценим качество модели"
      ]
    },
    {
      "cell_type": "markdown",
      "metadata": {
        "id": "ba5zUwRG2K5Y"
      },
      "source": [
        "Коэффициент детерминации"
      ]
    },
    {
      "cell_type": "code",
      "execution_count": null,
      "metadata": {
        "colab": {
          "base_uri": "https://localhost:8080/"
        },
        "id": "DBeWN9zo2K5Y",
        "outputId": "2d8e64e2-ae37-4f79-d5ab-fcf67dab1e9d"
      },
      "outputs": [
        {
          "data": {
            "text/plain": [
              "0.7630869481246887"
            ]
          },
          "execution_count": 74,
          "metadata": {},
          "output_type": "execute_result"
        }
      ],
      "source": [
        "y_test_pred = lin_model.predict(X_test)\n",
        "r2_score(y_test, y_test_pred)"
      ]
    },
    {
      "cell_type": "markdown",
      "metadata": {
        "id": "4isnobEp2K5Y"
      },
      "source": [
        "$r^2$ ближе к 1, что свидетельствует о хорошем качестве модели. Модель описывает примерно 76% данных."
      ]
    },
    {
      "cell_type": "markdown",
      "metadata": {
        "id": "3PQJCHPe2K5Y"
      },
      "source": [
        "Среднеквадратичная ошибка (MSE)"
      ]
    },
    {
      "cell_type": "code",
      "execution_count": null,
      "metadata": {
        "colab": {
          "base_uri": "https://localhost:8080/"
        },
        "id": "WN3CCqjs2K5Y",
        "outputId": "deea631a-8833-4faf-abea-dbf5142d7927"
      },
      "outputs": [
        {
          "data": {
            "text/plain": [
              "0.23018366905420404"
            ]
          },
          "execution_count": 75,
          "metadata": {},
          "output_type": "execute_result"
        }
      ],
      "source": [
        "mean_squared_error(y_test, y_test_pred)"
      ]
    },
    {
      "cell_type": "markdown",
      "metadata": {
        "id": "YXsAAE8l2K5Y"
      },
      "source": [
        "Модель ошибается, чтобы понять ее качество на основе среднеквадратичной ошибки нужно эту метрику сравнивнить с такой же метрикой другой модели. Но, зная, что MSE измеряется от 0 до +∞, то у нас она ближе к 0."
      ]
    },
    {
      "cell_type": "markdown",
      "metadata": {
        "id": "4-hFnSD32K5Y"
      },
      "source": [
        "Среднеабсолютная ошибка (MAE)"
      ]
    },
    {
      "cell_type": "code",
      "execution_count": null,
      "metadata": {
        "colab": {
          "base_uri": "https://localhost:8080/"
        },
        "id": "V1FDWCvJ2K5Y",
        "outputId": "bc29c117-7862-46aa-e245-7c2faecbb791"
      },
      "outputs": [
        {
          "data": {
            "text/plain": [
              "0.34744941519377537"
            ]
          },
          "execution_count": 76,
          "metadata": {},
          "output_type": "execute_result"
        }
      ],
      "source": [
        "mean_absolute_error(y_test, y_test_pred)"
      ]
    },
    {
      "cell_type": "markdown",
      "metadata": {
        "id": "6y2stWnU2K5Z"
      },
      "source": [
        "Модель ошибается, чтобы понять ее качество на основе среднеабсолютной ошибки нужно эту метрику сравнивнить с такой же метрикой другой модели. Но, зная, что MAE измеряется от 0 до +∞, то у нас она ближе к 0."
      ]
    },
    {
      "cell_type": "markdown",
      "metadata": {
        "id": "qtHqv9Gv7gno"
      },
      "source": [
        "### Доверительный интервал"
      ]
    },
    {
      "cell_type": "markdown",
      "metadata": {
        "id": "v83AHS76lExI"
      },
      "source": [
        "Через z-статистику"
      ]
    },
    {
      "cell_type": "markdown",
      "metadata": {
        "id": "1reYggRIkEpd"
      },
      "source": [
        "Соберем выборку из признака \"Общее количество жертв\" из 1000 наблюдений"
      ]
    },
    {
      "cell_type": "code",
      "execution_count": null,
      "metadata": {
        "colab": {
          "base_uri": "https://localhost:8080/",
          "height": 453
        },
        "id": "j7_ujU9_7orI",
        "outputId": "53b39bfe-d81e-4ed7-de2a-025550545c88"
      },
      "outputs": [
        {
          "data": {
            "text/html": [
              "<div>\n",
              "<style scoped>\n",
              "    .dataframe tbody tr th:only-of-type {\n",
              "        vertical-align: middle;\n",
              "    }\n",
              "\n",
              "    .dataframe tbody tr th {\n",
              "        vertical-align: top;\n",
              "    }\n",
              "\n",
              "    .dataframe thead th {\n",
              "        text-align: right;\n",
              "    }\n",
              "</style>\n",
              "<table border=\"1\" class=\"dataframe\">\n",
              "  <thead>\n",
              "    <tr style=\"text-align: right;\">\n",
              "      <th></th>\n",
              "      <th>Fatalities_fillna</th>\n",
              "    </tr>\n",
              "  </thead>\n",
              "  <tbody>\n",
              "    <tr>\n",
              "      <th>3476</th>\n",
              "      <td>0.0</td>\n",
              "    </tr>\n",
              "    <tr>\n",
              "      <th>1342</th>\n",
              "      <td>25.0</td>\n",
              "    </tr>\n",
              "    <tr>\n",
              "      <th>3006</th>\n",
              "      <td>3.0</td>\n",
              "    </tr>\n",
              "    <tr>\n",
              "      <th>1962</th>\n",
              "      <td>11.0</td>\n",
              "    </tr>\n",
              "    <tr>\n",
              "      <th>1211</th>\n",
              "      <td>46.0</td>\n",
              "    </tr>\n",
              "    <tr>\n",
              "      <th>...</th>\n",
              "      <td>...</td>\n",
              "    </tr>\n",
              "    <tr>\n",
              "      <th>1358</th>\n",
              "      <td>2.0</td>\n",
              "    </tr>\n",
              "    <tr>\n",
              "      <th>1741</th>\n",
              "      <td>2.0</td>\n",
              "    </tr>\n",
              "    <tr>\n",
              "      <th>1504</th>\n",
              "      <td>8.0</td>\n",
              "    </tr>\n",
              "    <tr>\n",
              "      <th>3955</th>\n",
              "      <td>3.0</td>\n",
              "    </tr>\n",
              "    <tr>\n",
              "      <th>203</th>\n",
              "      <td>1.0</td>\n",
              "    </tr>\n",
              "  </tbody>\n",
              "</table>\n",
              "<p>1000 rows × 1 columns</p>\n",
              "</div><br><label><b>dtype:</b> float64</label>"
            ],
            "text/plain": [
              "3476     0.0\n",
              "1342    25.0\n",
              "3006     3.0\n",
              "1962    11.0\n",
              "1211    46.0\n",
              "        ... \n",
              "1358     2.0\n",
              "1741     2.0\n",
              "1504     8.0\n",
              "3955     3.0\n",
              "203      1.0\n",
              "Name: Fatalities_fillna, Length: 1000, dtype: float64"
            ]
          },
          "execution_count": 77,
          "metadata": {},
          "output_type": "execute_result"
        }
      ],
      "source": [
        "subset_df = df_clean_2['Fatalities_fillna'].sample(n=1000, random_state = 42)\n",
        "subset_df\n"
      ]
    },
    {
      "cell_type": "code",
      "execution_count": null,
      "metadata": {
        "colab": {
          "base_uri": "https://localhost:8080/"
        },
        "id": "UjS4rAeA8HoX",
        "outputId": "5803ad0d-a050-495d-ecf8-0b664680bf8f"
      },
      "outputs": [
        {
          "data": {
            "text/plain": [
              "(np.float64(12.447144796122972), np.float64(14.08885520387703))"
            ]
          },
          "execution_count": 78,
          "metadata": {},
          "output_type": "execute_result"
        }
      ],
      "source": [
        "from scipy import stats\n",
        "gamma = 0.95\n",
        "n = 1000\n",
        "mean = subset_df.mean()\n",
        "sigma = df_clean_2['Fatalities_fillna'].std()\n",
        "res_z = stats.norm.interval(gamma,\n",
        "                          loc=mean,\n",
        "                          scale=sigma/np.sqrt(n))\n",
        "res_z"
      ]
    },
    {
      "cell_type": "markdown",
      "metadata": {
        "id": "mVx0RRcF-PP7"
      },
      "source": [
        "С вероятностью 95%, среднее количество жертв лежит в интервале (12.447, 14.089)"
      ]
    },
    {
      "cell_type": "markdown",
      "metadata": {
        "id": "8mAGmhXy_IfJ"
      },
      "source": [
        "Через t-статистику"
      ]
    },
    {
      "cell_type": "code",
      "execution_count": null,
      "metadata": {
        "colab": {
          "base_uri": "https://localhost:8080/"
        },
        "id": "kZu-R1z3_Ssp",
        "outputId": "b1a8b1e8-3f59-48c8-da06-76721f78f341"
      },
      "outputs": [
        {
          "data": {
            "text/plain": [
              "(np.float64(12.450634323564628), np.float64(14.085365676435373))"
            ]
          },
          "execution_count": 79,
          "metadata": {},
          "output_type": "execute_result"
        }
      ],
      "source": [
        "n = 1000\n",
        "mean = subset_df.mean()\n",
        "gamma = 0.95\n",
        "s = subset_df.std()\n",
        "res_t = stats.t.interval(gamma,\n",
        "                       df = n - 1,\n",
        "                       loc = mean,\n",
        "                       scale = s/np.sqrt(n))\n",
        "res_t"
      ]
    },
    {
      "cell_type": "markdown",
      "metadata": {
        "id": "9KZDhmGZAIig"
      },
      "source": [
        "С вероятностью 95%, среднее количество жертв лежит в интервале (12.450, 14.085)"
      ]
    },
    {
      "cell_type": "markdown",
      "metadata": {
        "id": "2IxAiR0RmrLv"
      },
      "source": [
        "### Тестирование гипотез###"
      ]
    },
    {
      "cell_type": "markdown",
      "metadata": {
        "id": "dV3hAY4emvfO"
      },
      "source": [
        "Через Z-тест"
      ]
    },
    {
      "cell_type": "markdown",
      "metadata": {
        "id": "UZaO05zLEb_l"
      },
      "source": [
        "#### Гипотеза: Наше выборочное среднее по общему количеству жертв равно математическому ожиданию генеральной совокупности\n",
        "$$H_0: \\mu = 13,68$$\n",
        "$$H_A: \\mu \\neq 13,68$$"
      ]
    },
    {
      "cell_type": "code",
      "execution_count": null,
      "metadata": {
        "colab": {
          "base_uri": "https://localhost:8080/"
        },
        "id": "9n0qUVdT_3Xo",
        "outputId": "b88c0619-61c3-4567-ebf7-05f2420160cf"
      },
      "outputs": [
        {
          "data": {
            "text/plain": [
              "(np.float64(-0.9857670892175102), np.float64(0.32424741907222987))"
            ]
          },
          "execution_count": 80,
          "metadata": {},
          "output_type": "execute_result"
        }
      ],
      "source": [
        "mu = df_clean_2['Fatalities_fillna'].mean()\n",
        "from statsmodels.stats.weightstats import ztest as ztest\n",
        "res_ztest = ztest(subset_df,\n",
        "            value = mu,\n",
        "            alternative = 'two-sided')\n",
        "res_ztest"
      ]
    },
    {
      "cell_type": "code",
      "execution_count": null,
      "metadata": {
        "colab": {
          "base_uri": "https://localhost:8080/"
        },
        "id": "9waKYHihBUuk",
        "outputId": "9f48ef15-4a23-4768-fd6a-d66e42417005"
      },
      "outputs": [
        {
          "data": {
            "text/plain": [
              "np.float64(0.32424741907222987)"
            ]
          },
          "execution_count": 81,
          "metadata": {},
          "output_type": "execute_result"
        }
      ],
      "source": [
        "p_value = res_ztest[1]\n",
        "p_value"
      ]
    },
    {
      "cell_type": "markdown",
      "metadata": {
        "id": "geNTTU2aCcff"
      },
      "source": [
        "По итогам тестирования гипотезы p-value=0.32.\n",
        "\n",
        "Это значит нулевая гипотеза не отвергается на всех адекватных уровнях значимости α\n"
      ]
    },
    {
      "cell_type": "markdown",
      "metadata": {
        "id": "f6jz-DaBCO_J"
      },
      "source": [
        "Через T-test"
      ]
    },
    {
      "cell_type": "markdown",
      "metadata": {
        "id": "4xJ0XDj1Hjaw"
      },
      "source": [
        "#### Гипотеза: Наше выборочное среднее по общему количеству жертв равно математическому ожиданию генеральной совокупности\n",
        "$$H_0: \\mu = 13,68$$\n",
        "$$H_A: \\mu \\neq 13,68$$"
      ]
    },
    {
      "cell_type": "markdown",
      "metadata": {
        "id": "I6qcTeRG6miX"
      },
      "source": []
    },
    {
      "cell_type": "code",
      "execution_count": null,
      "metadata": {
        "colab": {
          "base_uri": "https://localhost:8080/"
        },
        "id": "cGfmzKAQHkLS",
        "outputId": "f5dd976b-abd1-4cbf-9d61-3c9ab6539326"
      },
      "outputs": [
        {
          "data": {
            "text/plain": [
              "np.float64(0.32448610137068434)"
            ]
          },
          "execution_count": 82,
          "metadata": {},
          "output_type": "execute_result"
        }
      ],
      "source": [
        "res_t_test = stats.ttest_1samp(subset_df,\n",
        "                        popmean=mu,\n",
        "                        alternative='two-sided')\n",
        "p_value_t_test = res_t_test[1]\n",
        "p_value_t_test"
      ]
    },
    {
      "cell_type": "markdown",
      "metadata": {
        "id": "Bwjda_2IIdjE"
      },
      "source": [
        "По итогам тестирования гипотезы p-value=0.32.\n",
        "\n",
        "Это значит нулевая гипотеза не отвергается на всех адекватных уровнях значимости α\n"
      ]
    },
    {
      "cell_type": "markdown",
      "metadata": {
        "id": "s0mbSE6et7RE"
      },
      "source": [
        "### Тест на равенство математических ожиданий двух несвязанных выборок ###"
      ]
    },
    {
      "cell_type": "markdown",
      "metadata": {
        "id": "pB1p7Dt7uLzp"
      },
      "source": [
        "Разделим генеральную совокупность на 2 выборки по году: до 1966 и после 1966."
      ]
    },
    {
      "cell_type": "code",
      "execution_count": null,
      "metadata": {
        "id": "EvmcpBpwyNwN"
      },
      "outputs": [],
      "source": [
        "df_clean_2['Date'] = pd.to_datetime(df_clean_2['Date'])\n",
        "df_clean_2['Year'] = df_clean_2['Date'].dt.year"
      ]
    },
    {
      "cell_type": "code",
      "execution_count": null,
      "metadata": {
        "id": "_JQ3r18YrFlD"
      },
      "outputs": [],
      "source": [
        "before_1966= df_clean_2[df_clean_2['Year']<1966]\n",
        "after_1966 = df_clean_2[df_clean_2['Year']>1966]"
      ]
    },
    {
      "cell_type": "markdown",
      "metadata": {
        "id": "aYlvLLn8uvev"
      },
      "source": [
        "Гипотеза: Математическое ожидание общего количества жертв в  авиакатастрофах до 1966 не равно математическому ожиданию общих жертв в авиакатастрофах после 1966\n",
        "$$ H_0: \\mu^{before\\_1966} = \\mu^{after\\_1966} $$\n",
        "\n",
        "$$ H_A: \\mu^{before\\_1966} \\neq \\mu^{after\\_1966} $$\n",
        "** **\n"
      ]
    },
    {
      "cell_type": "code",
      "execution_count": null,
      "metadata": {
        "colab": {
          "base_uri": "https://localhost:8080/"
        },
        "id": "3XAve2vcwk9r",
        "outputId": "6a3d3c3f-9c66-4cf2-c450-fd7af0c5a5dd"
      },
      "outputs": [
        {
          "data": {
            "text/plain": [
              "TtestResult(statistic=np.float64(-2.504462491748338), pvalue=np.float64(0.012302444782763957), df=np.float64(4083.0))"
            ]
          },
          "execution_count": 85,
          "metadata": {},
          "output_type": "execute_result"
        }
      ],
      "source": [
        "result = stats.ttest_ind(before_1966['Fatalities_fillna'],\n",
        "                         after_1966['Fatalities_fillna'],\n",
        "                         alternative = 'two-sided',\n",
        "                         equal_var=True)\n",
        "result"
      ]
    },
    {
      "cell_type": "markdown",
      "metadata": {
        "id": "SMPlrbpU7aHZ"
      },
      "source": [
        "**Вывод:** по итогам тестирования гипотезы p-value=0.01. Это значит нулевая гипотеза\n",
        "- не отвергается на уровне значимости 1%\n",
        "- отвергается на уровне значимости 5%\n",
        "- отвергается на уровне значимости 10%"
      ]
    },
    {
      "cell_type": "markdown",
      "metadata": {
        "id": "lRMBcnRrJ-jo"
      },
      "source": [
        "### Критерий независимости хи-квадрат###"
      ]
    },
    {
      "cell_type": "markdown",
      "metadata": {
        "id": "16LClrkdCLhy"
      },
      "source": [
        "\n",
        "\n",
        "\n",
        "$H_0$: В нашем датасете нет статистической зависимости между категориальными данными - оператором и количеством жертв.\n",
        "\n",
        "$H_1$: Есть связь между переменными оператор и количество жертв\n",
        "\n"
      ]
    },
    {
      "cell_type": "code",
      "execution_count": null,
      "metadata": {
        "colab": {
          "base_uri": "https://localhost:8080/"
        },
        "id": "ynqanDVGIbgw",
        "outputId": "12344ac9-6175-4567-b46f-737be801adf8"
      },
      "outputs": [
        {
          "name": "stdout",
          "output_type": "stream",
          "text": [
            "хи-квадрат статистика 6728.855477568852\n",
            "P-value = 0.5496422656371599\n"
          ]
        }
      ],
      "source": [
        "from scipy.stats import chi2_contingency\n",
        "contingency_table = pd.crosstab(df['Operator_fillna'], pd.cut(df['Fatalities_fillna'], bins=[0, 20, 50, 100, float('inf')]))\n",
        "chi2, p, dof, expected = chi2_contingency(contingency_table)\n",
        "print(\"хи-квадрат статистика\", chi2)\n",
        "print(\"P-value =\", p)"
      ]
    },
    {
      "cell_type": "markdown",
      "metadata": {
        "id": "f7UJKMKQJmiG"
      },
      "source": [
        "Нулевая гипотеза не отвергается при всех адекватных уровнях значимости, значит нет статистической взаимосвязи между оператором и количеством жертв"
      ]
    },
    {
      "cell_type": "markdown",
      "metadata": {
        "id": "McJDv5rETckg"
      },
      "source": [
        "### Соответствие  распределения двух признаков хи-квадрат ###"
      ]
    },
    {
      "cell_type": "markdown",
      "metadata": {
        "id": "qS1UbKfNFkTE"
      },
      "source": [
        "$H_0$: Распределения количества жертв среди пассажиров  и количество жертв среди экипажа совпадают \\\n",
        "$H1$: Распределения количества жертв среди пассажиров  и количество жертв среди экипажа не совпадают"
      ]
    },
    {
      "cell_type": "code",
      "execution_count": null,
      "metadata": {
        "colab": {
          "base_uri": "https://localhost:8080/"
        },
        "id": "g-Lw0oiRJ9IC",
        "outputId": "8d5101e0-34db-4044-ede9-7a2764d41cde"
      },
      "outputs": [
        {
          "name": "stdout",
          "output_type": "stream",
          "text": [
            "Хи-квадрат статистика = 746.9830563111167\n",
            "P-value = 1.7915943108650713e-141\n"
          ]
        }
      ],
      "source": [
        "fatalities_passagers_binned = pd.cut(df_clean_2['Fatalities Passangers_fillna'], bins=[0,10,20,30,40,50,float('inf')])\n",
        "fatalities_crew_binned = pd.cut(df_clean_2['Fatalities Crew_fillna'], bins=[0,2,4,6,8,10,float('inf')])\n",
        "contingency_table = pd.crosstab(fatalities_passagers_binned, fatalities_crew_binned)\n",
        "chi2, p, dof, expected = chi2_contingency(contingency_table)\n",
        "\n",
        "print(\"Хи-квадрат статистика =\", chi2)\n",
        "print(\"P-value =\", p)\n"
      ]
    },
    {
      "cell_type": "markdown",
      "metadata": {
        "id": "-DEtmtH7U27w"
      },
      "source": [
        "При всех адекватных уровнях значимости гипотеза отвергается. Таким образом, распределения не совпадают"
      ]
    }
  ],
  "metadata": {
    "colab": {
      "provenance": []
    },
    "kernelspec": {
      "display_name": "Python 3 (ipykernel)",
      "language": "python",
      "name": "python3"
    },
    "language_info": {
      "codemirror_mode": {
        "name": "ipython",
        "version": 3
      },
      "file_extension": ".py",
      "mimetype": "text/x-python",
      "name": "python",
      "nbconvert_exporter": "python",
      "pygments_lexer": "ipython3",
      "version": "3.11.7"
    }
  },
  "nbformat": 4,
  "nbformat_minor": 0
}
